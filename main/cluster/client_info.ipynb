{
 "cells": [
  {
   "cell_type": "markdown",
   "id": "aaba0265dfcd395d",
   "metadata": {},
   "source": [
    "# 使用kmeans算法对客户信息进行聚类\n",
    "基本流程\n",
    "1. 读取数据\n",
    "2. 数据可视化\n",
    "3. 数据预处理\n",
    "4. 使用kmeans算法对客户信息进行聚类\n",
    "5. 使用轮廓系数来评估聚类效果\n",
    "6. 结果分析"
   ]
  },
  {
   "cell_type": "code",
   "id": "a73aa6ea53307ed2",
   "metadata": {
    "ExecuteTime": {
     "end_time": "2024-04-27T11:53:50.063045Z",
     "start_time": "2024-04-27T11:53:50.057819Z"
    }
   },
   "source": [
    "import pandas as pd\n",
    "import numpy as np\n",
    "import matplotlib.pyplot as plt\n",
    "from sklearn.cluster import KMeans"
   ],
   "outputs": [],
   "execution_count": 3
  },
  {
   "cell_type": "markdown",
   "id": "a8e1165504282412",
   "metadata": {},
   "source": [
    "### 读取数据\n",
    "使用pandas读取数据，可见数据集有112条数据，每条数据包含两个属性:年龄和收入。而且数据集中没有缺失值"
   ]
  },
  {
   "cell_type": "code",
   "id": "1b002930a27927d7",
   "metadata": {
    "ExecuteTime": {
     "end_time": "2024-04-27T11:53:50.408135Z",
     "start_time": "2024-04-27T11:53:50.072357Z"
    }
   },
   "source": [
    "client_data=pd.read_excel('../../dataset/client.xlsx')\n",
    "client_data.rename(columns={'年龄(岁)':'age','收入(万元)':'income'},inplace=True)# 更改列名\n",
    "print(client_data.info())\n",
    "client_data.head()"
   ],
   "outputs": [
    {
     "name": "stdout",
     "output_type": "stream",
     "text": [
      "<class 'pandas.core.frame.DataFrame'>\n",
      "RangeIndex: 112 entries, 0 to 111\n",
      "Data columns (total 2 columns):\n",
      " #   Column  Non-Null Count  Dtype\n",
      "---  ------  --------------  -----\n",
      " 0   age     112 non-null    int64\n",
      " 1   income  112 non-null    int64\n",
      "dtypes: int64(2)\n",
      "memory usage: 1.9 KB\n",
      "None\n"
     ]
    },
    {
     "data": {
      "text/plain": [
       "   age  income\n",
       "0   50      66\n",
       "1   44      51\n",
       "2   30      56\n",
       "3   46      50\n",
       "4   32      50"
      ],
      "text/html": [
       "<div>\n",
       "<style scoped>\n",
       "    .dataframe tbody tr th:only-of-type {\n",
       "        vertical-align: middle;\n",
       "    }\n",
       "\n",
       "    .dataframe tbody tr th {\n",
       "        vertical-align: top;\n",
       "    }\n",
       "\n",
       "    .dataframe thead th {\n",
       "        text-align: right;\n",
       "    }\n",
       "</style>\n",
       "<table border=\"1\" class=\"dataframe\">\n",
       "  <thead>\n",
       "    <tr style=\"text-align: right;\">\n",
       "      <th></th>\n",
       "      <th>age</th>\n",
       "      <th>income</th>\n",
       "    </tr>\n",
       "  </thead>\n",
       "  <tbody>\n",
       "    <tr>\n",
       "      <th>0</th>\n",
       "      <td>50</td>\n",
       "      <td>66</td>\n",
       "    </tr>\n",
       "    <tr>\n",
       "      <th>1</th>\n",
       "      <td>44</td>\n",
       "      <td>51</td>\n",
       "    </tr>\n",
       "    <tr>\n",
       "      <th>2</th>\n",
       "      <td>30</td>\n",
       "      <td>56</td>\n",
       "    </tr>\n",
       "    <tr>\n",
       "      <th>3</th>\n",
       "      <td>46</td>\n",
       "      <td>50</td>\n",
       "    </tr>\n",
       "    <tr>\n",
       "      <th>4</th>\n",
       "      <td>32</td>\n",
       "      <td>50</td>\n",
       "    </tr>\n",
       "  </tbody>\n",
       "</table>\n",
       "</div>"
      ]
     },
     "execution_count": 4,
     "metadata": {},
     "output_type": "execute_result"
    }
   ],
   "execution_count": 4
  },
  {
   "cell_type": "code",
   "id": "388ddbfb9033786f",
   "metadata": {
    "ExecuteTime": {
     "end_time": "2024-04-27T11:53:50.416779Z",
     "start_time": "2024-04-27T11:53:50.409101Z"
    }
   },
   "source": [
    "client_data.describe()"
   ],
   "outputs": [
    {
     "data": {
      "text/plain": [
       "              age      income\n",
       "count  112.000000  112.000000\n",
       "mean    37.187500   43.625000\n",
       "std      8.048872   16.220955\n",
       "min     21.000000   15.000000\n",
       "25%     30.000000   27.750000\n",
       "50%     37.500000   48.500000\n",
       "75%     44.000000   54.250000\n",
       "max     52.000000   74.000000"
      ],
      "text/html": [
       "<div>\n",
       "<style scoped>\n",
       "    .dataframe tbody tr th:only-of-type {\n",
       "        vertical-align: middle;\n",
       "    }\n",
       "\n",
       "    .dataframe tbody tr th {\n",
       "        vertical-align: top;\n",
       "    }\n",
       "\n",
       "    .dataframe thead th {\n",
       "        text-align: right;\n",
       "    }\n",
       "</style>\n",
       "<table border=\"1\" class=\"dataframe\">\n",
       "  <thead>\n",
       "    <tr style=\"text-align: right;\">\n",
       "      <th></th>\n",
       "      <th>age</th>\n",
       "      <th>income</th>\n",
       "    </tr>\n",
       "  </thead>\n",
       "  <tbody>\n",
       "    <tr>\n",
       "      <th>count</th>\n",
       "      <td>112.000000</td>\n",
       "      <td>112.000000</td>\n",
       "    </tr>\n",
       "    <tr>\n",
       "      <th>mean</th>\n",
       "      <td>37.187500</td>\n",
       "      <td>43.625000</td>\n",
       "    </tr>\n",
       "    <tr>\n",
       "      <th>std</th>\n",
       "      <td>8.048872</td>\n",
       "      <td>16.220955</td>\n",
       "    </tr>\n",
       "    <tr>\n",
       "      <th>min</th>\n",
       "      <td>21.000000</td>\n",
       "      <td>15.000000</td>\n",
       "    </tr>\n",
       "    <tr>\n",
       "      <th>25%</th>\n",
       "      <td>30.000000</td>\n",
       "      <td>27.750000</td>\n",
       "    </tr>\n",
       "    <tr>\n",
       "      <th>50%</th>\n",
       "      <td>37.500000</td>\n",
       "      <td>48.500000</td>\n",
       "    </tr>\n",
       "    <tr>\n",
       "      <th>75%</th>\n",
       "      <td>44.000000</td>\n",
       "      <td>54.250000</td>\n",
       "    </tr>\n",
       "    <tr>\n",
       "      <th>max</th>\n",
       "      <td>52.000000</td>\n",
       "      <td>74.000000</td>\n",
       "    </tr>\n",
       "  </tbody>\n",
       "</table>\n",
       "</div>"
      ]
     },
     "execution_count": 5,
     "metadata": {},
     "output_type": "execute_result"
    }
   ],
   "execution_count": 5
  },
  {
   "cell_type": "markdown",
   "id": "87a2291395aee6ff",
   "metadata": {},
   "source": [
    "### 数据可视化\n",
    "绘制散点图，大致观测数据的分布情况,从图中可以看出数据可大致分为两类，后续kmeans中的聚类个数可设置为两类"
   ]
  },
  {
   "cell_type": "code",
   "id": "c0f635c210ff9e8f",
   "metadata": {
    "ExecuteTime": {
     "end_time": "2024-04-27T11:53:50.662890Z",
     "start_time": "2024-04-27T11:53:50.418289Z"
    }
   },
   "source": [
    "plt.figure(figsize=(8,6))\n",
    "plt.title('scatter of client data',fontsize=20)\n",
    "plt.ylabel('income',fontsize=15)\n",
    "plt.xlabel('age',fontsize=15)\n",
    "plt.scatter(client_data['age'],client_data['income'],c='orange',marker='o',label='client')"
   ],
   "outputs": [
    {
     "data": {
      "text/plain": [
       "<matplotlib.collections.PathCollection at 0x1246ac1f0>"
      ]
     },
     "execution_count": 6,
     "metadata": {},
     "output_type": "execute_result"
    },
    {
     "data": {
      "text/plain": [
       "<Figure size 576x432 with 1 Axes>"
      ],
      "image/png": "[encoded data removed]"
     },
     "metadata": {
      "needs_background": "light"
     },
     "output_type": "display_data"
    }
   ],
   "execution_count": 6
  },
  {
   "cell_type": "markdown",
   "id": "33a6bdc4cd956257",
   "metadata": {},
   "source": []
  },
  {
   "cell_type": "markdown",
   "id": "110bcca6b60ab95f",
   "metadata": {},
   "source": [
    "### 数据预处理\n",
    "由于KMeans算法是基于距离的算法，不同的特征尺度可能会影响聚类结果。因此，通常需要对数值特征进行标准化处理，使得所有特征都在同一尺度上。\n",
    "\n",
    "这里使用z-score对特征进行标准化处理，由于年龄和收入均为连续型数据，因此可以直接使用z-score标准化方法。"
   ]
  },
  {
   "cell_type": "code",
   "id": "ae6bc14bc9d79d2c",
   "metadata": {
    "ExecuteTime": {
     "end_time": "2024-04-27T11:53:50.673189Z",
     "start_time": "2024-04-27T11:53:50.667250Z"
    }
   },
   "source": [
    "from sklearn.preprocessing import StandardScaler\n",
    "scaler=StandardScaler()\n",
    "client_data=scaler.fit_transform(client_data[['age','income']])"
   ],
   "outputs": [],
   "execution_count": 7
  },
  {
   "cell_type": "code",
   "id": "1d0fe085513bcc76",
   "metadata": {
    "ExecuteTime": {
     "end_time": "2024-04-27T11:53:50.679589Z",
     "start_time": "2024-04-27T11:53:50.675636Z"
    }
   },
   "source": [
    "print(client_data[:5])"
   ],
   "outputs": [
    {
     "name": "stdout",
     "output_type": "stream",
     "text": [
      "[[ 1.59899225  1.38558814]\n",
      " [ 0.85019588  0.45670223]\n",
      " [-0.89699565  0.76633087]\n",
      " [ 1.09979467  0.39477651]\n",
      " [-0.64739686  0.39477651]]\n"
     ]
    }
   ],
   "execution_count": 8
  },
  {
   "cell_type": "markdown",
   "id": "c623e96245d80bf7",
   "metadata": {},
   "source": [
    "###  使用kmeans算法对客户信息进行聚类\n",
    "设置聚类中心个数为2，初始质心的选择为随机"
   ]
  },
  {
   "cell_type": "code",
   "id": "a187dfd22c7adeeb",
   "metadata": {
    "ExecuteTime": {
     "end_time": "2024-04-27T11:53:50.737502Z",
     "start_time": "2024-04-27T11:53:50.681514Z"
    }
   },
   "source": [
    "model=KMeans(n_clusters=2,init='random',random_state=10).fit(client_data)\n",
    "client_label=model.labels_\n",
    "client_cluster=model.cluster_centers_\n",
    "print(client_label)"
   ],
   "outputs": [
    {
     "name": "stdout",
     "output_type": "stream",
     "text": [
      "[1 1 0 1 0 0 1 0 0 1 1 1 1 0 1 1 1 0 1 1 1 0 0 1 1 1 1 1 0 1 0 1 0 0 1 0 1\n",
      " 1 0 0 1 1 0 1 0 1 0 1 1 0 1 0 1 0 1 1 1 1 0 1 1 0 0 1 0 0 0 0 0 0 0 0 0 0\n",
      " 0 0 0 0 0 0 0 0 0 0 0 0 0 1 1 1 1 1 1 1 1 0 0 0 0 1 1 1 1 1 0 0 0 0 0 0 0\n",
      " 0]\n"
     ]
    }
   ],
   "execution_count": 9
  },
  {
   "cell_type": "code",
   "id": "c39dfaa7f26f567a",
   "metadata": {
    "ExecuteTime": {
     "end_time": "2024-04-27T11:53:50.740726Z",
     "start_time": "2024-04-27T11:53:50.738482Z"
    }
   },
   "source": [
    "print(client_cluster)"
   ],
   "outputs": [
    {
     "name": "stdout",
     "output_type": "stream",
     "text": [
      "[[-0.7846762  -0.68376323]\n",
      " [ 0.90539561  0.78895758]]\n"
     ]
    }
   ],
   "execution_count": 10
  },
  {
   "cell_type": "markdown",
   "id": "31cc52bfb4589fcf",
   "metadata": {},
   "source": [
    "#### 绘制柱状图，将聚类结果可视化"
   ]
  },
  {
   "cell_type": "code",
   "id": "9d87c65a1d1e0d67",
   "metadata": {
    "ExecuteTime": {
     "end_time": "2024-04-27T11:53:50.955646Z",
     "start_time": "2024-04-27T11:53:50.743228Z"
    }
   },
   "source": [
    "from plotnine import *\n",
    "client_label_dataframe=pd.DataFrame({'clusters':client_label})\n",
    "client_label_dataframe['clusters']=client_label_dataframe['clusters'].astype('category')\n",
    "(ggplot(client_label_dataframe,aes(x='clusters'))+geom_bar(fill=['blue','green'])+theme_minimal()+labs(title='client cluster',x='cluster',y='count'))"
   ],
   "outputs": [
    {
     "data": {
      "text/plain": [
       "<Figure size 640x480 with 1 Axes>"
      ],
      "image/png": "[encoded data removed]"
     },
     "metadata": {
      "image/png": {
       "width": 640,
       "height": 480
      },
      "needs_background": "light"
     },
     "output_type": "display_data"
    },
    {
     "data": {
      "text/plain": [
       "<Figure Size: (640 x 480)>"
      ]
     },
     "execution_count": 11,
     "metadata": {},
     "output_type": "execute_result"
    }
   ],
   "execution_count": 11
  },
  {
   "cell_type": "markdown",
   "id": "7a710e4bd9ef08a2",
   "metadata": {},
   "source": [
    "将数据进行逆标准化，展示聚类中心数据。\n",
    "\n",
    "结果分析:\n",
    "- 第一个聚类中心的年龄较小，收入较低 \n",
    "- 第二个聚类中心的年龄较大，收入较高"
   ]
  },
  {
   "cell_type": "code",
   "id": "8b98a2d3f25c9768",
   "metadata": {
    "ExecuteTime": {
     "end_time": "2024-04-27T11:53:50.967080Z",
     "start_time": "2024-04-27T11:53:50.958438Z"
    }
   },
   "source": [
    "central_cluster=pd.DataFrame(client_cluster,columns=['age','income']).copy()\n",
    "central_cluster_inverse=pd.DataFrame(scaler.inverse_transform(central_cluster),columns=['age','income'])\n",
    "central_cluster_inverse"
   ],
   "outputs": [
    {
     "data": {
      "text/plain": [
       "         age     income\n",
       "0  30.900000  32.583333\n",
       "1  44.442308  56.365385"
      ],
      "text/html": [
       "<div>\n",
       "<style scoped>\n",
       "    .dataframe tbody tr th:only-of-type {\n",
       "        vertical-align: middle;\n",
       "    }\n",
       "\n",
       "    .dataframe tbody tr th {\n",
       "        vertical-align: top;\n",
       "    }\n",
       "\n",
       "    .dataframe thead th {\n",
       "        text-align: right;\n",
       "    }\n",
       "</style>\n",
       "<table border=\"1\" class=\"dataframe\">\n",
       "  <thead>\n",
       "    <tr style=\"text-align: right;\">\n",
       "      <th></th>\n",
       "      <th>age</th>\n",
       "      <th>income</th>\n",
       "    </tr>\n",
       "  </thead>\n",
       "  <tbody>\n",
       "    <tr>\n",
       "      <th>0</th>\n",
       "      <td>30.900000</td>\n",
       "      <td>32.583333</td>\n",
       "    </tr>\n",
       "    <tr>\n",
       "      <th>1</th>\n",
       "      <td>44.442308</td>\n",
       "      <td>56.365385</td>\n",
       "    </tr>\n",
       "  </tbody>\n",
       "</table>\n",
       "</div>"
      ]
     },
     "execution_count": 12,
     "metadata": {},
     "output_type": "execute_result"
    }
   ],
   "execution_count": 12
  },
  {
   "cell_type": "markdown",
   "id": "82ab4da8e414e412",
   "metadata": {},
   "source": [
    "### 使用轮廓系数来评估聚类效果\n",
    "对于每个样本，轮廓系数需要计算两个值$a,b$：<br>\n",
    "- $a$:这个样本和同簇内其它样本间的平均距离\n",
    "- $b$:这个样本和距离第二近的簇内所有样本间的平均距离\n",
    "- 单个样本的轮廓系数计算如下：$s = \\frac{b - a}{\\max(a, b)}$     \n",
    "- 所有样本的轮廓系数则由每个样本的轮廓系数求平均得到\n",
    "\n",
    "\n",
    "**轮廓系数取值在-1到1之间，越接近1说明聚类效果越好**"
   ]
  },
  {
   "cell_type": "code",
   "id": "23f9c3ed65cb549",
   "metadata": {
    "ExecuteTime": {
     "end_time": "2024-04-27T11:53:51.195655Z",
     "start_time": "2024-04-27T11:53:50.969159Z"
    }
   },
   "source": [
    "from sklearn import metrics\n",
    "silhouette_score=metrics.silhouette_score(client_data,client_label)\n",
    "print('k为2时，轮廓系数为%.4f'%silhouette_score)\n",
    "\n",
    "for i in range(3,6):\n",
    "    model=KMeans(n_clusters=i,init='random',random_state=10).fit(client_data)\n",
    "    print('当前k为%d时，轮廓系数为%.4f'%(i,metrics.silhouette_score(client_data,model.labels_)))"
   ],
   "outputs": [
    {
     "name": "stdout",
     "output_type": "stream",
     "text": [
      "k为2时，轮廓系数为0.5234\n",
      "当前k为3时，轮廓系数为0.5042\n",
      "当前k为4时，轮廓系数为0.5137\n",
      "当前k为5时，轮廓系数为0.4032\n"
     ]
    }
   ],
   "execution_count": 13
  },
  {
   "cell_type": "code",
   "id": "d0e10db03984e0bb",
   "metadata": {
    "ExecuteTime": {
     "end_time": "2024-04-27T11:53:51.199442Z",
     "start_time": "2024-04-27T11:53:51.197376Z"
    }
   },
   "source": [],
   "outputs": [],
   "execution_count": 13
  }
 ],
 "metadata": {
  "kernelspec": {
   "display_name": "Python [conda env:ml_learn] *",
   "language": "python",
   "name": "conda-env-ml_learn-py"
  },
  "language_info": {
   "codemirror_mode": {
    "name": "ipython",
    "version": 3
   },
   "file_extension": ".py",
   "mimetype": "text/x-python",
   "name": "python",
   "nbconvert_exporter": "python",
   "pygments_lexer": "ipython3",
   "version": "3.9.19"
  },
  "toc": {
   "base_numbering": 1,
   "nav_menu": {},
   "number_sections": true,
   "sideBar": true,
   "skip_h1_title": false,
   "title_cell": "Table of Contents",
   "title_sidebar": "Contents",
   "toc_cell": false,
   "toc_position": {},
   "toc_section_display": true,
   "toc_window_display": false
  }
 },
 "nbformat": 4,
 "nbformat_minor": 5
}
