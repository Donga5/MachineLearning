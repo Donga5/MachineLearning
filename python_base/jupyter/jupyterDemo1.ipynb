{
 "cells": [
  {
   "metadata": {},
   "cell_type": "markdown",
   "source": [
    "## cell\n",
    "cell 有两个状态：编辑状态和选中状态\n",
    "编辑状态->选中状态：按esc\n",
    "选中状态->编辑状态: 按enter\n",
    "\n",
    "运行单元格:ctrl+enter\n",
    "\n",
    "- 代码：运行代码\n",
    "- markdown：格式化\n",
    "\n",
    "### 单元格其他操作\n",
    "在单元格处于选中情况下：\n",
    "- 新增：按b  在下方新增  按a 在上方新增\n",
    "- 删除：双击d  删除当前单元格\n",
    "- 剪切：按x 剪切当前单元格\n",
    "- 复制：按c 复制当前单元格\n",
    "- 撤销：按z 撤销之前的操作\n",
    "- 切换模式：code->markdown 按m  markdown->code 按y<br>\n",
    "\n",
    "\n",
    "![image.png](attachment:image.png)\n",
    "  "
   ]
  },
  {
   "cell_type": "markdown",
   "metadata": {},
   "source": [
    "--- \n",
    "## IPython 运行时间检测\n",
    "(如下面所示，在下面使用markdown的时候，使用html标签表示换行，所有的空白字符会被忽略掉)<br>\n",
    "% 检测一行代码<br>\n",
    "%% 检测多行代码\n",
    "\n",
    "time 代码运行一次 <br>\n",
    "timeit 代码运行多次，得到是一个置信区间"
   ]
  },
  {
   "cell_type": "markdown",
   "metadata": {},
   "source": [
    "#### 检测一行代码"
   ]
  },
  {
   "cell_type": "code",
   "execution_count": null,
   "metadata": {},
   "outputs": [],
   "source": [
    "%time # 运行一次，适合运行时间长的代码\n",
    "%timeit # 运行多次，得到置信区间，适合运行时间短的代码"
   ]
  },
  {
   "cell_type": "code",
   "execution_count": 6,
   "metadata": {},
   "outputs": [],
   "source": [
    "def count_value(num):\n",
    "    result = 0\n",
    "    if num < 0:\n",
    "        return 0\n",
    "    for i in range(0,num):\n",
    "        result += i\n",
    "    return result"
   ]
  },
  {
   "cell_type": "code",
   "execution_count": 8,
   "metadata": {},
   "outputs": [
    {
     "name": "stdout",
     "output_type": "stream",
     "text": [
      "Wall time: 51.3 ms\n"
     ]
    },
    {
     "data": {
      "text/plain": [
       "499999500000"
      ]
     },
     "execution_count": 8,
     "metadata": {},
     "output_type": "execute_result"
    }
   ],
   "source": [
    "%time count_value(1000000) #运行一次"
   ]
  },
  {
   "cell_type": "code",
   "execution_count": 10,
   "metadata": {},
   "outputs": [
    {
     "name": "stdout",
     "output_type": "stream",
     "text": [
      "50.2 ms ± 365 µs per loop (mean ± std. dev. of 7 runs, 10 loops each)\n"
     ]
    }
   ],
   "source": [
    "%timeit count_value(1000000)# 运行多次"
   ]
  },
  {
   "cell_type": "markdown",
   "metadata": {},
   "source": [
    "#### 检测多行代码"
   ]
  },
  {
   "cell_type": "code",
   "execution_count": 12,
   "metadata": {},
   "outputs": [
    {
     "name": "stderr",
     "output_type": "stream",
     "text": [
      "UsageError: %%timeit is a cell magic, but the cell body is empty. Did you mean the line magic %timeit (single %)?\n"
     ]
    }
   ],
   "source": [
    "%%time\n",
    "%%timeit"
   ]
  },
  {
   "cell_type": "code",
   "execution_count": 16,
   "metadata": {},
   "outputs": [
    {
     "name": "stdout",
     "output_type": "stream",
     "text": [
      "Wall time: 55 ms\n"
     ]
    },
    {
     "data": {
      "text/plain": [
       "499999500000"
      ]
     },
     "execution_count": 16,
     "metadata": {},
     "output_type": "execute_result"
    }
   ],
   "source": [
    "%%time   # 该行代码必须放到当前cell开头\n",
    "count_value(10000)\n",
    "count_value(100000)\n",
    "count_value(1000000)"
   ]
  },
  {
   "cell_type": "code",
   "execution_count": 17,
   "metadata": {},
   "outputs": [
    {
     "name": "stdout",
     "output_type": "stream",
     "text": [
      "55.3 ms ± 331 µs per loop (mean ± std. dev. of 7 runs, 10 loops each)\n"
     ]
    }
   ],
   "source": [
    "%%timeit\n",
    "count_value(10000)\n",
    "count_value(100000)\n",
    "count_value(1000000)"
   ]
  }
 ],
 "metadata": {
  "kernelspec": {
   "display_name": "Python 3",
   "language": "python",
   "name": "python3"
  },
  "language_info": {
   "codemirror_mode": {
    "name": "ipython",
    "version": 3
   },
   "file_extension": ".py",
   "mimetype": "text/x-python",
   "name": "python",
   "nbconvert_exporter": "python",
   "pygments_lexer": "ipython3",
   "version": "3.7.6"
  }
 },
 "nbformat": 4,
 "nbformat_minor": 4
}
