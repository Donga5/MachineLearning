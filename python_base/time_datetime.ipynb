{
 "cells": [
  {
   "metadata": {
    "ExecuteTime": {
     "end_time": "2024-04-20T12:12:12.746214Z",
     "start_time": "2024-04-20T12:12:12.743962Z"
    }
   },
   "cell_type": "code",
   "source": [
    "import time \n",
    "import datetime"
   ],
   "id": "71ce15e5d4143e40",
   "outputs": [],
   "execution_count": 1
  },
  {
   "metadata": {},
   "cell_type": "code",
   "outputs": [],
   "execution_count": null,
   "source": "",
   "id": "10fd6349f668b14f"
  },
  {
   "metadata": {},
   "cell_type": "markdown",
   "source": [
    "# time模块\n",
    "不牵扯时区的问题,便于计算\n",
    "- a、timestamp时间戳，时间戳表示的是从1970年1月1日00:00:00开始按秒计算的偏移量\n",
    "\n",
    "- b、struct_time时间元组，共有九个元素组。\n",
    "\n",
    "- c、format time 格式化时间，已格式化的结构使时间更具可读性。包括自定义格式和固定格式。\n",
    "\n",
    "1、时间格式转换图：\n",
    "\n",
    "<img src=\"./img/20220413230207.png\" width=\"30%\">\n",
    "\n",
    "主要time生成方法和time格式转换方法实例："
   ],
   "id": "75cf5c1ce1457f9c"
  },
  {
   "metadata": {
    "ExecuteTime": {
     "end_time": "2024-04-20T12:14:51.378855Z",
     "start_time": "2024-04-20T12:14:51.373480Z"
    }
   },
   "cell_type": "code",
   "source": [
    "print(time.time())\n",
    "int(time.time())"
   ],
   "id": "fffc3821237b7aaa",
   "outputs": [
    {
     "name": "stdout",
     "output_type": "stream",
     "text": [
      "1713615291.374819\n"
     ]
    },
    {
     "data": {
      "text/plain": [
       "1713615291"
      ]
     },
     "execution_count": 5,
     "metadata": {},
     "output_type": "execute_result"
    }
   ],
   "execution_count": 5
  },
  {
   "metadata": {
    "ExecuteTime": {
     "end_time": "2024-04-20T12:17:22.696264Z",
     "start_time": "2024-04-20T12:17:18.473532Z"
    }
   },
   "cell_type": "code",
   "source": [
    "# 计算程序的运行时间\n",
    "start_time=time.time()\n",
    "\n",
    "a=1\n",
    "for i in range(pow(10,8)):\n",
    "    a=a+1\n",
    "\n",
    "end_time=time.time()\n",
    "print('运行时间:',int(end_time-start_time))"
   ],
   "id": "e4412b29a86763d",
   "outputs": [
    {
     "name": "stdout",
     "output_type": "stream",
     "text": [
      "运行时间: 4\n"
     ]
    }
   ],
   "execution_count": 10
  },
  {
   "metadata": {},
   "cell_type": "markdown",
   "source": "struct_time",
   "id": "f0d40253acd29d4"
  },
  {
   "metadata": {
    "ExecuteTime": {
     "end_time": "2024-04-20T12:18:41.233373Z",
     "start_time": "2024-04-20T12:18:41.230623Z"
    }
   },
   "cell_type": "code",
   "source": [
    "t=time.localtime()\n",
    "print(type(t))\n",
    "print(t.tm_year)\n",
    "print(t.tm_mon)\n",
    "print(t.tm_mday)"
   ],
   "id": "604daf6dc0fff4ee",
   "outputs": [
    {
     "name": "stdout",
     "output_type": "stream",
     "text": [
      "<class 'time.struct_time'>\n",
      "2024\n",
      "4\n",
      "20\n"
     ]
    }
   ],
   "execution_count": 13
  },
  {
   "metadata": {
    "ExecuteTime": {
     "end_time": "2024-04-20T12:19:20.304202Z",
     "start_time": "2024-04-20T12:19:20.299297Z"
    }
   },
   "cell_type": "code",
   "source": [
    "#timestamp -> time_struct\n",
    "time.localtime(1650177058)"
   ],
   "id": "1018df948bed0f23",
   "outputs": [
    {
     "data": {
      "text/plain": [
       "time.struct_time(tm_year=2022, tm_mon=4, tm_mday=17, tm_hour=14, tm_min=30, tm_sec=58, tm_wday=6, tm_yday=107, tm_isdst=0)"
      ]
     },
     "execution_count": 14,
     "metadata": {},
     "output_type": "execute_result"
    }
   ],
   "execution_count": 14
  },
  {
   "metadata": {
    "ExecuteTime": {
     "end_time": "2024-04-20T12:20:31.962513Z",
     "start_time": "2024-04-20T12:20:31.954533Z"
    }
   },
   "cell_type": "code",
   "source": [
    "# 格式化字符串 -> struct_time\n",
    "time.strptime('2024-04-04 16:23:02','%Y-%m-%d %X')"
   ],
   "id": "e856f7a7a0e14f12",
   "outputs": [
    {
     "data": {
      "text/plain": [
       "time.struct_time(tm_year=2024, tm_mon=4, tm_mday=4, tm_hour=16, tm_min=23, tm_sec=2, tm_wday=3, tm_yday=95, tm_isdst=-1)"
      ]
     },
     "execution_count": 15,
     "metadata": {},
     "output_type": "execute_result"
    }
   ],
   "execution_count": 15
  },
  {
   "metadata": {
    "ExecuteTime": {
     "end_time": "2024-04-20T12:21:55.011946Z",
     "start_time": "2024-04-20T12:21:55.004637Z"
    }
   },
   "cell_type": "code",
   "source": [
    "# time_struct -> timestamp\n",
    "time.mktime(time.strptime('2024-04-04 16:23:02','%Y-%m-%d %X'))"
   ],
   "id": "d39172989ec7f707",
   "outputs": [
    {
     "data": {
      "text/plain": [
       "1712218982.0"
      ]
     },
     "execution_count": 16,
     "metadata": {},
     "output_type": "execute_result"
    }
   ],
   "execution_count": 16
  },
  {
   "metadata": {
    "ExecuteTime": {
     "end_time": "2024-04-20T12:23:33.849163Z",
     "start_time": "2024-04-20T12:23:33.844022Z"
    }
   },
   "cell_type": "code",
   "source": [
    "# time_struct -> 字符串\n",
    "time.strftime('%Y-%m-%d',time.localtime())\n",
    "time.strftime('%m-%d',time.localtime())"
   ],
   "id": "c52c4b6f112e146a",
   "outputs": [
    {
     "data": {
      "text/plain": [
       "'04-20'"
      ]
     },
     "execution_count": 18,
     "metadata": {},
     "output_type": "execute_result"
    }
   ],
   "execution_count": 18
  },
  {
   "metadata": {},
   "cell_type": "markdown",
   "source": [
    "## struct_time元组元素结构\n",
    "\n",
    "属性                            值\n",
    "- tm_year（年）                  比如2011 \n",
    "- tm_mon（月）                   1 - 12\n",
    "- tm_mday（日）                  1 - 31\n",
    "- tm_hour（时）                  0 - 23\n",
    "- tm_min（分）                   0 - 59\n",
    "- tm_sec（秒）                   0 - 61\n",
    "- tm_wday（weekday）             0 - 6（0表示周日）\n",
    "- tm_yday（一年中的第几天）        1 - 366\n",
    "- tm_isdst（是否是夏令时）        默认为-1\n",
    "\n",
    "作用:\n",
    "- 取得 时间戳/时间格式的字符串 中对应的 年/月/日等信息\n",
    "- 作为时间戳和字符串时间之间的桥梁"
   ],
   "id": "6929ef6a1ce603a6"
  },
  {
   "metadata": {
    "ExecuteTime": {
     "end_time": "2024-04-20T12:25:00.400219Z",
     "start_time": "2024-04-20T12:25:00.395125Z"
    }
   },
   "cell_type": "code",
   "source": [
    "time_stuct = time.strptime('2011-05-07 16:37:06', '%Y-%m-%d %X')\n",
    "print(time_stuct.tm_year)\n",
    "print(time_stuct.tm_mon)\n",
    "print(time_stuct.tm_mday)\n",
    "print(time_stuct.tm_hour)\n",
    "print(time_stuct.tm_min)"
   ],
   "id": "2f8343763d904209",
   "outputs": [
    {
     "name": "stdout",
     "output_type": "stream",
     "text": [
      "2011\n",
      "5\n",
      "7\n",
      "16\n",
      "37\n"
     ]
    }
   ],
   "execution_count": 20
  },
  {
   "metadata": {},
   "cell_type": "markdown",
   "source": [
    "## format time结构化表示\n",
    "\n",
    "格式 \t含义\n",
    "\n",
    "- %Y -年[0001，...，2018，2019，...，9999]\n",
    "- %m -月[01，02，...，11，12]\n",
    "- %d -天[01，02，...，30，31]\n",
    "- %H -小时[00，01，...，22，23\n",
    "- %M -分钟[00，01，...，58，59]\n",
    "- %S -秒[00，01，...，58，61]\n",
    "- %X \t本地相应时间\n",
    "- %y \t去掉世纪的年份（00 - 99）"
   ],
   "id": "68b73fa36e610261"
  },
  {
   "metadata": {
    "ExecuteTime": {
     "end_time": "2024-04-20T12:26:02.140639Z",
     "start_time": "2024-04-20T12:26:02.134228Z"
    }
   },
   "cell_type": "code",
   "source": "time.strftime('%y-%m-%d')",
   "id": "e91eb697207e9f90",
   "outputs": [
    {
     "data": {
      "text/plain": [
       "'24-04-20'"
      ]
     },
     "execution_count": 21,
     "metadata": {},
     "output_type": "execute_result"
    }
   ],
   "execution_count": 21
  },
  {
   "metadata": {
    "ExecuteTime": {
     "end_time": "2024-04-20T12:26:21.881508Z",
     "start_time": "2024-04-20T12:26:21.875973Z"
    }
   },
   "cell_type": "code",
   "source": "time.strftime('%Y-%m-%d %X')",
   "id": "397487fd0a6974c9",
   "outputs": [
    {
     "data": {
      "text/plain": [
       "'2024-04-20 20:26:21'"
      ]
     },
     "execution_count": 22,
     "metadata": {},
     "output_type": "execute_result"
    }
   ],
   "execution_count": 22
  },
  {
   "metadata": {
    "ExecuteTime": {
     "end_time": "2024-04-20T12:28:27.977730Z",
     "start_time": "2024-04-20T12:28:27.970573Z"
    }
   },
   "cell_type": "code",
   "source": [
    "# test1\n",
    "t1=time.time()\n",
    "t1=t1+60*60*24 # 明天的这个时候的时间\n",
    "print(time.strftime('%Y/%m/%d %X',time.localtime(t1)))"
   ],
   "id": "4baf1361c9e6307",
   "outputs": [
    {
     "name": "stdout",
     "output_type": "stream",
     "text": [
      "2024/04/21 20:28:27\n"
     ]
    }
   ],
   "execution_count": 24
  },
  {
   "metadata": {
    "ExecuteTime": {
     "end_time": "2024-04-20T12:30:07.873240Z",
     "start_time": "2024-04-20T12:29:57.827677Z"
    }
   },
   "cell_type": "code",
   "source": [
    "# test2,倒计时\n",
    "for i in range(10):\n",
    "    print('\\r','%s 秒!' % (5-i),end='')\n",
    "    time.sleep(1)\n"
   ],
   "id": "6aa87c14f45a7e73",
   "outputs": [
    {
     "name": "stdout",
     "output_type": "stream",
     "text": [
      " -4 秒!"
     ]
    }
   ],
   "execution_count": 29
  },
  {
   "metadata": {},
   "cell_type": "markdown",
   "source": [
    "# datetime模块\n",
    "datatime模块重新封装了time模块，提供更多接口，提供的类有：date,time,datetime,timedelta,tzinfo"
   ],
   "id": "db84072636231b4c"
  },
  {
   "metadata": {
    "ExecuteTime": {
     "end_time": "2024-04-20T12:31:32.852201Z",
     "start_time": "2024-04-20T12:31:32.848432Z"
    }
   },
   "cell_type": "code",
   "source": "import datetime",
   "id": "946eaa7e450ae2eb",
   "outputs": [],
   "execution_count": 30
  },
  {
   "metadata": {},
   "cell_type": "markdown",
   "source": [
    "### 1.date类\n",
    "`datetime.date(year, month, day)`\n",
    "\n",
    "静态方法和字段\n",
    "\n",
    "- date.today()：返回一个表示当前本地日期的date对象；\n",
    "- date.fromtimestamp(timestamp)：根据给定的时间戮，返回一个date对象；\n",
    "\n",
    "\n",
    "### 方法和属性\n",
    "`d1 = date(2011,06,03) #date对象`\n",
    "- d1.year、date.month、date.day：年、月、日；\n",
    "- d1.replace(year, month, day)：生成一个新的日期对象，用参数指定的年，月，日代替原有对象中的属性。（原有对象仍保持不变）\n",
    "- d1.timetuple()：返回日期对应的time.struct_time对象；\n",
    "- d1.weekday()：返回weekday，如果是星期一，返回0；如果是星期2，返回1，以此类推；\n",
    "- d1.isoweekday()：返回weekday，如果是星期一，返回1；如果是星期2，返回2，以此类推；\n",
    "- d1.isoformat()：返回格式如'YYYY-MM-DD’的字符串；\n",
    "- d1.strftime(fmt)：和time模块format相同。"
   ],
   "id": "4f937fee50822b18"
  },
  {
   "metadata": {
    "ExecuteTime": {
     "end_time": "2024-04-20T12:33:16.526640Z",
     "start_time": "2024-04-20T12:33:16.523582Z"
    }
   },
   "cell_type": "code",
   "source": [
    "from datetime import date \n",
    "import time\n",
    "print(date.today())\n",
    "print(type(date.today()))\n",
    "print(date.fromtimestamp(time.time()))"
   ],
   "id": "226b9c5cbef0d8a6",
   "outputs": [
    {
     "name": "stdout",
     "output_type": "stream",
     "text": [
      "2024-04-20\n",
      "<class 'datetime.date'>\n",
      "2024-04-20\n"
     ]
    }
   ],
   "execution_count": 34
  },
  {
   "metadata": {
    "ExecuteTime": {
     "end_time": "2024-04-20T12:34:46.048667Z",
     "start_time": "2024-04-20T12:34:46.042347Z"
    }
   },
   "cell_type": "code",
   "source": [
    "d=date.today()\n",
    "print(d.year,d.month,d.day)"
   ],
   "id": "e5d2fe09aa1eeda2",
   "outputs": [
    {
     "name": "stdout",
     "output_type": "stream",
     "text": [
      "2024 4 20\n"
     ]
    }
   ],
   "execution_count": 36
  },
  {
   "metadata": {
    "ExecuteTime": {
     "end_time": "2024-04-20T12:35:28.701258Z",
     "start_time": "2024-04-20T12:35:28.697226Z"
    }
   },
   "cell_type": "code",
   "source": [
    "# 生成新的日期对象\n",
    "d1=d.replace(day=10)\n",
    "print(d1)"
   ],
   "id": "4eb5930f353ad210",
   "outputs": [
    {
     "name": "stdout",
     "output_type": "stream",
     "text": [
      "2024-04-10\n"
     ]
    }
   ],
   "execution_count": 37
  },
  {
   "metadata": {
    "ExecuteTime": {
     "end_time": "2024-04-20T12:36:59.099865Z",
     "start_time": "2024-04-20T12:36:59.096415Z"
    }
   },
   "cell_type": "code",
   "source": [
    "print(d.weekday())\n",
    "print(d.isoweekday())\n",
    "print(d.isoformat())\n",
    "print(d.strftime('%Y/%m/%d')) #指定格式进行输出"
   ],
   "id": "e05c24a1540e5183",
   "outputs": [
    {
     "name": "stdout",
     "output_type": "stream",
     "text": [
      "5\n",
      "6\n",
      "2024-04-20\n",
      "2024/04/20\n"
     ]
    }
   ],
   "execution_count": 42
  },
  {
   "metadata": {},
   "cell_type": "markdown",
   "source": [
    "## datetime类\n",
    "\n",
    "datetime相当于date和time结合起来。\n",
    "\n",
    "`datetime.datetime (year, month, day[ , hour[ , minute[ , second[ , microsecond[ , tzinfo] ] ] ] ] )`\n",
    "\n",
    "#### 静态方法\n",
    "- datetime.today()：返回一个表示当前本地时间的datetime对象；\n",
    "- datetime.now([tz])：返回一个表示当前本地时间的datetime对象，如果提供了参数tz，则获取tz参数所指时区的本地时间；\n",
    "- datetime.fromtimestamp(timestamp[, tz])：根据时间戮创建一个datetime对象，参数tz指定时区信息；\n",
    "- datetime.strptime(date_string, format)：将格式字符串转换为datetime对象；"
   ],
   "id": "7c9250420aa11c92"
  },
  {
   "metadata": {
    "ExecuteTime": {
     "end_time": "2024-04-20T12:40:05.892092Z",
     "start_time": "2024-04-20T12:40:05.888023Z"
    }
   },
   "cell_type": "code",
   "source": [
    "from datetime import datetime\n",
    "d=datetime.now()\n",
    "print(d)\n",
    "print(d.strftime('%Y-%m-%d %X'))\n",
    "print(d.strftime('%H-%M'))"
   ],
   "id": "12b1bfe0fd313728",
   "outputs": [
    {
     "name": "stdout",
     "output_type": "stream",
     "text": [
      "2024-04-20 20:40:05.890121\n",
      "2024-04-20 20:40:05\n",
      "20-40\n"
     ]
    }
   ],
   "execution_count": 45
  },
  {
   "metadata": {
    "ExecuteTime": {
     "end_time": "2024-04-20T12:41:07.245199Z",
     "start_time": "2024-04-20T12:41:07.204343Z"
    }
   },
   "cell_type": "code",
   "source": [
    "# '2021-11-25 10:23' ,使用strptime 将字符串转datetime\n",
    "my_str = '2021-11-10 10:23'\n",
    "print(datetime.strptime(my_str,'%Y-%m-%d %H:%M'))\n",
    "\n",
    "# 需要注意,将字符串转化为datetime数据类型,格式需要统一.\n",
    "my_str = '10/11/2021 10:23'\n",
    "datetime.strptime(my_str,'%d/%m/%Y %H:%M')"
   ],
   "id": "4d0b9ded14030594",
   "outputs": [
    {
     "name": "stdout",
     "output_type": "stream",
     "text": [
      "2021-11-10 10:23:00\n"
     ]
    },
    {
     "data": {
      "text/plain": [
       "datetime.datetime(2021, 11, 10, 10, 23)"
      ]
     },
     "execution_count": 46,
     "metadata": {},
     "output_type": "execute_result"
    }
   ],
   "execution_count": 46
  },
  {
   "metadata": {},
   "cell_type": "markdown",
   "source": [
    "## timedelta类，时间加减\n",
    "\n",
    "使用timedelta可以很方便的在日期上做天days，小时hour，分钟，秒，毫秒，微妙的时间计算，如果要计算月份则需要另外的办法"
   ],
   "id": "f665f044addbe819"
  },
  {
   "metadata": {
    "ExecuteTime": {
     "end_time": "2024-04-20T12:43:46.700835Z",
     "start_time": "2024-04-20T12:43:46.697831Z"
    }
   },
   "cell_type": "code",
   "source": [
    "from datetime import datetime\n",
    "from datetime import timedelta\n",
    "\n",
    "dt=datetime.now()\n",
    "print(dt)\n",
    "\n",
    "dt_1=dt+timedelta(days=-1)\n",
    "print(dt_1)\n",
    "\n",
    "dt_2=dt+timedelta(days=1)\n",
    "print(dt_2)"
   ],
   "id": "4969b02e2b21ff98",
   "outputs": [
    {
     "name": "stdout",
     "output_type": "stream",
     "text": [
      "2024-04-20 20:43:46.698910\n",
      "2024-04-19 20:43:46.698910\n",
      "2024-04-21 20:43:46.698910\n"
     ]
    }
   ],
   "execution_count": 50
  },
  {
   "metadata": {
    "ExecuteTime": {
     "end_time": "2024-04-20T12:44:29.421329Z",
     "start_time": "2024-04-20T12:44:29.415756Z"
    }
   },
   "cell_type": "code",
   "source": [
    "s=dt_2-dt\n",
    "print(type(s))\n",
    "print(s.days)\n",
    "print(s.total_seconds())"
   ],
   "id": "b83cef788ffa83f1",
   "outputs": [
    {
     "name": "stdout",
     "output_type": "stream",
     "text": [
      "<class 'datetime.timedelta'>\n",
      "1\n",
      "86400.0\n"
     ]
    }
   ],
   "execution_count": 51
  },
  {
   "metadata": {},
   "cell_type": "code",
   "outputs": [],
   "execution_count": null,
   "source": "",
   "id": "289a64459384fd94"
  }
 ],
 "metadata": {
  "kernelspec": {
   "display_name": "Python [conda env:ml_learn] *",
   "language": "python",
   "name": "conda-env-ml_learn-py"
  },
  "language_info": {
   "codemirror_mode": {
    "name": "ipython",
    "version": 2
   },
   "file_extension": ".py",
   "mimetype": "text/x-python",
   "name": "python",
   "nbconvert_exporter": "python",
   "pygments_lexer": "ipython2",
   "version": "2.7.6"
  }
 },
 "nbformat": 4,
 "nbformat_minor": 5
}
