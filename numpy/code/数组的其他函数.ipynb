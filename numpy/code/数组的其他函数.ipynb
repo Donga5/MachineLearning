{
 "cells": [
  {
   "cell_type": "code",
   "execution_count": 1,
   "metadata": {},
   "outputs": [],
   "source": [
    "import numpy as np"
   ]
  },
  {
   "cell_type": "markdown",
   "metadata": {},
   "source": [
    "\n",
    "# 数组的其他函数\n",
    "\n",
    "主要有以下方法:\n",
    "\n",
    "| 函数名称 | 描述说明                                                     |\n",
    "| :-------- | :------------------------------------------------------------ |\n",
    "| resize   | 返回指定形状的新数组。                                       |\n",
    "| append   | 将元素值添加到数组的末尾。                                   |\n",
    "| insert   | 沿规定的轴将元素值插入到指定的元素前。                       |\n",
    "| delete   | 删掉某个轴上的子数组，并返回删除后的新数组。                 |\n",
    "| argwhere | 返回数组内符合条件的元素的索引值。                           |\n",
    "| unique   | 用于删除数组中重复的元素，并按元素值由大到小返回一个新数组。 |\n",
    "| sort()   | 对输入数组执行排序，并返回一个数组副本                       |\n",
    "| argsort  | 沿着指定的轴，对输入数组的元素值进行排序，并返回排序后的元素索引数组 |"
   ]
  },
  {
   "cell_type": "markdown",
   "metadata": {},
   "source": [
    "#### numpy.resize()\n",
    "\n",
    "`numpy.resize(arr, shape)`\n",
    "\n",
    "numpy.resize() 返回指定形状的新数组。\n",
    "\n",
    "numpy.resize(arr,shape) 和ndarray.resize(shape, refcheck=False)区别:\n",
    "- numpy.resize(arr,shape),有返回值,返回复制内容.如果维度不够,会使用原数组数据补齐\n",
    "- ndarray.resize(shape, refcheck=False),修改原数组,不会返回数据,如果维度不够,会使用0补齐"
   ]
  },
  {
   "cell_type": "markdown",
   "metadata": {},
   "source": [
    "### numpy.append()\n",
    "在数组的末尾添加值，默认返回一个一维数组。\n",
    "\n",
    "`numpy.append(arr, values, axis=None)`\n",
    "\n",
    "参数说明：\n",
    "\n",
    "- arr：输入的数组；\n",
    "- values：向 arr 数组中添加的值，需要和 arr 数组的形状保持一致；\n",
    "- axis：默认为 None，返回的是一维数组；当 axis =0 时，追加的值会被添加到行，而列数保持不变，若 axis=1 则与其恰好相反。\n",
    "\n"
   ]
  },
  {
   "cell_type": "code",
   "execution_count": 2,
   "metadata": {},
   "outputs": [
    {
     "name": "stdout",
     "output_type": "stream",
     "text": [
      "[[0 1 2 3 4]\n",
      " [5 6 7 8 9]]\n"
     ]
    }
   ],
   "source": [
    "a=np.arange(10).reshape((2,5))\n",
    "print(a)"
   ]
  },
  {
   "cell_type": "code",
   "execution_count": 4,
   "metadata": {},
   "outputs": [
    {
     "data": {
      "text/plain": [
       "array([0, 1, 2, 3, 4, 5, 6, 7, 8, 9, 2])"
      ]
     },
     "execution_count": 4,
     "metadata": {},
     "output_type": "execute_result"
    }
   ],
   "source": [
    "np.append(a,2)# 不指定axis的时候，会把原来的数组转换成以为一维,然后加到组后"
   ]
  },
  {
   "cell_type": "code",
   "execution_count": 35,
   "metadata": {},
   "outputs": [
    {
     "name": "stdout",
     "output_type": "stream",
     "text": [
      "[0 1 2 3 4]\n",
      "[[0 1 2 3 4]\n",
      " [5 6 7 8 9]\n",
      " [0 1 2 3 4]]\n"
     ]
    }
   ],
   "source": [
    "a=np.arange(10).reshape((2,5))\n",
    "data=np.arange(5)\n",
    "print(data)\n",
    "\n",
    "# 当指定axis参数的时候维度和原来保持一致\n",
    "\n",
    "# 0表示第0个轴，在二位中也就是行轴。列的纬度要保持一致\n",
    "print(np.append(a,[data],axis=0))"
   ]
  },
  {
   "cell_type": "code",
   "execution_count": 40,
   "metadata": {},
   "outputs": [
    {
     "name": "stdout",
     "output_type": "stream",
     "text": [
      "[[0 1 2 3 4]\n",
      " [5 6 7 8 9]]\n",
      "[[0 1 2 3 4 0 1 2 3]\n",
      " [5 6 7 8 9 1 2 3 4]]\n"
     ]
    }
   ],
   "source": [
    "print(a)\n",
    "# 行的纬度要保持一致\n",
    "print(np.append(a,[[0,1,2,3],[1,2,3,4]],axis=1))# 返回一个新的数组"
   ]
  },
  {
   "cell_type": "markdown",
   "metadata": {},
   "source": [
    "#### numpy.insert()\n",
    "表示沿指定的轴，在给定索引值的前一个位置插入相应的值，如果没有提供轴，则输入数组被展开为一维数组。\n",
    "\n",
    "`numpy.insert(arr, obj, values, axis)`\n",
    "\n",
    "参数说明：\n",
    "\n",
    "- arr：要输入的数组\n",
    "- obj：表示索引值，在该索引值之前插入 values 值；\n",
    "- values：要插入的值；\n",
    "- axis：指定的轴，如果未提供，则输入数组会被展开为一维数组。\n"
   ]
  },
  {
   "cell_type": "code",
   "execution_count": 43,
   "metadata": {},
   "outputs": [
    {
     "name": "stdout",
     "output_type": "stream",
     "text": [
      "[[1 2]\n",
      " [3 4]\n",
      " [5 6]]\n"
     ]
    }
   ],
   "source": [
    "a=np.array([[1,2],[3,4],[5,6]])\n",
    "print(a)"
   ]
  },
  {
   "cell_type": "code",
   "execution_count": 45,
   "metadata": {},
   "outputs": [
    {
     "data": {
      "text/plain": [
       "array([  1,   2,   3, 888,   4,   5,   6])"
      ]
     },
     "execution_count": 45,
     "metadata": {},
     "output_type": "execute_result"
    }
   ],
   "source": [
    "np.insert(a,3,888) # 展开成一维数组，在指定的索引前面进行添加"
   ]
  },
  {
   "cell_type": "code",
   "execution_count": 47,
   "metadata": {},
   "outputs": [
    {
     "data": {
      "text/plain": [
       "array([ 1, 11, 12,  2,  3,  4,  5,  6])"
      ]
     },
     "execution_count": 47,
     "metadata": {},
     "output_type": "execute_result"
    }
   ],
   "source": [
    "np.insert(a,1,[11,12])"
   ]
  },
  {
   "cell_type": "code",
   "execution_count": 50,
   "metadata": {},
   "outputs": [
    {
     "data": {
      "text/plain": [
       "array([[ 1, 11,  2],\n",
       "       [ 3, 11,  4],\n",
       "       [ 5, 11,  6]])"
      ]
     },
     "execution_count": 50,
     "metadata": {},
     "output_type": "execute_result"
    }
   ],
   "source": [
    "np.insert(a,1,11,axis=1) # 在列的方向上进行添加，使用给定的数据进行填充,此时纬度要么是1，要么必须和原来一致"
   ]
  },
  {
   "cell_type": "code",
   "execution_count": 53,
   "metadata": {},
   "outputs": [
    {
     "data": {
      "text/plain": [
       "array([[ 1, 11,  2],\n",
       "       [ 3, 12,  4],\n",
       "       [ 5, 12,  6]])"
      ]
     },
     "execution_count": 53,
     "metadata": {},
     "output_type": "execute_result"
    }
   ],
   "source": [
    "np.insert(a,1,[11,12,12],axis=1)"
   ]
  },
  {
   "cell_type": "code",
   "execution_count": 56,
   "metadata": {},
   "outputs": [
    {
     "data": {
      "text/plain": [
       "array([[ 1, 11,  2,  2],\n",
       "       [ 3, 12, 22,  4],\n",
       "       [ 5, 12,  2,  6]])"
      ]
     },
     "execution_count": 56,
     "metadata": {},
     "output_type": "execute_result"
    }
   ],
   "source": [
    "np.insert(a,1,[[11,12,12],[2,22,2]],axis=1) # 基于广播机制 "
   ]
  },
  {
   "cell_type": "markdown",
   "metadata": {},
   "source": [
    "#### numpy.delete()\n",
    "该方法表示从输入数组中删除指定的子数组，并返回一个新数组。它与 insert() 函数相似，若不提供 axis 参数，则输入数组被展开为一维数组。\n",
    "`numpy.delete(arr, obj, axis)`\n",
    "参数说明：\n",
    "\n",
    "- arr：要输入的数组；\n",
    "- obj：整数或者整数数组，表示要被删除数组元素或者子数组；\n",
    "- axis：沿着哪条轴删除子数组。\n"
   ]
  },
  {
   "cell_type": "code",
   "execution_count": 60,
   "metadata": {},
   "outputs": [
    {
     "name": "stdout",
     "output_type": "stream",
     "text": [
      "[[1 2]\n",
      " [3 4]\n",
      " [5 6]]\n"
     ]
    }
   ],
   "source": [
    "a=np.array([[1,2],[3,4],[5,6]])\n",
    "print(a)"
   ]
  },
  {
   "cell_type": "code",
   "execution_count": 59,
   "metadata": {},
   "outputs": [
    {
     "data": {
      "text/plain": [
       "array([1, 2, 4, 5, 6])"
      ]
     },
     "execution_count": 59,
     "metadata": {},
     "output_type": "execute_result"
    }
   ],
   "source": [
    "np.delete(a,2)# 删除第三个元素"
   ]
  },
  {
   "cell_type": "code",
   "execution_count": 62,
   "metadata": {},
   "outputs": [
    {
     "data": {
      "text/plain": [
       "array([[1],\n",
       "       [3],\n",
       "       [5]])"
      ]
     },
     "execution_count": 62,
     "metadata": {},
     "output_type": "execute_result"
    }
   ],
   "source": [
    "np.delete(a,1,axis=1)# 删除第一列"
   ]
  },
  {
   "cell_type": "code",
   "execution_count": 64,
   "metadata": {},
   "outputs": [
    {
     "data": {
      "text/plain": [
       "array([[1, 2],\n",
       "       [3, 4]])"
      ]
     },
     "execution_count": 64,
     "metadata": {},
     "output_type": "execute_result"
    }
   ],
   "source": [
    "np.delete(a,2,axis=0)# 删除第三行"
   ]
  },
  {
   "cell_type": "code",
   "execution_count": 67,
   "metadata": {},
   "outputs": [
    {
     "data": {
      "text/plain": [
       "array([[5, 6]])"
      ]
     },
     "execution_count": 67,
     "metadata": {},
     "output_type": "execute_result"
    }
   ],
   "source": [
    "\n",
    "np.delete(a,[0,1],axis=0)# 删除多行"
   ]
  },
  {
   "cell_type": "markdown",
   "metadata": {},
   "source": [
    "#### 其他操作"
   ]
  },
  {
   "cell_type": "code",
   "execution_count": 70,
   "metadata": {},
   "outputs": [
    {
     "name": "stdout",
     "output_type": "stream",
     "text": [
      "slice(1, 4, None)\n",
      "[1 2 3 4]\n",
      "[[1]\n",
      " [2]\n",
      " [3]]\n",
      "[[0]\n",
      " [1]\n",
      " [2]\n",
      " [3]\n",
      " [4]]\n"
     ]
    }
   ],
   "source": [
    "a=np.s_[1:4]\n",
    "b=np.r_[1:5]\n",
    "c=np.c_[1:4]\n",
    "print(a)\n",
    "print(b)\n",
    "# 从一到的5的一列元素\n",
    "print(c)\n",
    "\n",
    "print(np.arange(5).reshape(5,1))"
   ]
  },
  {
   "cell_type": "markdown",
   "metadata": {},
   "source": [
    "### numpy.argwhere()\n",
    "\n",
    "该函数返回数组中非 0 元素的索引，若是多维数组则返回行、列索引组成的索引坐标。"
   ]
  },
  {
   "cell_type": "code",
   "execution_count": 79,
   "metadata": {},
   "outputs": [
    {
     "name": "stdout",
     "output_type": "stream",
     "text": [
      "[[0 1 2 3 4]\n",
      " [5 6 7 8 9]]\n",
      "[[0 1]\n",
      " [0 2]\n",
      " [0 3]\n",
      " [0 4]\n",
      " [1 0]\n",
      " [1 1]\n",
      " [1 2]\n",
      " [1 3]\n",
      " [1 4]]\n",
      "===============\n"
     ]
    }
   ],
   "source": [
    "x=np.arange(10).reshape((2,5))\n",
    "print(x)\n",
    "print(np.argwhere(x))\n",
    "print(\"===============\")\n"
   ]
  },
  {
   "cell_type": "code",
   "execution_count": 82,
   "metadata": {},
   "outputs": [
    {
     "name": "stdout",
     "output_type": "stream",
     "text": [
      "[3 4 5 6 7 8 9]\n",
      "[[0 3]\n",
      " [0 4]\n",
      " [1 0]\n",
      " [1 1]\n",
      " [1 2]\n",
      " [1 3]\n",
      " [1 4]]\n"
     ]
    }
   ],
   "source": [
    "print(x[x>2])# 布尔索引\n",
    "print(np.argwhere(x>2))# 大于2的索引坐标"
   ]
  },
  {
   "cell_type": "code",
   "execution_count": 83,
   "metadata": {},
   "outputs": [
    {
     "name": "stdout",
     "output_type": "stream",
     "text": [
      "[[0 0]\n",
      " [0 2]\n",
      " [0 4]\n",
      " [1 1]\n",
      " [1 3]]\n"
     ]
    }
   ],
   "source": [
    "print(np.argwhere(x%2==0))"
   ]
  },
  {
   "cell_type": "markdown",
   "metadata": {},
   "source": [
    "### numpy.unique()\n",
    "\n",
    "用于删除数组中重复的元素，其语法格式如下：\n",
    "`numpy.unique(arr, return_index, return_inverse, return_counts)`\n",
    "\n",
    "参数说明：\n",
    "\n",
    "- arr：输入数组，若是多维数组则以一维数组形式展开；\n",
    "- return_index：如果为 True，则返回新数组元素在原数组中的位置（索引）；\n",
    "- return_inverse：如果为 True，则返回原数组元素在新数组中的位置（索引）；\n",
    "- return_counts：如果为 True，则返回去重后的数组元素在原数组中出现的次数。\n"
   ]
  },
  {
   "cell_type": "code",
   "execution_count": 86,
   "metadata": {},
   "outputs": [
    {
     "name": "stdout",
     "output_type": "stream",
     "text": [
      "[2 5 6 7 8 9]\n",
      "10\n"
     ]
    }
   ],
   "source": [
    "a = np.array([5,2,6,2,7,5,6,8,2,9])\n",
    "print(np.unique(a))\n",
    "print(a.size)"
   ]
  },
  {
   "cell_type": "code",
   "execution_count": 90,
   "metadata": {},
   "outputs": [
    {
     "name": "stdout",
     "output_type": "stream",
     "text": [
      "[[5 2 6 2 7]\n",
      " [5 6 8 2 9]]\n",
      "[2 5 6 7 8 9]\n"
     ]
    }
   ],
   "source": [
    "b = np.array([5,2,6,2,7,5,6,8,2,9]).reshape((2,5))\n",
    "print(b)\n",
    "print(np.unique(b))"
   ]
  },
  {
   "cell_type": "code",
   "execution_count": 94,
   "metadata": {},
   "outputs": [
    {
     "name": "stdout",
     "output_type": "stream",
     "text": [
      "(array([2, 5, 6, 7, 8, 9]), array([1, 0, 2, 4, 7, 9], dtype=int64))\n",
      "\n",
      "<class 'tuple'>\n"
     ]
    }
   ],
   "source": [
    "temp=np.unique(b,return_index=True)# 返回新数组的中的元素原来数组中的位置\n",
    "print(temp)\n",
    "print()\n",
    "print(type(temp))"
   ]
  },
  {
   "cell_type": "code",
   "execution_count": 96,
   "metadata": {},
   "outputs": [
    {
     "name": "stdout",
     "output_type": "stream",
     "text": [
      "(array([2, 5, 6, 7, 8, 9]), array([3, 2, 2, 1, 1, 1], dtype=int64))\n"
     ]
    }
   ],
   "source": [
    "temp1=np.unique(b,return_counts=True)\n",
    "print(temp1)"
   ]
  },
  {
   "cell_type": "code",
   "execution_count": 102,
   "metadata": {},
   "outputs": [
    {
     "name": "stdout",
     "output_type": "stream",
     "text": [
      "[2 5 6 7 8 9]\n",
      "[3 2 2 1 1 1]\n",
      "0\n",
      "最大出现次数的值为：2，最大出现次数为3\n"
     ]
    }
   ],
   "source": [
    "arr,counts=np.unique(b,return_counts=True)\n",
    "print(arr)\n",
    "print(counts)\n",
    "print(np.argmax(counts))# 最大值的索引\n",
    "index=np.argmax(counts)\n",
    "print(f'最大出现次数的值为：{arr[index]}，最大出现次数为{ counts[index] }')"
   ]
  },
  {
   "cell_type": "markdown",
   "metadata": {},
   "source": [
    "#### numpy.sort()\n",
    "\n",
    "对输入数组执行排序，并返回一个数组副本。\n",
    "`numpy.sort(a, axis, kind, order)`\n",
    "\n",
    "参数说明：\n",
    "\n",
    "- a：要排序的数组；\n",
    "- axis：沿着指定轴进行排序，如果没有指定 axis，默认在最后一个轴上排序，若 axis=0 表示按列排序，axis=1 表示按行排序；\n",
    "- kind：默认为 quicksort（快速排序）；\n",
    "- order：若数组设置了字段，则 order 表示要排序的字段。\n"
   ]
  },
  {
   "cell_type": "code",
   "execution_count": 104,
   "metadata": {},
   "outputs": [
    {
     "name": "stdout",
     "output_type": "stream",
     "text": [
      "[[3 7 5]\n",
      " [6 1 4]]\n",
      "[[3 5 7]\n",
      " [1 4 6]]\n"
     ]
    }
   ],
   "source": [
    "a = np.array([[3,7,5],[6,1,4]]) \n",
    "print(a)\n",
    "print(np.sort(a))# 默认分别将每行进行排序"
   ]
  },
  {
   "cell_type": "code",
   "execution_count": 107,
   "metadata": {},
   "outputs": [
    {
     "name": "stdout",
     "output_type": "stream",
     "text": [
      "[[3 1 4]\n",
      " [6 7 5]]\n"
     ]
    }
   ],
   "source": [
    "print(np.sort(a,axis=0))# 将每列进行排序"
   ]
  },
  {
   "cell_type": "code",
   "execution_count": 108,
   "metadata": {},
   "outputs": [
    {
     "name": "stdout",
     "output_type": "stream",
     "text": [
      "[(b'raju', 21) (b'anil', 25) (b'ravi', 17) (b'amar', 27)]\n",
      "====================\n",
      "[(b'amar', 27) (b'anil', 25) (b'raju', 21) (b'ravi', 17)]\n"
     ]
    }
   ],
   "source": [
    "#设置在sort函数中排序字段\n",
    "dt = np.dtype([('name',  'S10'),('age',  int)])\n",
    "a = np.array([(\"raju\",21),(\"anil\",25),(\"ravi\",  17),  (\"amar\",27)], dtype = dt) \n",
    "#再次打印a数组\n",
    "print(a)\n",
    "print('=='*10)# 将'=='重复10次\n",
    "#按name字段排序\n",
    "print(np.sort(a, order = 'name'))"
   ]
  },
  {
   "cell_type": "markdown",
   "metadata": {},
   "source": [
    "#### numpy.argsort()\n",
    "\n",
    "argsort() 沿着指定的轴，对输入数组的元素值进行排序，并返回排序后的元素索引数组。示例如下： "
   ]
  },
  {
   "cell_type": "code",
   "execution_count": 109,
   "metadata": {},
   "outputs": [
    {
     "name": "stdout",
     "output_type": "stream",
     "text": [
      "原数组: [90 29 89 12]\n",
      "打印排序元素索引值: [3 1 2 0]\n",
      "[12 29 89 90]\n"
     ]
    }
   ],
   "source": [
    "a = np.array([90, 29, 89, 12]) \n",
    "print(\"原数组:\",a) \n",
    "sort_ind = np.argsort(a) \n",
    "print(\"打印排序元素索引值:\",sort_ind) \n",
    "\n",
    "#使用索引数组对原数组排序\n",
    "sort_a = a[sort_ind] \n",
    "print(sort_a)"
   ]
  }
 ],
 "metadata": {
  "kernelspec": {
   "display_name": "Python 3",
   "language": "python",
   "name": "python3"
  },
  "language_info": {
   "codemirror_mode": {
    "name": "ipython",
    "version": 3
   },
   "file_extension": ".py",
   "mimetype": "text/x-python",
   "name": "python",
   "nbconvert_exporter": "python",
   "pygments_lexer": "ipython3",
   "version": "3.7.6"
  }
 },
 "nbformat": 4,
 "nbformat_minor": 4
}
