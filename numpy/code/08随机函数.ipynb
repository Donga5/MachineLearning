{
 "cells": [
  {
   "cell_type": "code",
   "execution_count": 1,
   "metadata": {},
   "outputs": [],
   "source": [
    "import numpy as np "
   ]
  },
  {
   "cell_type": "markdown",
   "metadata": {},
   "source": [
    "# 随机函数\n",
    "\n",
    "NumPy中也有自己的随机函数，包含在random模块中。它能产生特定分布的随机数，如正态分布等。接下来介绍一些常用的随机数。\n",
    "\n",
    "\n",
    "| 函数名                          | 功能                    | 参数使用(int a,b,c,d)       |\n",
    "| :------------------------------- | :----------------------- | :--------------------------- |\n",
    "| rand(int1,[int2,[int3,]])       | 生成(0,1)均匀分布随机数 | (a)，(a,b)，(a,b,c)         |\n",
    "| randn(int1,[int2,[int3,]])      | 生成标准正态分布随机数  | (a)，(a,b)，(a,b,c)         |\n",
    "| randint(low[,hight,size,dtype]) | 生成随机整数            | (a,b)，(a,b,c)，(a,b,(c,d)) |\n",
    "| sample(size)             | 生成[0,1)随机数         | (a)，((a,b))，((a,b,c))     |"
   ]
  },
  {
   "cell_type": "markdown",
   "metadata": {},
   "source": [
    "### numpy.random.rand(d0,d1,…,dn)\n",
    "\n",
    "- rand函数根据给定维度生成[0,1)之间的数据，包含0，不包含1\n",
    "- dn表示每个维度\n",
    "- 返回值为指定维度的array\n"
   ]
  },
  {
   "cell_type": "code",
   "execution_count": 4,
   "metadata": {},
   "outputs": [
    {
     "data": {
      "text/plain": [
       "array([[0.8916814 , 0.82983386],\n",
       "       [0.99349204, 0.19905183],\n",
       "       [0.44895569, 0.10960384],\n",
       "       [0.99641623, 0.80827232]])"
      ]
     },
     "execution_count": 4,
     "metadata": {},
     "output_type": "execute_result"
    }
   ],
   "source": [
    "np.random.rand(4,2)"
   ]
  },
  {
   "cell_type": "code",
   "execution_count": 6,
   "metadata": {},
   "outputs": [
    {
     "data": {
      "text/plain": [
       "array([[[0.31851014, 0.17864176, 0.64696457],\n",
       "        [0.98825147, 0.17569841, 0.11831557]],\n",
       "\n",
       "       [[0.02882153, 0.35156704, 0.68622225],\n",
       "        [0.09937469, 0.29828002, 0.45378156]],\n",
       "\n",
       "       [[0.59087513, 0.56488026, 0.03916272],\n",
       "        [0.6994106 , 0.68503343, 0.02260048]],\n",
       "\n",
       "       [[0.27195343, 0.82070276, 0.44263809],\n",
       "        [0.24442869, 0.12246268, 0.88387279]]])"
      ]
     },
     "execution_count": 6,
     "metadata": {},
     "output_type": "execute_result"
    }
   ],
   "source": [
    "np.random.rand(4,2,3)"
   ]
  },
  {
   "cell_type": "markdown",
   "metadata": {},
   "source": [
    "### numpy.random.randn(d0,d1,…,dn)\n",
    "\n",
    "- randn函数返回一个或一组样本，具有标准正态分布。\n",
    "- dn表示每个维度\n",
    "- 返回值为指定维度的array\n",
    "\n",
    "标准正态分布又称为u分布，是以0为均值、以1为标准差的正态分布，记为N（0，1）。"
   ]
  },
  {
   "cell_type": "code",
   "execution_count": 8,
   "metadata": {},
   "outputs": [
    {
     "data": {
      "text/plain": [
       "array([-0.96134371, -1.95589203, -1.80924755,  1.09741513, -0.8837933 ,\n",
       "       -0.92821513, -1.72446861, -0.15682335,  1.84165107, -0.61984692])"
      ]
     },
     "execution_count": 8,
     "metadata": {},
     "output_type": "execute_result"
    }
   ],
   "source": [
    "np.random.randn(10)"
   ]
  },
  {
   "cell_type": "markdown",
   "metadata": {},
   "source": [
    "### numpy.random.normal()\n",
    "\n",
    "可以实现自定义的正态分布<br>\n",
    "`numpy.random.normal(loc=0.0, scale=1.0, size=None)`\n",
    "作用：返回一个由size指定形状的数组，数组中的值服从 μ=loc,σ=scale 的正态分布。\n",
    "\n",
    "参数：\n",
    "- loc : float型或者float型的类数组对象，指定均值 μ\n",
    "- scale : float型或者float型的类数组对象，指定标准差 σ\n",
    "- size : int型或者int型的元组，指定了数组的形状。如果不提供size，且loc和scale为标量（不是类数组对象），则返回一个服从该分布的随机数。"
   ]
  },
  {
   "cell_type": "code",
   "execution_count": 40,
   "metadata": {},
   "outputs": [
    {
     "data": {
      "text/plain": [
       "array([-0.3641015 , -0.94484693, -0.95334579,  0.25112819,  0.3033981 ,\n",
       "       -1.25664386])"
      ]
     },
     "execution_count": 40,
     "metadata": {},
     "output_type": "execute_result"
    }
   ],
   "source": [
    "np.random.normal(loc=0,scale=1,size=(6)) # 指定的形状只能是一维的"
   ]
  },
  {
   "cell_type": "code",
   "execution_count": 41,
   "metadata": {},
   "outputs": [
    {
     "data": {
      "text/plain": [
       "11.390547336474938"
      ]
     },
     "execution_count": 41,
     "metadata": {},
     "output_type": "execute_result"
    }
   ],
   "source": [
    "np.random.normal(loc=10,scale=2)# 不指定size返回服从该分布的一个随机数"
   ]
  },
  {
   "cell_type": "markdown",
   "metadata": {},
   "source": [
    "### numpy.random.randint()\n",
    "\n",
    "`numpy.random.randint(low, high=None, size=None, dtype=’l’)`\n",
    "- 返回随机整数，范围区间为[low,high），包含low，不包含high\n",
    "- 参数：low为最小值，high为最大值，size为数组维度大小，dtype为数据类型，默认的数据类型是np.int\n",
    "- high没有填写时，默认生成随机数的范围是[0，low)"
   ]
  },
  {
   "cell_type": "code",
   "execution_count": 24,
   "metadata": {},
   "outputs": [
    {
     "data": {
      "text/plain": [
       "array([4, 4, 4, 1, 4, 4])"
      ]
     },
     "execution_count": 24,
     "metadata": {},
     "output_type": "execute_result"
    }
   ],
   "source": [
    "np.random.randint(1,5,size=6)# size不指定的话默认为1"
   ]
  },
  {
   "cell_type": "code",
   "execution_count": 28,
   "metadata": {},
   "outputs": [
    {
     "data": {
      "text/plain": [
       "array([4, 4, 1, 0, 2, 1])"
      ]
     },
     "execution_count": 28,
     "metadata": {},
     "output_type": "execute_result"
    }
   ],
   "source": [
    "np.random.randint(5,size=6)"
   ]
  },
  {
   "cell_type": "code",
   "execution_count": 30,
   "metadata": {},
   "outputs": [
    {
     "data": {
      "text/plain": [
       "array([[8, 7, 7],\n",
       "       [7, 8, 7]])"
      ]
     },
     "execution_count": 30,
     "metadata": {},
     "output_type": "execute_result"
    }
   ],
   "source": [
    "np.random.randint(1,10,(2,3))"
   ]
  },
  {
   "cell_type": "markdown",
   "metadata": {},
   "source": [
    "### numpy.random.sample\n",
    "\n",
    "`numpy.random.sample(size=None)`\n",
    "\n",
    "返回半开区间内的随机浮点数[0.0，1.0]。"
   ]
  },
  {
   "cell_type": "code",
   "execution_count": 33,
   "metadata": {},
   "outputs": [
    {
     "data": {
      "text/plain": [
       "array([[0.36264005, 0.26821707, 0.55521029],\n",
       "       [0.24765386, 0.65415067, 0.55817096]])"
      ]
     },
     "execution_count": 33,
     "metadata": {},
     "output_type": "execute_result"
    }
   ],
   "source": [
    "np.random.sample((2,3))"
   ]
  },
  {
   "cell_type": "markdown",
   "metadata": {},
   "source": [
    "### 随机种子np.random.seed()\n",
    "\n",
    "使用相同的seed()值，则每次生成的随机数都相同,使得随机数可以预测\n",
    "\n",
    "但是，只在调用的时候seed()一下并不能使生成的随机数相同，需要每次调用都seed()一下，表示种子相同，从而生成的随机数相同。"
   ]
  },
  {
   "cell_type": "code",
   "execution_count": 39,
   "metadata": {},
   "outputs": [
    {
     "name": "stdout",
     "output_type": "stream",
     "text": [
      "[[0.77132064 0.02075195 0.63364823]\n",
      " [0.74880388 0.49850701 0.22479665]]\n",
      "[[0.19806286 0.76053071 0.16911084]\n",
      " [0.08833981 0.68535982 0.95339335]]\n",
      "[[0.29857415 0.76092848 0.76612717]\n",
      " [0.31257211 0.62749584 0.8634613 ]]\n",
      "[[0.53349362 0.0758845  0.72842567]\n",
      " [0.522535   0.85739085 0.12174704]]\n"
     ]
    }
   ],
   "source": [
    "# 给定随机数种子，后面生成的随机数均相同\n",
    "np.random.seed(10)\n",
    "print(np.random.sample((2,3)))\n",
    "print(np.random.sample((2,3)))\n",
    "\n",
    "# 取消给定随机数种子，后面生成的随机数则不同\n",
    "np.random.seed()\n",
    "print(np.random.sample((2,3)))\n",
    "print(np.random.sample((2,3)))"
   ]
  },
  {
   "cell_type": "code",
   "execution_count": null,
   "metadata": {},
   "outputs": [],
   "source": []
  },
  {
   "cell_type": "code",
   "execution_count": null,
   "metadata": {},
   "outputs": [],
   "source": []
  }
 ],
 "metadata": {
  "kernelspec": {
   "display_name": "Python 3",
   "language": "python",
   "name": "python3"
  },
  "language_info": {
   "codemirror_mode": {
    "name": "ipython",
    "version": 3
   },
   "file_extension": ".py",
   "mimetype": "text/x-python",
   "name": "python",
   "nbconvert_exporter": "python",
   "pygments_lexer": "ipython3",
   "version": "3.7.6"
  }
 },
 "nbformat": 4,
 "nbformat_minor": 4
}
