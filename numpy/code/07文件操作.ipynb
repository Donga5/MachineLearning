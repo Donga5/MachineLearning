{
 "cells": [
  {
   "attachments": {},
   "cell_type": "markdown",
   "metadata": {},
   "source": [
    "# 操作文件  loadtxt\n",
    "loadtxt读取txt文本、、csv文件\n",
    "\n",
    "`loadtxt(fname, dtype=<type 'float'>, comments='#', delimiter=None, converters=None, skiprows=0, usecols=None, unpack=False, ndmin=0,encoding='bytes')`\n",
    "\n",
    "参数：\n",
    "\n",
    "- fname：指定文件名称或字符串。支持压缩文件，包括gz、bz格式。\n",
    "\n",
    "- dtype：数据类型。 默认float。\n",
    "\n",
    "- comments：字符串或字符串组成的列表。表示注释字符集开始的标志，默认为#。\n",
    "\n",
    "- delimiter：字符串。分隔符。\n",
    "\n",
    "- converters：字典。将特定列的数据转换为字典中对应的函数的浮点型数据。例如将空值转换为0，默认为空。\n",
    "\n",
    "- skiprows：跳过特定行数据。例如跳过前1行（可能是标题或注释。当标题前有注释的时候一定要注意）。默认为0。\n",
    "\n",
    "- usecols：元组。用来指定要读取数据的列，第一列为0。例如（1， 3， 5），默认为空。\n",
    "\n",
    "- unpack：布尔型。指定是否转置数组，如果为真则转置，默认为False。\n",
    "\n",
    "- ndmin：整数型。指定返回的数组至少包含特定维度的数组。值域为0、1、2，默认为0。\n",
    "- encoding:编码,  确认文件是gbk还是utf-8 格式\n",
    "\n",
    "返回：从文件中读取的数组。"
   ]
  },
  {
   "cell_type": "markdown",
   "metadata": {},
   "source": [
    "## 读取普通文件"
   ]
  },
  {
   "cell_type": "code",
   "execution_count": 25,
   "metadata": {},
   "outputs": [],
   "source": [
    "import numpy as np"
   ]
  },
  {
   "cell_type": "markdown",
   "metadata": {},
   "source": [
    "创建data1.txt并且写入"
   ]
  },
  {
   "cell_type": "code",
   "execution_count": 17,
   "metadata": {},
   "outputs": [
    {
     "name": "stdout",
     "output_type": "stream",
     "text": [
      "写入完成\n"
     ]
    }
   ],
   "source": [
    "with open('../File/data1.txt','w') as fp:\n",
    "    for i in range(10):\n",
    "        fp.write(f\"{i} \")\n",
    "    fp.write('\\n')\n",
    "    for i in range(10,20):\n",
    "        fp.write(f\"{i} \")\n",
    "print(\"写入完成\")"
   ]
  },
  {
   "cell_type": "code",
   "execution_count": 23,
   "metadata": {},
   "outputs": [
    {
     "name": "stdout",
     "output_type": "stream",
     "text": [
      "[[ 0.  1.  2.  3.  4.  5.  6.  7.  8.  9.]\n",
      " [10. 11. 12. 13. 14. 15. 16. 17. 18. 19.]]\n",
      "<class 'numpy.ndarray'>\n",
      "(2, 10)\n"
     ]
    }
   ],
   "source": [
    "# 默认分隔符为空格或者tab \n",
    "# 默认数据位float类型\n",
    "data=np.loadtxt('../File/data1.txt')\n",
    "print(data)\n",
    "print(type(data))\n",
    "print(data.shape)\n"
   ]
  },
  {
   "cell_type": "code",
   "execution_count": 31,
   "metadata": {
    "scrolled": true
   },
   "outputs": [
    {
     "name": "stdout",
     "output_type": "stream",
     "text": [
      "[[ 0  1  2  3  4  5  6  7  8  9]\n",
      " [10 11 12 13 14 15 16 17 18 19]\n",
      " [20 21 22 23 24 25 26 27 28 29]]\n",
      "(3, 10)\n"
     ]
    }
   ],
   "source": [
    "# 读取csv,设定delimiter参数，设置分隔符为逗号\n",
    "data=np.loadtxt('../File/csv_test.csv',dtype=np.int32,delimiter=',')\n",
    "print(data)\n",
    "print(data.shape)"
   ]
  },
  {
   "cell_type": "markdown",
   "metadata": {},
   "source": [
    "### 读取不同数据类型"
   ]
  },
  {
   "cell_type": "markdown",
   "metadata": {},
   "source": [
    "采用结构数据类型来进行读取"
   ]
  },
  {
   "cell_type": "code",
   "execution_count": 43,
   "metadata": {},
   "outputs": [
    {
     "name": "stdout",
     "output_type": "stream",
     "text": [
      "[('小王', 21, '', 170.) ('小张', 25, '', 165.) ('小花', 19, '', 167.)\n",
      " ('老王', 40, '', 180.) ('小韩', 24, '', 168.) ('小白', 21, '', 167.)\n",
      " ('小花1', 19, '', 159.) ('小刘', 26, '', 170.) ('小秦', 21, '', 168.)\n",
      " ('小胖', 21, '', 175.) ('娜娜', 19, '', 160.) ('朵朵', 20, '', 167.)]\n",
      "12\n",
      "(12,)\n",
      "['小王' '小张' '小花' '老王' '小韩' '小白' '小花1' '小刘' '小秦' '小胖' '娜娜' '朵朵']\n"
     ]
    }
   ],
   "source": [
    "user_info=np.dtype([(\"姓名\",np.str_,6),(\"年龄\",np.int),(\"性别\",np.str_),(\"身高\",np.float)])\n",
    "# 有中文，检查中文的格式\n",
    "# 设置类型为结构数据类型，便于读取不同数据类型\n",
    "# 跳过第一行标题行\n",
    "data=np.loadtxt('../File/has_title.txt',encoding=\"utf-8\",dtype=user_info,skiprows=1)\n",
    "\n",
    "print(data)\n",
    "print(data.size)\n",
    "print(data.shape)\n",
    "print(data[\"姓名\"])"
   ]
  },
  {
   "cell_type": "code",
   "execution_count": 53,
   "metadata": {},
   "outputs": [
    {
     "name": "stdout",
     "output_type": "stream",
     "text": [
      "[('小王', 22, '男', 170.) ('小张', 25, '女', 165.) ('小花', 19, '女', 167.)\n",
      " ('小谭', 20, '男', 169.) ('小胡', 21, '女', 161.) ('小余', 19, '女', 159.)\n",
      " ('小陈', 27, '男', 177.)]\n",
      "7\n",
      "(7,)\n",
      "['小王' '小张' '小花' '小谭' '小胡' '小余' '小陈']\n"
     ]
    }
   ],
   "source": [
    "# 读取csv文件不需要指定编码格式，但是需要指定分隔符\n",
    "user_info=np.dtype([(\"姓名\",object),(\"年龄\",np.int),(\"性别\",object),(\"身高\",np.float)])\n",
    "\n",
    "data=np.loadtxt('../File/has_title.csv',dtype=user_info,skiprows=1,delimiter=',')\n",
    "\n",
    "print(data)\n",
    "print(data.size)\n",
    "print(data.shape)\n",
    "print(data[\"姓名\"])\n"
   ]
  },
  {
   "cell_type": "markdown",
   "metadata": {},
   "source": [
    "#### 计算平均年龄"
   ]
  },
  {
   "cell_type": "code",
   "execution_count": 55,
   "metadata": {},
   "outputs": [
    {
     "name": "stdout",
     "output_type": "stream",
     "text": [
      "21.0\n",
      "[22 25 19 20 21 19 27]\n",
      "21.0\n"
     ]
    }
   ],
   "source": [
    "data=np.loadtxt('../File/has_title.csv',dtype=user_info,skiprows=1,delimiter=',')\n",
    "# 统计年龄的中位数\n",
    "age_data=data[\"年龄\"]\n",
    "print(np.median(age_data))\n",
    "\n",
    "# 第二中方法：指定要读取的列,用元组表示，只读取第二列\n",
    "\n",
    "data1=np.loadtxt('../File/has_title.csv',dtype=np.int,skiprows=1,delimiter=',',usecols=(1,))\n",
    "print(data1)\n",
    "print(np.median(data1))"
   ]
  },
  {
   "cell_type": "markdown",
   "metadata": {},
   "source": [
    "#### 计算女生的平均身高"
   ]
  },
  {
   "cell_type": "code",
   "execution_count": 64,
   "metadata": {},
   "outputs": [
    {
     "name": "stdout",
     "output_type": "stream",
     "text": [
      "[False  True  True False  True  True False]\n",
      "[165. 167. 161. 159.]\n",
      "163.0\n",
      "163.00\n"
     ]
    }
   ],
   "source": [
    "user_info=np.dtype([(\"姓名\",object),(\"年龄\",np.int),(\"性别\",object),(\"身高\",np.float)])\n",
    "\n",
    "data=np.loadtxt('../File/has_title.csv',dtype=user_info,skiprows=1,delimiter=',')\n",
    "\n",
    "# 判断是否是女生 得到的isgirl是值为Bool的一维数组\n",
    "isgirl=data['性别']=='女'\n",
    "print(isgirl)\n",
    "\n",
    "# 利用布尔索引来筛选出女生\n",
    "girls_info=data['身高'][isgirl]\n",
    "print(girls_info)\n",
    "\n",
    "print(np.median(girls_info))\n",
    "# 字符格式化，显示两位小数\n",
    "print('{:.2f}'.format(np.median(girls_info)))"
   ]
  },
  {
   "cell_type": "markdown",
   "metadata": {},
   "source": [
    "#### 读取指定的列"
   ]
  },
  {
   "cell_type": "code",
   "execution_count": 66,
   "metadata": {
    "scrolled": true
   },
   "outputs": [
    {
     "name": "stdout",
     "output_type": "stream",
     "text": [
      "[[ 21. 170.]\n",
      " [ 25. 165.]\n",
      " [ 19. 167.]\n",
      " [ 40. 180.]\n",
      " [ 24. 168.]\n",
      " [ 21. 167.]\n",
      " [ 19. 159.]\n",
      " [ 26. 170.]\n",
      " [ 21. 168.]\n",
      " [ 21. 175.]\n",
      " [ 19. 160.]\n",
      " [ 20. 167.]]\n"
     ]
    }
   ],
   "source": [
    "# 只单独定义要读取的数据类型,对应要读取的列\n",
    "data_type=np.dtype([('age',np.int),('height',np.float)])\n",
    "\n",
    "data=np.loadtxt(\"../File/has_title.txt\",encoding='utf-8',skiprows=1,usecols=(1,3))\n",
    "print(data)\n"
   ]
  },
  {
   "cell_type": "markdown",
   "metadata": {},
   "source": [
    "#### 数据中有空值进行处理\n",
    "使用converters参数来进行处理<br>\n",
    "converters={列索引:处理的函数} 也就是正常的参数和异常的参数都通过这个函数来处理"
   ]
  },
  {
   "cell_type": "code",
   "execution_count": 71,
   "metadata": {},
   "outputs": [],
   "source": [
    "def parse_age(age):# 将正常的数据转化为int类型,异常数据变为0\n",
    "    try:\n",
    "        return int(age)\n",
    "    except:\n",
    "        return 0"
   ]
  },
  {
   "cell_type": "code",
   "execution_count": 68,
   "metadata": {},
   "outputs": [
    {
     "name": "stdout",
     "output_type": "stream",
     "text": [
      "111\n",
      "222\n"
     ]
    }
   ],
   "source": [
    "# 异常复习，出现异常，try except捕获之后，后面的语句可以正常执行\n",
    "try:\n",
    "    a=1/0\n",
    "    print(a)\n",
    "except:\n",
    "    print(111)\n",
    "print(222)"
   ]
  },
  {
   "cell_type": "code",
   "execution_count": 75,
   "metadata": {},
   "outputs": [
    {
     "name": "stdout",
     "output_type": "stream",
     "text": [
      "[21 25 19  0 21 19 27]\n"
     ]
    }
   ],
   "source": [
    "data= np.loadtxt('../File/has_empty_data.csv',delimiter=',',skiprows=1,usecols=1,converters={1:parse_age},dtype=np.int)\n",
    "print(data)"
   ]
  }
 ],
 "metadata": {
  "kernelspec": {
   "display_name": "Python 3",
   "language": "python",
   "name": "python3"
  },
  "language_info": {
   "codemirror_mode": {
    "name": "ipython",
    "version": 3
   },
   "file_extension": ".py",
   "mimetype": "text/x-python",
   "name": "python",
   "nbconvert_exporter": "python",
   "pygments_lexer": "ipython3",
   "version": "3.7.6"
  }
 },
 "nbformat": 4,
 "nbformat_minor": 4
}
