{
 "cells": [
  {
   "cell_type": "code",
   "id": "initial_id",
   "metadata": {
    "collapsed": true,
    "ExecuteTime": {
     "end_time": "2024-04-18T08:25:11.865177Z",
     "start_time": "2024-04-18T08:25:11.408046Z"
    }
   },
   "source": [
    "import numpy as np\n",
    "import pandas as pd"
   ],
   "outputs": [],
   "execution_count": 1
  },
  {
   "metadata": {},
   "cell_type": "markdown",
   "source": [
    "# 列操作\n",
    "```\n",
    "1.列操作\n",
    "\t\t1).取(查)\n",
    "\t\t\t- df[\"列标签\"] --- 单列数据\n",
    "\t\t\t- df[[\"列标签1\",\"列标签2\"]]  - 多列数据\n",
    "\t\t\t\n",
    "\t\t\t注意:\n",
    "\t\t\t\t①.不能使用位置下标\n",
    "\t\t\t\t②.不能使用标签切片\n",
    "\t\t2).添加:\n",
    "\t\t\tdf[\"新列标签\"] = 值   序列或Series\n",
    "\t\t\t\n",
    "\t\t\tinsert(loc<位置>,column<列名>,value<值>)\n",
    "\t\t\t\t- loc取值范围:0<=loc<=len(列)\n",
    "\t\t3).删除: \n",
    "\t\t\tdel :python原始的删除操作,直接就销毁\n",
    "\t\t\t\n",
    "\t\t\tpop : 也销毁,不同在于有返回值,返回值是需要删除的内容\n",
    "\t\t\n",
    "\t\t4).改:\n",
    "\t\t\tdf[\"源列标签\"] = 值\n",
    "```"
   ],
   "id": "45962f819d7ccf59"
  },
  {
   "metadata": {},
   "cell_type": "markdown",
   "source": [
    "## 1.列的选取\n",
    "<font color='red'>不能通过位置来索引列，也不能通过切片来进行索引</font>"
   ],
   "id": "f5529b2815a7e3ed"
  },
  {
   "metadata": {
    "ExecuteTime": {
     "end_time": "2024-04-18T08:39:10.335480Z",
     "start_time": "2024-04-18T08:39:10.319969Z"
    }
   },
   "cell_type": "code",
   "source": [
    "data={'Name':['刘备','关羽','张飞'],'Age':[28,25,26],'Sex':['Male','Female',\"Male\"]}\n",
    "df=pd.DataFrame(data,index=['one','two','three'])\n",
    "print(df['Name'])\n",
    "print(type(df['Age']))# Series\n",
    "\n",
    "# 选取多列\n",
    "print(df[['Name','Sex']]) #DataFrame\n"
   ],
   "id": "97b720b669468c6",
   "outputs": [
    {
     "name": "stdout",
     "output_type": "stream",
     "text": [
      "one      刘备\n",
      "two      关羽\n",
      "three    张飞\n",
      "Name: Name, dtype: object\n",
      "<class 'pandas.core.series.Series'>\n",
      "      Name     Sex\n",
      "one     刘备    Male\n",
      "two     关羽  Female\n",
      "three   张飞    Male\n"
     ]
    }
   ],
   "execution_count": 6
  },
  {
   "metadata": {},
   "cell_type": "markdown",
   "source": [
    "## 列添加\n",
    "使用 columns 列索引标签可以实现添加新的数据列"
   ],
   "id": "92b1aff985acdd8f"
  },
  {
   "metadata": {
    "ExecuteTime": {
     "end_time": "2024-04-18T08:41:36.322339Z",
     "start_time": "2024-04-18T08:41:36.301703Z"
    }
   },
   "cell_type": "code",
   "source": [
    "d = {'one' : pd.Series([1, 2, 3], index=['a', 'b', 'c']),\n",
    "   'two' : pd.Series([1, 2, 3, 4], index=['a', 'b', 'c', 'd'])}\n",
    "df = pd.DataFrame(d)\n",
    "\n",
    "#使用df['列']=值，插入新的数据列\n",
    "print (\"====通过Series添加一个新的列====:\")\n",
    "df['three']=pd.Series([10,20,30],index=['a','b','c'])\n",
    "print(df)\n",
    "\n",
    "#将已经存在的数据列相加运算,从而创建一个新的列\n",
    "print (\"======将已经存在的数据列相加运算,从而创建一个新的列:=======\")\n",
    "df['four']=df['one']+df['three']\n",
    "print(df)"
   ],
   "id": "526d34749652a3a5",
   "outputs": [
    {
     "name": "stdout",
     "output_type": "stream",
     "text": [
      "====通过Series添加一个新的列====:\n",
      "   one  two  three\n",
      "a  1.0    1   10.0\n",
      "b  2.0    2   20.0\n",
      "c  3.0    3   30.0\n",
      "d  NaN    4    NaN\n",
      "======将已经存在的数据列相加运算,从而创建一个新的列:=======\n",
      "   one  two  three  four\n",
      "a  1.0    1   10.0  11.0\n",
      "b  2.0    2   20.0  22.0\n",
      "c  3.0    3   30.0  33.0\n",
      "d  NaN    4    NaN   NaN\n"
     ]
    }
   ],
   "execution_count": 8
  },
  {
   "metadata": {},
   "cell_type": "markdown",
   "source": [
    "## insert方法添加\n",
    "上述示例，我们初次使用了 DataFrame 的算术运算，这和 NumPy 非常相似。除了使用df[]=value的方式外，您还可以使用 insert() 方法插入新的列，示例如下： \n",
    "`df.insert(loc, column, value, allow_duplicates=False)`\n",
    "- loc : 整型,插入索引,必须验证0<=loc<=len（列）\n",
    "- column : 插入列的标签,类型可以是(字符串/数字/散列对象)\n",
    "- value : 数值,Series或者数组\n",
    "- allow_duplicates : 允许重复,可以有相同的列标签数据,默认为False"
   ],
   "id": "afc345ae09966fc9"
  },
  {
   "metadata": {
    "ExecuteTime": {
     "end_time": "2024-04-18T08:45:20.941693Z",
     "start_time": "2024-04-18T08:45:20.932566Z"
    }
   },
   "cell_type": "code",
   "source": [
    "info=[['王杰',18],['李杰',19],['刘杰',17]]\n",
    "df=pd.DataFrame(info,columns=['name','age'])\n",
    "print(df)\n",
    "#注意是column参数\n",
    "#数值1代表插入到columns列表的索引位置 :loc : 整型,插入索引,必须验证0<=loc<=len（列）\n",
    "df.insert(0,column='score',value=[91,90,75])\n",
    "print(\"=====df.insert插入数据:=======\")\n",
    "print(df)"
   ],
   "id": "e813b1024d5e71ea",
   "outputs": [
    {
     "name": "stdout",
     "output_type": "stream",
     "text": [
      "  name  age\n",
      "0   王杰   18\n",
      "1   李杰   19\n",
      "2   刘杰   17\n",
      "=====df.insert插入数据:=======\n",
      "   score name  age\n",
      "0     91   王杰   18\n",
      "1     90   李杰   19\n",
      "2     75   刘杰   17\n"
     ]
    }
   ],
   "execution_count": 12
  },
  {
   "metadata": {
    "ExecuteTime": {
     "end_time": "2024-04-18T08:45:40.923381Z",
     "start_time": "2024-04-18T08:45:40.914130Z"
    }
   },
   "cell_type": "code",
   "source": [
    "# 可以添加重复列标签数据\n",
    "df.insert(1,column='score',value=[80,70,90],allow_duplicates=True)\n",
    "print(df)"
   ],
   "id": "d13391eba6cd535c",
   "outputs": [
    {
     "name": "stdout",
     "output_type": "stream",
     "text": [
      "   score  score name  age\n",
      "0     91     80   王杰   18\n",
      "1     90     70   李杰   19\n",
      "2     75     90   刘杰   17\n"
     ]
    }
   ],
   "execution_count": 13
  },
  {
   "metadata": {},
   "cell_type": "markdown",
   "source": [
    "## 删除数据列\n",
    "使用del或者pop方法删除数据列"
   ],
   "id": "4e1d35457d0e5a30"
  },
  {
   "metadata": {
    "ExecuteTime": {
     "end_time": "2024-04-18T08:47:20.621378Z",
     "start_time": "2024-04-18T08:47:20.606693Z"
    }
   },
   "cell_type": "code",
   "source": [
    "import pandas as pd\n",
    "d = {'one' : pd.Series([1, 2, 3], index=['a', 'b', 'c']),\n",
    "     'two' : pd.Series([1, 2, 3, 4], index=['a', 'b', 'c', 'd']),\n",
    "     'three' : pd.Series([10,20,30], index=['a','b','c'])}\n",
    "df = pd.DataFrame(d)\n",
    "del df['two']\n",
    "print(df)\n",
    "\n",
    "res=df.pop('three')\n",
    "print(res)"
   ],
   "id": "164c64a320bf0f0d",
   "outputs": [
    {
     "name": "stdout",
     "output_type": "stream",
     "text": [
      "   one  three\n",
      "a  1.0   10.0\n",
      "b  2.0   20.0\n",
      "c  3.0   30.0\n",
      "d  NaN    NaN\n",
      "a    10.0\n",
      "b    20.0\n",
      "c    30.0\n",
      "d     NaN\n",
      "Name: three, dtype: float64\n"
     ]
    }
   ],
   "execution_count": 15
  },
  {
   "metadata": {
    "ExecuteTime": {
     "end_time": "2024-04-18T08:48:13.756905Z",
     "start_time": "2024-04-18T08:48:13.751838Z"
    }
   },
   "cell_type": "code",
   "source": [
    "# 使用del删除字典中的键值对\n",
    "my_dict ={\"name\":\"xiao网\",\"age\":20}\n",
    "del my_dict[\"name\"]\n",
    "my_dict"
   ],
   "id": "710c485400c86fc4",
   "outputs": [
    {
     "data": {
      "text/plain": [
       "{'age': 20}"
      ]
     },
     "execution_count": 18,
     "metadata": {},
     "output_type": "execute_result"
    }
   ],
   "execution_count": 18
  }
 ],
 "metadata": {
  "kernelspec": {
   "display_name": "Python 3",
   "language": "python",
   "name": "python3"
  },
  "language_info": {
   "codemirror_mode": {
    "name": "ipython",
    "version": 2
   },
   "file_extension": ".py",
   "mimetype": "text/x-python",
   "name": "python",
   "nbconvert_exporter": "python",
   "pygments_lexer": "ipython2",
   "version": "2.7.6"
  }
 },
 "nbformat": 4,
 "nbformat_minor": 5
}
