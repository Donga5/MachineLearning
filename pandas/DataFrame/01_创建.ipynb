{
 "cells": [
  {
   "metadata": {
    "ExecuteTime": {
     "end_time": "2024-04-18T07:44:20.007974Z",
     "start_time": "2024-04-18T07:44:19.538198Z"
    }
   },
   "cell_type": "code",
   "source": [
    "import numpy as np\n",
    "import pandas as pd"
   ],
   "id": "31d84b947c5712a2",
   "outputs": [],
   "execution_count": 2
  },
  {
   "metadata": {},
   "cell_type": "markdown",
   "source": [
    "## 创建方式总结\n",
    "```\n",
    "DataFrame创建:\n",
    "\t总结:\n",
    "\t1.列表/元组出发:--->表示的一行一行数据\n",
    "\t\t1.列表嵌套列表:[['xiaowang',20],['Lily',30],['Anne',40]]\n",
    "\t\t(('xiaowang',20),('Lily',30),('Anne',40))\n",
    "\t\t\t-- 使用默认的列表标签\n",
    "\t\t2.列表嵌套字典:[{'a': 1, 'b': 2},{'a': 5, 'b': 10, 'c': 20}]\n",
    "\t\t\t\t\t\t({'a': 1, 'b': 2},{'a': 5, 'b': 10, 'c': 20})\n",
    "\t\t\t--- 使用字典的key作为标签\n",
    "\t2.字典出发: ----> 表示一列一列数据\n",
    "\t\t1.字典对应值是列表:{'Name':['关羽', '刘备', '张飞', '曹操'],'Age':[28,34,29,42]}\n",
    "\t\t\t-- 行使用默认标签\n",
    "\t\t2. 字典对应值是Series\n",
    "\t\t  {'one' : pd.Series([1, 2, 3], index=['a', 'b', 'c']),\n",
    "\t\t  'two' : pd.Series([1, 2, 3, 4], index=['a', 'b', 'c', 'd'])}\n",
    "\t\t   -- 行和列都是设置的标签,并且还可以指定列的数据类型4\n",
    "```"
   ],
   "id": "8126dd646157bec4"
  },
  {
   "metadata": {},
   "cell_type": "markdown",
   "source": [
    "## 创建DataFrame对象\n",
    "`pandas.DataFrame(data=None, index=None, columns=None, dtype=None, copy=None)`\n",
    "\n",
    "- data: 输入的数据，可以是 ndarray，series，list，dict，标量以及一个 DataFrame\n",
    "- index: 行标签，如果没有传递 index 值，则默认行标签是 RangeIndex(0, 1, 2, …, n)，n 代表 data 的元素个数。\n",
    "- columns: 列标签，如果没有传递 columns 值，则默认列标签是 RangeIndex(0, 1, 2, …, n)。\n",
    "- dtype: 要强制的数据类型。只允许使用一种数据类型。如果没有，自行推断\n",
    "- copy:  从输入复制数据。对于dict数据，copy=True,重新复制一份。对于DataFrame或ndarray输入，类似于copy=False,使用的是试图"
   ],
   "id": "f7d26cb0a93968ed"
  },
  {
   "metadata": {
    "ExecuteTime": {
     "end_time": "2024-04-18T07:48:43.923354Z",
     "start_time": "2024-04-18T07:48:43.896171Z"
    }
   },
   "cell_type": "code",
   "source": [
    "# 列表创建\n",
    "data=[1,2,3,4]\n",
    "df=pd.DataFrame(data)\n",
    "df"
   ],
   "id": "a67379f063b21ac5",
   "outputs": [
    {
     "data": {
      "text/plain": [
       "   0\n",
       "0  1\n",
       "1  2\n",
       "2  3\n",
       "3  4"
      ],
      "text/html": [
       "<div>\n",
       "<style scoped>\n",
       "    .dataframe tbody tr th:only-of-type {\n",
       "        vertical-align: middle;\n",
       "    }\n",
       "\n",
       "    .dataframe tbody tr th {\n",
       "        vertical-align: top;\n",
       "    }\n",
       "\n",
       "    .dataframe thead th {\n",
       "        text-align: right;\n",
       "    }\n",
       "</style>\n",
       "<table border=\"1\" class=\"dataframe\">\n",
       "  <thead>\n",
       "    <tr style=\"text-align: right;\">\n",
       "      <th></th>\n",
       "      <th>0</th>\n",
       "    </tr>\n",
       "  </thead>\n",
       "  <tbody>\n",
       "    <tr>\n",
       "      <th>0</th>\n",
       "      <td>1</td>\n",
       "    </tr>\n",
       "    <tr>\n",
       "      <th>1</th>\n",
       "      <td>2</td>\n",
       "    </tr>\n",
       "    <tr>\n",
       "      <th>2</th>\n",
       "      <td>3</td>\n",
       "    </tr>\n",
       "    <tr>\n",
       "      <th>3</th>\n",
       "      <td>4</td>\n",
       "    </tr>\n",
       "  </tbody>\n",
       "</table>\n",
       "</div>"
      ]
     },
     "execution_count": 3,
     "metadata": {},
     "output_type": "execute_result"
    }
   ],
   "execution_count": 3
  },
  {
   "metadata": {},
   "cell_type": "markdown",
   "source": "",
   "id": "ef62b6e960d9835f"
  },
  {
   "metadata": {},
   "cell_type": "markdown",
   "source": "### 嵌套列表创建",
   "id": "b58daacc2c639200"
  },
  {
   "metadata": {
    "ExecuteTime": {
     "end_time": "2024-04-18T07:49:34.366210Z",
     "start_time": "2024-04-18T07:49:34.353973Z"
    }
   },
   "cell_type": "code",
   "source": [
    "# 嵌套列表创建\n",
    "# 列表中每个元素代表一行数据\n",
    "data = [['xiaowang',20],['Lily',30],['Anne',40]]\n",
    "# 未分配列标签\n",
    "df = pd.DataFrame(data)\n",
    "\n",
    "print(df)"
   ],
   "id": "77581531ec52b8c6",
   "outputs": [
    {
     "name": "stdout",
     "output_type": "stream",
     "text": [
      "          0   1\n",
      "0  xiaowang  20\n",
      "1      Lily  30\n",
      "2      Anne  40\n"
     ]
    }
   ],
   "execution_count": 4
  },
  {
   "metadata": {
    "ExecuteTime": {
     "end_time": "2024-04-18T08:09:07.360216Z",
     "start_time": "2024-04-18T08:09:07.336481Z"
    }
   },
   "cell_type": "code",
   "source": [
    "data = [['xiaowang',20],['Lily',30],['Anne',40]]\n",
    "# 未分配列标签\n",
    "df = pd.DataFrame(data,columns=['name','age'])\n",
    "df"
   ],
   "id": "aa4a7be7cadddaf5",
   "outputs": [
    {
     "data": {
      "text/plain": [
       "       name  age\n",
       "0  xiaowang   20\n",
       "1      Lily   30\n",
       "2      Anne   40"
      ],
      "text/html": [
       "<div>\n",
       "<style scoped>\n",
       "    .dataframe tbody tr th:only-of-type {\n",
       "        vertical-align: middle;\n",
       "    }\n",
       "\n",
       "    .dataframe tbody tr th {\n",
       "        vertical-align: top;\n",
       "    }\n",
       "\n",
       "    .dataframe thead th {\n",
       "        text-align: right;\n",
       "    }\n",
       "</style>\n",
       "<table border=\"1\" class=\"dataframe\">\n",
       "  <thead>\n",
       "    <tr style=\"text-align: right;\">\n",
       "      <th></th>\n",
       "      <th>name</th>\n",
       "      <th>age</th>\n",
       "    </tr>\n",
       "  </thead>\n",
       "  <tbody>\n",
       "    <tr>\n",
       "      <th>0</th>\n",
       "      <td>xiaowang</td>\n",
       "      <td>20</td>\n",
       "    </tr>\n",
       "    <tr>\n",
       "      <th>1</th>\n",
       "      <td>Lily</td>\n",
       "      <td>30</td>\n",
       "    </tr>\n",
       "    <tr>\n",
       "      <th>2</th>\n",
       "      <td>Anne</td>\n",
       "      <td>40</td>\n",
       "    </tr>\n",
       "  </tbody>\n",
       "</table>\n",
       "</div>"
      ]
     },
     "execution_count": 8,
     "metadata": {},
     "output_type": "execute_result"
    }
   ],
   "execution_count": 8
  },
  {
   "metadata": {},
   "cell_type": "markdown",
   "source": "### 数据类型会自动识别，这种方式只能统一指定所有的数据类型",
   "id": "8c6a4a47cdfee43a"
  },
  {
   "metadata": {
    "ExecuteTime": {
     "end_time": "2024-04-18T08:09:53.495737Z",
     "start_time": "2024-04-18T08:09:53.479402Z"
    }
   },
   "cell_type": "code",
   "source": [
    "data = [['xiaowang', 20, \"男\", 5000.50],['Lily', 30, \"男\", 8000],['Anne', 40, \"女\", 10000]]\n",
    "# 分配列标签 \n",
    "#df = pd.DataFrame(data,columns=['Name','Age',\"gender\", \"salary\"], dtype=[str,int,str,float])  #错误\n",
    "df = pd.DataFrame(data, columns=['Name','Age',\"gender\", \"salary\"], dtype=str)\n",
    "# int满足某列特征,会自动使用, 不满足,则自动识别\n",
    "print(df)\n",
    "\n",
    "print(df['salary'].dtype)"
   ],
   "id": "20dd101215dcaa5a",
   "outputs": [
    {
     "name": "stdout",
     "output_type": "stream",
     "text": [
      "       Name Age gender   salary\n",
      "0  xiaowang  20      男   5000.5\n",
      "1      Lily  30      男   8000.0\n",
      "2      Anne  40      女  10000.0\n",
      "object\n"
     ]
    }
   ],
   "execution_count": 9
  },
  {
   "metadata": {},
   "cell_type": "markdown",
   "source": [
    "###  <b>4. 字典嵌套列表创建</b>\n",
    "\n",
    "data 字典中，键对应的值的元素长度必须相同（也就是列表长度相同）。如果传递了索引，那么索引的长度应该等于数组的长度；如果没有传递索引，那么默认情况下，索引将是 RangeIndex(0.1...n)，其中 n 代表数组长度。"
   ],
   "id": "fad4df3d981a8229"
  },
  {
   "metadata": {
    "ExecuteTime": {
     "end_time": "2024-04-18T08:13:41.647396Z",
     "start_time": "2024-04-18T08:13:41.635839Z"
    }
   },
   "cell_type": "code",
   "source": [
    "data = {'Name':['关羽', '刘备', '张飞', '曹操'],'Age':[28,34,29,42]}\n",
    "# 通过字典创建DataFrame\n",
    "# df = pd.DataFrame(data) #默认为rangeIndex\n",
    "df = pd.DataFrame(data,index=['rank1','rank2','rank3','rank4'])\n",
    "print(df)\n",
    "# 输入行标签\n",
    "print(df.index)\n",
    "# 输入列标签\n",
    "print(df.columns)"
   ],
   "id": "3569998daaeeb4de",
   "outputs": [
    {
     "name": "stdout",
     "output_type": "stream",
     "text": [
      "      Name  Age\n",
      "rank1   关羽   28\n",
      "rank2   刘备   34\n",
      "rank3   张飞   29\n",
      "rank4   曹操   42\n",
      "Index(['rank1', 'rank2', 'rank3', 'rank4'], dtype='object')\n",
      "Index(['Name', 'Age'], dtype='object')\n"
     ]
    }
   ],
   "execution_count": 15
  },
  {
   "metadata": {},
   "cell_type": "markdown",
   "source": [
    "### <b>6. 列表嵌套字典创建DataFrame对象</b>\n",
    "\n",
    "列表嵌套字典可以作为输入数据传递给 DataFrame 构造函数。默认情况下，字典的键被用作列名。"
   ],
   "id": "81c26a6428bd4f66"
  },
  {
   "metadata": {
    "ExecuteTime": {
     "end_time": "2024-04-18T08:15:19.432185Z",
     "start_time": "2024-04-18T08:15:19.425432Z"
    }
   },
   "cell_type": "code",
   "source": [
    "data = [{'a': 1, 'b': 2},{'a': 5, 'b': 10, 'c': 20}]\n",
    "#df = pd.DataFrame(data)\n",
    "df = pd.DataFrame(data, index=['first', 'second']) # 不设置需要的列，默认选择键的名称作为列\n",
    "df"
   ],
   "id": "e7dbc2dfcf74cffd",
   "outputs": [
    {
     "data": {
      "text/plain": [
       "        a   b     c\n",
       "first   1   2   NaN\n",
       "second  5  10  20.0"
      ],
      "text/html": [
       "<div>\n",
       "<style scoped>\n",
       "    .dataframe tbody tr th:only-of-type {\n",
       "        vertical-align: middle;\n",
       "    }\n",
       "\n",
       "    .dataframe tbody tr th {\n",
       "        vertical-align: top;\n",
       "    }\n",
       "\n",
       "    .dataframe thead th {\n",
       "        text-align: right;\n",
       "    }\n",
       "</style>\n",
       "<table border=\"1\" class=\"dataframe\">\n",
       "  <thead>\n",
       "    <tr style=\"text-align: right;\">\n",
       "      <th></th>\n",
       "      <th>a</th>\n",
       "      <th>b</th>\n",
       "      <th>c</th>\n",
       "    </tr>\n",
       "  </thead>\n",
       "  <tbody>\n",
       "    <tr>\n",
       "      <th>first</th>\n",
       "      <td>1</td>\n",
       "      <td>2</td>\n",
       "      <td>NaN</td>\n",
       "    </tr>\n",
       "    <tr>\n",
       "      <th>second</th>\n",
       "      <td>5</td>\n",
       "      <td>10</td>\n",
       "      <td>20.0</td>\n",
       "    </tr>\n",
       "  </tbody>\n",
       "</table>\n",
       "</div>"
      ]
     },
     "execution_count": 17,
     "metadata": {},
     "output_type": "execute_result"
    }
   ],
   "execution_count": 17
  },
  {
   "metadata": {
    "ExecuteTime": {
     "end_time": "2024-04-18T08:17:12.483001Z",
     "start_time": "2024-04-18T08:17:12.472444Z"
    }
   },
   "cell_type": "code",
   "source": [
    "data = [{'a': 1, 'b': 2},{'a': 5, 'b': 10, 'c': 20}]\n",
    "df1 = pd.DataFrame(data, index=['first', 'second'], columns=['a', 'b'])# 选择需要的列\n",
    "\n",
    "# 注意：因为 b1 在字典键中不存在，所以对应值为 NaN。 \n",
    "df2 = pd.DataFrame(data, index=['first', 'second'], columns=['a', 'b1'])\n",
    "print(\"===========df1============\")\n",
    "print(df1)\n",
    "print(\"===========df2============\")\n",
    "print(df2)"
   ],
   "id": "8c1d28f431670f62",
   "outputs": [
    {
     "name": "stdout",
     "output_type": "stream",
     "text": [
      "===========df1============\n",
      "        a   b\n",
      "first   1   2\n",
      "second  5  10\n",
      "===========df2============\n",
      "        a  b1\n",
      "first   1 NaN\n",
      "second  5 NaN\n"
     ]
    }
   ],
   "execution_count": 18
  },
  {
   "metadata": {},
   "cell_type": "markdown",
   "source": [
    "### <b>7. Series创建DataFrame对象</b>\n",
    "\n",
    "您也可以传递一个字典形式的 Series，从而创建一个 DataFrame 对象，其输出结果的行索引是所有 index 的合集"
   ],
   "id": "ee96c87a55cbe771"
  },
  {
   "metadata": {
    "ExecuteTime": {
     "end_time": "2024-04-18T08:23:48.363301Z",
     "start_time": "2024-04-18T08:23:48.350124Z"
    }
   },
   "cell_type": "code",
   "source": [
    "d = {'one' : pd.Series([1, 2, 3], index=['a', 'b', 'c']),\n",
    "     'two' : pd.Series([1, 2, 3, 4], index=['a', 'b', 'c', 'd'])}\n",
    "df=pd.DataFrame(data=d)\n",
    "print(type(np.NaN)) # 因为有缺失值，所以该列的类型转换为和NaN相同的float64\n",
    "print(df.columns)\n",
    "print(df['one'].dtype)# 有缺失值,float64\n",
    "print(df['two'].dtype)# 没有缺失值,int64\n",
    "df"
   ],
   "id": "9088806fc6429f5c",
   "outputs": [
    {
     "name": "stdout",
     "output_type": "stream",
     "text": [
      "<class 'float'>\n",
      "Index(['one', 'two'], dtype='object')\n",
      "float64\n",
      "int64\n"
     ]
    },
    {
     "data": {
      "text/plain": [
       "   one  two\n",
       "a  1.0    1\n",
       "b  2.0    2\n",
       "c  3.0    3\n",
       "d  NaN    4"
      ],
      "text/html": [
       "<div>\n",
       "<style scoped>\n",
       "    .dataframe tbody tr th:only-of-type {\n",
       "        vertical-align: middle;\n",
       "    }\n",
       "\n",
       "    .dataframe tbody tr th {\n",
       "        vertical-align: top;\n",
       "    }\n",
       "\n",
       "    .dataframe thead th {\n",
       "        text-align: right;\n",
       "    }\n",
       "</style>\n",
       "<table border=\"1\" class=\"dataframe\">\n",
       "  <thead>\n",
       "    <tr style=\"text-align: right;\">\n",
       "      <th></th>\n",
       "      <th>one</th>\n",
       "      <th>two</th>\n",
       "    </tr>\n",
       "  </thead>\n",
       "  <tbody>\n",
       "    <tr>\n",
       "      <th>a</th>\n",
       "      <td>1.0</td>\n",
       "      <td>1</td>\n",
       "    </tr>\n",
       "    <tr>\n",
       "      <th>b</th>\n",
       "      <td>2.0</td>\n",
       "      <td>2</td>\n",
       "    </tr>\n",
       "    <tr>\n",
       "      <th>c</th>\n",
       "      <td>3.0</td>\n",
       "      <td>3</td>\n",
       "    </tr>\n",
       "    <tr>\n",
       "      <th>d</th>\n",
       "      <td>NaN</td>\n",
       "      <td>4</td>\n",
       "    </tr>\n",
       "  </tbody>\n",
       "</table>\n",
       "</div>"
      ]
     },
     "execution_count": 35,
     "metadata": {},
     "output_type": "execute_result"
    }
   ],
   "execution_count": 35
  },
  {
   "metadata": {
    "ExecuteTime": {
     "end_time": "2024-04-18T08:24:36.308397Z",
     "start_time": "2024-04-18T08:24:36.284795Z"
    }
   },
   "cell_type": "code",
   "source": [
    "# 创建数据\n",
    "data = {\n",
    "    \"Name\":pd.Series(['xiaowang', 'Lily', 'Anne']),\n",
    "    \"Age\":pd.Series([20, 30, 40],  dtype=float),\n",
    "    \"gender\":pd.Series([\"男\", \"男\", \"女\"]),\n",
    "    \"salary\":pd.Series([5000, 8000, 10000], dtype=float)\n",
    "}\n",
    "df = pd.DataFrame(data)\n",
    "# int满足某列特征,会自动使用, 不满足,则自动识别\n",
    "df\n",
    "# 解决不同列 设置自定义数据类型"
   ],
   "id": "c9101fa7916acaca",
   "outputs": [
    {
     "ename": "KeyError",
     "evalue": "0",
     "output_type": "error",
     "traceback": [
      "\u001B[0;31m---------------------------------------------------------------------------\u001B[0m",
      "\u001B[0;31mKeyError\u001B[0m                                  Traceback (most recent call last)",
      "\u001B[0;32m/opt/homebrew/anaconda3/envs/ml_learn/lib/python3.9/site-packages/pandas/core/indexes/base.py\u001B[0m in \u001B[0;36mget_loc\u001B[0;34m(self, key)\u001B[0m\n\u001B[1;32m   3790\u001B[0m         \u001B[0;32mtry\u001B[0m\u001B[0;34m:\u001B[0m\u001B[0;34m\u001B[0m\u001B[0;34m\u001B[0m\u001B[0m\n\u001B[0;32m-> 3791\u001B[0;31m             \u001B[0;32mreturn\u001B[0m \u001B[0mself\u001B[0m\u001B[0;34m.\u001B[0m\u001B[0m_engine\u001B[0m\u001B[0;34m.\u001B[0m\u001B[0mget_loc\u001B[0m\u001B[0;34m(\u001B[0m\u001B[0mcasted_key\u001B[0m\u001B[0;34m)\u001B[0m\u001B[0;34m\u001B[0m\u001B[0;34m\u001B[0m\u001B[0m\n\u001B[0m\u001B[1;32m   3792\u001B[0m         \u001B[0;32mexcept\u001B[0m \u001B[0mKeyError\u001B[0m \u001B[0;32mas\u001B[0m \u001B[0merr\u001B[0m\u001B[0;34m:\u001B[0m\u001B[0;34m\u001B[0m\u001B[0;34m\u001B[0m\u001B[0m\n",
      "\u001B[0;32mindex.pyx\u001B[0m in \u001B[0;36mpandas._libs.index.IndexEngine.get_loc\u001B[0;34m()\u001B[0m\n",
      "\u001B[0;32mindex.pyx\u001B[0m in \u001B[0;36mpandas._libs.index.IndexEngine.get_loc\u001B[0;34m()\u001B[0m\n",
      "\u001B[0;32mpandas/_libs/hashtable_class_helper.pxi\u001B[0m in \u001B[0;36mpandas._libs.hashtable.PyObjectHashTable.get_item\u001B[0;34m()\u001B[0m\n",
      "\u001B[0;32mpandas/_libs/hashtable_class_helper.pxi\u001B[0m in \u001B[0;36mpandas._libs.hashtable.PyObjectHashTable.get_item\u001B[0;34m()\u001B[0m\n",
      "\u001B[0;31mKeyError\u001B[0m: 0",
      "\nThe above exception was the direct cause of the following exception:\n",
      "\u001B[0;31mKeyError\u001B[0m                                  Traceback (most recent call last)",
      "\u001B[0;32m<ipython-input-37-a4a7bd4b8f07>\u001B[0m in \u001B[0;36m<module>\u001B[0;34m\u001B[0m\n\u001B[1;32m      8\u001B[0m \u001B[0mdf\u001B[0m \u001B[0;34m=\u001B[0m \u001B[0mpd\u001B[0m\u001B[0;34m.\u001B[0m\u001B[0mDataFrame\u001B[0m\u001B[0;34m(\u001B[0m\u001B[0mdata\u001B[0m\u001B[0;34m)\u001B[0m\u001B[0;34m\u001B[0m\u001B[0;34m\u001B[0m\u001B[0m\n\u001B[1;32m      9\u001B[0m \u001B[0;31m# int满足某列特征,会自动使用, 不满足,则自动识别\u001B[0m\u001B[0;34m\u001B[0m\u001B[0;34m\u001B[0m\u001B[0m\n\u001B[0;32m---> 10\u001B[0;31m \u001B[0mdf\u001B[0m\u001B[0;34m[\u001B[0m\u001B[0;36m0\u001B[0m\u001B[0;34m]\u001B[0m\u001B[0;34m\u001B[0m\u001B[0;34m\u001B[0m\u001B[0m\n\u001B[0m\u001B[1;32m     11\u001B[0m \u001B[0;31m# 解决不同列 设置自定义数据类型\u001B[0m\u001B[0;34m\u001B[0m\u001B[0;34m\u001B[0m\u001B[0m\n",
      "\u001B[0;32m/opt/homebrew/anaconda3/envs/ml_learn/lib/python3.9/site-packages/pandas/core/frame.py\u001B[0m in \u001B[0;36m__getitem__\u001B[0;34m(self, key)\u001B[0m\n\u001B[1;32m   3891\u001B[0m             \u001B[0;32mif\u001B[0m \u001B[0mself\u001B[0m\u001B[0;34m.\u001B[0m\u001B[0mcolumns\u001B[0m\u001B[0;34m.\u001B[0m\u001B[0mnlevels\u001B[0m \u001B[0;34m>\u001B[0m \u001B[0;36m1\u001B[0m\u001B[0;34m:\u001B[0m\u001B[0;34m\u001B[0m\u001B[0;34m\u001B[0m\u001B[0m\n\u001B[1;32m   3892\u001B[0m                 \u001B[0;32mreturn\u001B[0m \u001B[0mself\u001B[0m\u001B[0;34m.\u001B[0m\u001B[0m_getitem_multilevel\u001B[0m\u001B[0;34m(\u001B[0m\u001B[0mkey\u001B[0m\u001B[0;34m)\u001B[0m\u001B[0;34m\u001B[0m\u001B[0;34m\u001B[0m\u001B[0m\n\u001B[0;32m-> 3893\u001B[0;31m             \u001B[0mindexer\u001B[0m \u001B[0;34m=\u001B[0m \u001B[0mself\u001B[0m\u001B[0;34m.\u001B[0m\u001B[0mcolumns\u001B[0m\u001B[0;34m.\u001B[0m\u001B[0mget_loc\u001B[0m\u001B[0;34m(\u001B[0m\u001B[0mkey\u001B[0m\u001B[0;34m)\u001B[0m\u001B[0;34m\u001B[0m\u001B[0;34m\u001B[0m\u001B[0m\n\u001B[0m\u001B[1;32m   3894\u001B[0m             \u001B[0;32mif\u001B[0m \u001B[0mis_integer\u001B[0m\u001B[0;34m(\u001B[0m\u001B[0mindexer\u001B[0m\u001B[0;34m)\u001B[0m\u001B[0;34m:\u001B[0m\u001B[0;34m\u001B[0m\u001B[0;34m\u001B[0m\u001B[0m\n\u001B[1;32m   3895\u001B[0m                 \u001B[0mindexer\u001B[0m \u001B[0;34m=\u001B[0m \u001B[0;34m[\u001B[0m\u001B[0mindexer\u001B[0m\u001B[0;34m]\u001B[0m\u001B[0;34m\u001B[0m\u001B[0;34m\u001B[0m\u001B[0m\n",
      "\u001B[0;32m/opt/homebrew/anaconda3/envs/ml_learn/lib/python3.9/site-packages/pandas/core/indexes/base.py\u001B[0m in \u001B[0;36mget_loc\u001B[0;34m(self, key)\u001B[0m\n\u001B[1;32m   3796\u001B[0m             ):\n\u001B[1;32m   3797\u001B[0m                 \u001B[0;32mraise\u001B[0m \u001B[0mInvalidIndexError\u001B[0m\u001B[0;34m(\u001B[0m\u001B[0mkey\u001B[0m\u001B[0;34m)\u001B[0m\u001B[0;34m\u001B[0m\u001B[0;34m\u001B[0m\u001B[0m\n\u001B[0;32m-> 3798\u001B[0;31m             \u001B[0;32mraise\u001B[0m \u001B[0mKeyError\u001B[0m\u001B[0;34m(\u001B[0m\u001B[0mkey\u001B[0m\u001B[0;34m)\u001B[0m \u001B[0;32mfrom\u001B[0m \u001B[0merr\u001B[0m\u001B[0;34m\u001B[0m\u001B[0;34m\u001B[0m\u001B[0m\n\u001B[0m\u001B[1;32m   3799\u001B[0m         \u001B[0;32mexcept\u001B[0m \u001B[0mTypeError\u001B[0m\u001B[0;34m:\u001B[0m\u001B[0;34m\u001B[0m\u001B[0;34m\u001B[0m\u001B[0m\n\u001B[1;32m   3800\u001B[0m             \u001B[0;31m# If we have a listlike key, _check_indexing_error will raise\u001B[0m\u001B[0;34m\u001B[0m\u001B[0;34m\u001B[0m\u001B[0m\n",
      "\u001B[0;31mKeyError\u001B[0m: 0"
     ]
    }
   ],
   "execution_count": 37
  },
  {
   "metadata": {},
   "cell_type": "code",
   "outputs": [],
   "execution_count": null,
   "source": "",
   "id": "e14d48072046c4ca"
  }
 ],
 "metadata": {
  "kernelspec": {
   "display_name": "Python 3",
   "language": "python",
   "name": "python3"
  },
  "language_info": {
   "codemirror_mode": {
    "name": "ipython",
    "version": 2
   },
   "file_extension": ".py",
   "mimetype": "text/x-python",
   "name": "python",
   "nbconvert_exporter": "python",
   "pygments_lexer": "ipython2",
   "version": "2.7.6"
  }
 },
 "nbformat": 4,
 "nbformat_minor": 5
}
