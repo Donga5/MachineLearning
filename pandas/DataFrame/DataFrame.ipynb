{
 "cells": [
  {
   "metadata": {
    "ExecuteTime": {
     "end_time": "2024-04-16T07:22:33.039907Z",
     "start_time": "2024-04-16T07:22:32.560900Z"
    }
   },
   "cell_type": "code",
   "source": "import pandas as pd",
   "outputs": [],
   "execution_count": 2
  },
  {
   "metadata": {
    "ExecuteTime": {
     "end_time": "2024-04-16T07:23:29.177595Z",
     "start_time": "2024-04-16T07:23:29.133607Z"
    }
   },
   "cell_type": "code",
   "source": [
    "df1=pd.read_excel('data_set/肿瘤数据.xlsx')\n",
    "print(df1.head(10))\n",
    "print(df1.tail(10))"
   ],
   "outputs": [
    {
     "name": "stdout",
     "output_type": "stream",
     "text": [
      "     最大周长   最大凹陷度    平均凹陷度    最大面积   最大半径  平均灰度值  肿瘤性质\n",
      "0  184.60  0.2654  0.14710  2019.0  25.38  17.33     0\n",
      "1  158.80  0.1860  0.07017  1956.0  24.99  23.41     0\n",
      "2  152.50  0.2430  0.12790  1709.0  23.57  25.53     1\n",
      "3   98.87  0.2575  0.10520   567.7  14.91  26.50     0\n",
      "4  152.20  0.1625  0.10430  1575.0  22.54  16.67     0\n",
      "5  103.40  0.1741  0.08089   741.6  15.47  23.75     0\n",
      "6  153.20  0.1932  0.07400  1606.0  22.88  27.66     0\n",
      "7  110.60  0.1556  0.05985   897.0  17.06  28.14     0\n",
      "8  106.20  0.2060  0.09353   739.3  15.49  30.73     0\n",
      "9   97.65  0.2210  0.08543   711.4  15.09  40.68     0\n",
      "       最大周长    最大凹陷度    平均凹陷度    最大面积    最大半径  平均灰度值  肿瘤性质\n",
      "559   82.28  0.09653  0.04105   474.2  12.480  37.16     1\n",
      "560  100.20  0.10480  0.04304   706.7  15.300  33.17     1\n",
      "561   75.19  0.00000  0.00000   439.6  11.920  38.30     1\n",
      "562  128.70  0.23560  0.09429   915.0  17.520  42.79     0\n",
      "563  179.10  0.25420  0.14740  1819.0  24.290  29.41     0\n",
      "564  166.10  0.22160  0.13890  2027.0  25.450  26.40     0\n",
      "565  155.00  0.16280  0.09791  1731.0  23.690  38.25     0\n",
      "566  126.70  0.14180  0.05302  1124.0  18.980  34.12     0\n",
      "567  184.60  0.26500  0.15200  1821.0  25.740  39.42     0\n",
      "568   59.16  0.00000  0.00000   268.6   9.456  30.37     1\n"
     ]
    }
   ],
   "execution_count": 4
  },
  {
   "metadata": {
    "ExecuteTime": {
     "end_time": "2024-04-16T07:25:47.269528Z",
     "start_time": "2024-04-16T07:25:47.259307Z"
    }
   },
   "cell_type": "code",
   "source": [
    "print(df1.dtypes) #检查每列的数据类型\n",
    "print(df1.shape)"
   ],
   "outputs": [
    {
     "name": "stdout",
     "output_type": "stream",
     "text": [
      "最大周长     float64\n",
      "最大凹陷度    float64\n",
      "平均凹陷度    float64\n",
      "最大面积     float64\n",
      "最大半径     float64\n",
      "平均灰度值    float64\n",
      "肿瘤性质       int64\n",
      "dtype: object\n",
      "(569, 7)\n"
     ]
    }
   ],
   "execution_count": 6
  },
  {
   "metadata": {
    "ExecuteTime": {
     "end_time": "2024-04-16T07:27:20.490380Z",
     "start_time": "2024-04-16T07:27:20.400609Z"
    }
   },
   "cell_type": "code",
   "source": [
    "# 写入到excel和csv当中\n",
    "df1.to_excel('data_set/肿瘤数据_write_test.xlsx',sheet_name='cancer',index=True)\n",
    "df1.to_csv('data_set/肿瘤数据_write_test.csv',index=True)"
   ],
   "outputs": [],
   "execution_count": 7
  },
  {
   "metadata": {
    "ExecuteTime": {
     "end_time": "2024-04-16T07:31:14.844208Z",
     "start_time": "2024-04-16T07:31:14.810667Z"
    }
   },
   "cell_type": "code",
   "source": [
    "# 展示详细信息\n",
    "df1.info()"
   ],
   "outputs": [
    {
     "name": "stdout",
     "output_type": "stream",
     "text": [
      "<class 'pandas.core.frame.DataFrame'>\n",
      "RangeIndex: 569 entries, 0 to 568\n",
      "Data columns (total 7 columns):\n",
      " #   Column  Non-Null Count  Dtype  \n",
      "---  ------  --------------  -----  \n",
      " 0   最大周长    569 non-null    float64\n",
      " 1   最大凹陷度   569 non-null    float64\n",
      " 2   平均凹陷度   569 non-null    float64\n",
      " 3   最大面积    569 non-null    float64\n",
      " 4   最大半径    569 non-null    float64\n",
      " 5   平均灰度值   569 non-null    float64\n",
      " 6   肿瘤性质    569 non-null    int64  \n",
      "dtypes: float64(6), int64(1)\n",
      "memory usage: 31.2 KB\n"
     ]
    }
   ],
   "execution_count": 8
  },
  {
   "metadata": {},
   "cell_type": "markdown",
   "source": [
    "### 获取局部数据\n",
    "1.局部的列\n",
    "2.局部的行和列"
   ]
  },
  {
   "metadata": {
    "ExecuteTime": {
     "end_time": "2024-04-16T07:35:44.393835Z",
     "start_time": "2024-04-16T07:35:44.385130Z"
    }
   },
   "cell_type": "code",
   "source": [
    "s1=df1['最大周长']\n",
    "print(type(s1))\n",
    "print(s1)\n",
    "print('*'*20)\n",
    "\n",
    "df2=df1[['最大周长','最大面积']]\n",
    "print(type(df2))"
   ],
   "outputs": [
    {
     "name": "stdout",
     "output_type": "stream",
     "text": [
      "<class 'pandas.core.series.Series'>\n",
      "0      184.60\n",
      "1      158.80\n",
      "2      152.50\n",
      "3       98.87\n",
      "4      152.20\n",
      "        ...  \n",
      "564    166.10\n",
      "565    155.00\n",
      "566    126.70\n",
      "567    184.60\n",
      "568     59.16\n",
      "Name: 最大周长, Length: 569, dtype: float64\n",
      "********************\n",
      "<class 'pandas.core.frame.DataFrame'>\n"
     ]
    }
   ],
   "execution_count": 13
  },
  {
   "metadata": {
    "ExecuteTime": {
     "end_time": "2024-04-16T07:42:46.928068Z",
     "start_time": "2024-04-16T07:42:46.913730Z"
    }
   },
   "cell_type": "code",
   "source": [
    "s2=df1[df1['最大半径']<18] #还是包含全部的列\n",
    "print(s2.shape)\n",
    "print(df1[df1['肿瘤性质']==1].shape)\n",
    "# 先选择，然后进行投影\n",
    "s3=df1[df1['最大半径']<18][['最大周长','最大面积']]\n",
    "print(s3.shape)"
   ],
   "outputs": [
    {
     "name": "stdout",
     "output_type": "stream",
     "text": [
      "(414, 7)\n",
      "(358, 7)\n",
      "(414, 2)\n"
     ]
    }
   ],
   "execution_count": 19
  },
  {
   "metadata": {
    "ExecuteTime": {
     "end_time": "2024-04-16T07:51:06.259216Z",
     "start_time": "2024-04-16T07:51:06.245375Z"
    }
   },
   "cell_type": "code",
   "source": [
    "## 同时选择行和列\n",
    "s3=df1.loc[df1['最大半径']<18,['最大周长','最大面积']]\n",
    "print(s3.shape)\n",
    "s3=df1.iloc[0:100,[2,3,4]]\n",
    "print(s3)\n",
    "s3=df1.iloc[-100:,[2,3,4]]\n",
    "print(s3)"
   ],
   "outputs": [
    {
     "name": "stdout",
     "output_type": "stream",
     "text": [
      "(414, 2)\n",
      "       平均凹陷度    最大面积   最大半径\n",
      "0   0.147100  2019.0  25.38\n",
      "1   0.070170  1956.0  24.99\n",
      "2   0.127900  1709.0  23.57\n",
      "3   0.105200   567.7  14.91\n",
      "4   0.104300  1575.0  22.54\n",
      "..       ...     ...    ...\n",
      "95  0.086830  1750.0  24.22\n",
      "96  0.029410   495.2  12.83\n",
      "97  0.007937   366.1  10.92\n",
      "98  0.033500   512.5  13.06\n",
      "99  0.058390   826.4  16.33\n",
      "\n",
      "[100 rows x 3 columns]\n",
      "       平均凹陷度    最大面积    最大半径\n",
      "469  0.05564   528.1  13.360\n",
      "470  0.01514   385.2  11.140\n",
      "471  0.02377   567.6  13.600\n",
      "472  0.03221   906.6  17.180\n",
      "473  0.00000   558.9  13.450\n",
      "..       ...     ...     ...\n",
      "564  0.13890  2027.0  25.450\n",
      "565  0.09791  1731.0  23.690\n",
      "566  0.05302  1124.0  18.980\n",
      "567  0.15200  1821.0  25.740\n",
      "568  0.00000   268.6   9.456\n",
      "\n",
      "[100 rows x 3 columns]\n"
     ]
    }
   ],
   "execution_count": 22
  },
  {
   "metadata": {},
   "cell_type": "markdown",
   "source": "## 结合plt来进行绘图"
  },
  {
   "metadata": {
    "ExecuteTime": {
     "end_time": "2024-04-16T08:00:35.950604Z",
     "start_time": "2024-04-16T08:00:35.892389Z"
    }
   },
   "cell_type": "code",
   "source": [
    "import matplotlib.pyplot as plt\n",
    "air_quality=pd.read_csv('data_set/Air Quality NO2 Long.csv',index_col=0)\n",
    "air_quality.head()"
   ],
   "outputs": [
    {
     "data": {
      "text/plain": [
       "      country                   date.utc location parameter  value   unit\n",
       "city                                                                     \n",
       "Paris      FR  2019-06-21 00:00:00+00:00  FR04014       no2   20.0  µg/m³\n",
       "Paris      FR  2019-06-20 23:00:00+00:00  FR04014       no2   21.8  µg/m³\n",
       "Paris      FR  2019-06-20 22:00:00+00:00  FR04014       no2   26.5  µg/m³\n",
       "Paris      FR  2019-06-20 21:00:00+00:00  FR04014       no2   24.9  µg/m³\n",
       "Paris      FR  2019-06-20 20:00:00+00:00  FR04014       no2   21.4  µg/m³"
      ],
      "text/html": [
       "<div>\n",
       "<style scoped>\n",
       "    .dataframe tbody tr th:only-of-type {\n",
       "        vertical-align: middle;\n",
       "    }\n",
       "\n",
       "    .dataframe tbody tr th {\n",
       "        vertical-align: top;\n",
       "    }\n",
       "\n",
       "    .dataframe thead th {\n",
       "        text-align: right;\n",
       "    }\n",
       "</style>\n",
       "<table border=\"1\" class=\"dataframe\">\n",
       "  <thead>\n",
       "    <tr style=\"text-align: right;\">\n",
       "      <th></th>\n",
       "      <th>country</th>\n",
       "      <th>date.utc</th>\n",
       "      <th>location</th>\n",
       "      <th>parameter</th>\n",
       "      <th>value</th>\n",
       "      <th>unit</th>\n",
       "    </tr>\n",
       "    <tr>\n",
       "      <th>city</th>\n",
       "      <th></th>\n",
       "      <th></th>\n",
       "      <th></th>\n",
       "      <th></th>\n",
       "      <th></th>\n",
       "      <th></th>\n",
       "    </tr>\n",
       "  </thead>\n",
       "  <tbody>\n",
       "    <tr>\n",
       "      <th>Paris</th>\n",
       "      <td>FR</td>\n",
       "      <td>2019-06-21 00:00:00+00:00</td>\n",
       "      <td>FR04014</td>\n",
       "      <td>no2</td>\n",
       "      <td>20.0</td>\n",
       "      <td>µg/m³</td>\n",
       "    </tr>\n",
       "    <tr>\n",
       "      <th>Paris</th>\n",
       "      <td>FR</td>\n",
       "      <td>2019-06-20 23:00:00+00:00</td>\n",
       "      <td>FR04014</td>\n",
       "      <td>no2</td>\n",
       "      <td>21.8</td>\n",
       "      <td>µg/m³</td>\n",
       "    </tr>\n",
       "    <tr>\n",
       "      <th>Paris</th>\n",
       "      <td>FR</td>\n",
       "      <td>2019-06-20 22:00:00+00:00</td>\n",
       "      <td>FR04014</td>\n",
       "      <td>no2</td>\n",
       "      <td>26.5</td>\n",
       "      <td>µg/m³</td>\n",
       "    </tr>\n",
       "    <tr>\n",
       "      <th>Paris</th>\n",
       "      <td>FR</td>\n",
       "      <td>2019-06-20 21:00:00+00:00</td>\n",
       "      <td>FR04014</td>\n",
       "      <td>no2</td>\n",
       "      <td>24.9</td>\n",
       "      <td>µg/m³</td>\n",
       "    </tr>\n",
       "    <tr>\n",
       "      <th>Paris</th>\n",
       "      <td>FR</td>\n",
       "      <td>2019-06-20 20:00:00+00:00</td>\n",
       "      <td>FR04014</td>\n",
       "      <td>no2</td>\n",
       "      <td>21.4</td>\n",
       "      <td>µg/m³</td>\n",
       "    </tr>\n",
       "  </tbody>\n",
       "</table>\n",
       "</div>"
      ]
     },
     "execution_count": 26,
     "metadata": {},
     "output_type": "execute_result"
    }
   ],
   "execution_count": 26
  },
  {
   "metadata": {
    "ExecuteTime": {
     "end_time": "2024-04-16T08:01:13.384432Z",
     "start_time": "2024-04-16T08:01:13.204890Z"
    }
   },
   "cell_type": "code",
   "source": [
    "# quick view\n",
    "air_quality.plot()"
   ],
   "outputs": [
    {
     "data": {
      "text/plain": [
       "<Axes: xlabel='city'>"
      ]
     },
     "execution_count": 27,
     "metadata": {},
     "output_type": "execute_result"
    },
    {
     "data": {
      "text/plain": [
       "<Figure size 432x288 with 1 Axes>"
      ],
      "image/png": "[encoded data removed]"
     },
     "metadata": {
      "needs_background": "light"
     },
     "output_type": "display_data"
    }
   ],
   "execution_count": 27
  },
  {
   "metadata": {},
   "cell_type": "markdown",
   "source": [
    "## 获取当前数据的一些特征\n",
    "可以获取任意局部位置的特征\n",
    "- 均值\n",
    "- 方差\n",
    "- 中位数"
   ]
  },
  {
   "metadata": {},
   "cell_type": "code",
   "outputs": [],
   "execution_count": null,
   "source": ""
  }
 ],
 "metadata": {
  "kernelspec": {
   "display_name": "Python 3",
   "language": "python",
   "name": "python3"
  },
  "language_info": {
   "codemirror_mode": {
    "name": "ipython",
    "version": 3
   },
   "file_extension": ".py",
   "mimetype": "text/x-python",
   "name": "python",
   "nbconvert_exporter": "python",
   "pygments_lexer": "ipython3",
   "version": "3.7.6"
  }
 },
 "nbformat": 4,
 "nbformat_minor": 4
}
