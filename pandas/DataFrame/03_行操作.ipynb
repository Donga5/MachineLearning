{
 "cells": [
  {
   "metadata": {
    "ExecuteTime": {
     "end_time": "2024-04-18T14:50:39.650589Z",
     "start_time": "2024-04-18T14:50:39.235737Z"
    }
   },
   "cell_type": "code",
   "source": [
    "import pandas as pd\n",
    "import numpy as np"
   ],
   "id": "82099e6ed265bb21",
   "outputs": [],
   "execution_count": 1
  },
  {
   "metadata": {},
   "cell_type": "markdown",
   "source": [
    "# 行操作\n",
    "```\n",
    "2.行操作\n",
    "\t\t1).取(查)\n",
    "\t\t\tloc: 使用行标签\n",
    "\t\t\t\tdf.loc[\"行标签\"]  ---单行\n",
    "\t\t\t\tdf.loc[[\"行标签1\"],[\"行标签2\"]] - 多行\n",
    "\t\t\tiloc:使用行标签位置索引\n",
    "\t\t\t\tdf.loc[位置索引]  ---单行\n",
    "\t\t\t\tdf.loc[[位置索引1],[位置索引2]]\n",
    "\t\t\t\t还可以使用切片:\n",
    "\t\t\t\t\tdf.iloc[位置索引1:位置索引3]  ---切片,不包含结束行\n",
    "\t\n",
    "\t\t\t注意:\n",
    "\t\t\t\t不能行标签和行位置索引 混用\n",
    "\t\t\t\t\n",
    "\t\t2)增加:\n",
    "\t\t\t行追加:append\n",
    "\t\t\t\t1).追加字典\n",
    "\t\t\t\t\t-注意添加ignore_index=True,\n",
    "\t\t\t\t\t  或者将字典转化为Series并且设置name参数\n",
    "\t\t\t\t2).追加列表\t\t\t\t\t\t\t\t\t\n",
    "\t\t\t\t\t如果list是一维的,则以列的形式追加\n",
    "\t\t\t\t\t如果list是二维的,则以行的形式追加\n",
    "\t\t\t\t\t如果list是三维的,只添加一个值\n",
    "\t\t\t删除:\n",
    "\t\t\t\tdrop(\"行标签\") 和 Series一样操作\n",
    "\t\t\t\t-注意:标签找不到会被报错\n",
    "\t\t\t\t- 默认不改变源数据\n",
    "\t3.DataFrame属性和常用函数\n",
    "``"
   ],
   "id": "d49b00b6c01c5f5b"
  },
  {
   "metadata": {},
   "cell_type": "markdown",
   "source": [
    "## 标签选取\n",
    "- 行操作需要借助loc属性来完成:按标签或布尔数组访问一组行和列"
   ],
   "id": "587dbfdc39fef4bd"
  },
  {
   "metadata": {
    "ExecuteTime": {
     "end_time": "2024-04-18T14:19:51.721012Z",
     "start_time": "2024-04-18T14:19:51.714123Z"
    }
   },
   "cell_type": "code",
   "source": [
    "d = {'one' : pd.Series([1, 2, 3], index=['a', 'b', 'c']),\n",
    "     'two' : pd.Series([1, 2, 3, 4], index=['a', 'b', 'c', 'd'])\n",
    "     ,'three' : pd.Series([5,6,7,8], index=['a', 'b', 'c', 'd'])\n",
    "     }\n",
    "df= pd.DataFrame(d)\n",
    "print(df)\n",
    "print(\"=\"*20)\n",
    "\n",
    "print(df.loc['a'])\n",
    "print(type(df.loc['a'])) # Series\n",
    "      "
   ],
   "id": "f12e29a612b8a40c",
   "outputs": [
    {
     "name": "stdout",
     "output_type": "stream",
     "text": [
      "   one  two  three\n",
      "a  1.0    1      5\n",
      "b  2.0    2      6\n",
      "c  3.0    3      7\n",
      "d  NaN    4      8\n",
      "====================\n",
      "one      1.0\n",
      "two      1.0\n",
      "three    5.0\n",
      "Name: a, dtype: float64\n",
      "<class 'pandas.core.series.Series'>\n"
     ]
    }
   ],
   "execution_count": 11
  },
  {
   "metadata": {
    "ExecuteTime": {
     "end_time": "2024-04-18T14:17:41.267912Z",
     "start_time": "2024-04-18T14:17:41.262219Z"
    }
   },
   "cell_type": "code",
   "source": [
    "print(df.loc[['a','b']]) # 一次性选取多行\n",
    "print(type(df.loc[['a','b']])) # DataFrame"
   ],
   "id": "998d43916c596564",
   "outputs": [
    {
     "name": "stdout",
     "output_type": "stream",
     "text": [
      "   one  two\n",
      "a  1.0    1\n",
      "b  2.0    2\n",
      "<class 'pandas.core.frame.DataFrame'>\n"
     ]
    }
   ],
   "execution_count": 7
  },
  {
   "metadata": {
    "ExecuteTime": {
     "end_time": "2024-04-18T14:20:23.015978Z",
     "start_time": "2024-04-18T14:20:23.008356Z"
    }
   },
   "cell_type": "code",
   "source": [
    "# 列表的第一个值表示行，第二个表示列\n",
    "print(df.loc['c','three']) #选取一行一列"
   ],
   "id": "6c700b3ef2006287",
   "outputs": [
    {
     "name": "stdout",
     "output_type": "stream",
     "text": [
      "7\n"
     ]
    }
   ],
   "execution_count": 12
  },
  {
   "metadata": {
    "ExecuteTime": {
     "end_time": "2024-04-18T14:21:12.874214Z",
     "start_time": "2024-04-18T14:21:12.867603Z"
    }
   },
   "cell_type": "code",
   "source": [
    "print(df.loc[['a','d'],['two','three']]) # 选取不连续的多行和多列\n",
    "print(type(df.loc[['a','d'],['two','three']])) # DataFrame"
   ],
   "id": "205b34cb4ed54d4c",
   "outputs": [
    {
     "name": "stdout",
     "output_type": "stream",
     "text": [
      "   two  three\n",
      "a    1      5\n",
      "d    4      8\n",
      "<class 'pandas.core.frame.DataFrame'>\n"
     ]
    }
   ],
   "execution_count": 14
  },
  {
   "metadata": {
    "ExecuteTime": {
     "end_time": "2024-04-18T14:22:00.954390Z",
     "start_time": "2024-04-18T14:22:00.937851Z"
    }
   },
   "cell_type": "code",
   "source": "print(df.loc['a':'c','two':'three']) # 选取连续的多行多列",
   "id": "1e1de303ff89ead",
   "outputs": [
    {
     "name": "stdout",
     "output_type": "stream",
     "text": [
      "   two  three\n",
      "a    1      5\n",
      "b    2      6\n",
      "c    3      7\n"
     ]
    }
   ],
   "execution_count": 15
  },
  {
   "metadata": {},
   "cell_type": "markdown",
   "source": "和numpy的选取方式对比",
   "id": "7cc188905b4483dd"
  },
  {
   "metadata": {
    "ExecuteTime": {
     "end_time": "2024-04-18T14:23:38.276522Z",
     "start_time": "2024-04-18T14:23:38.246398Z"
    }
   },
   "cell_type": "code",
   "source": [
    "s=np.arange(12).reshape(3,4)\n",
    "s"
   ],
   "id": "17e7013e9cb5de06",
   "outputs": [
    {
     "data": {
      "text/plain": [
       "array([[ 0,  1,  2,  3],\n",
       "       [ 4,  5,  6,  7],\n",
       "       [ 8,  9, 10, 11]])"
      ]
     },
     "execution_count": 16,
     "metadata": {},
     "output_type": "execute_result"
    }
   ],
   "execution_count": 16
  },
  {
   "metadata": {
    "ExecuteTime": {
     "end_time": "2024-04-18T14:25:20.905397Z",
     "start_time": "2024-04-18T14:25:20.897402Z"
    }
   },
   "cell_type": "code",
   "source": "s[[0,2],[0,3]] # 第一个列表中的表示行，第二个列表中的表示列 选中[0,0]和[0,3]",
   "id": "9f5309ceb74bf39d",
   "outputs": [
    {
     "data": {
      "text/plain": [
       "array([ 0, 11])"
      ]
     },
     "execution_count": 19,
     "metadata": {},
     "output_type": "execute_result"
    }
   ],
   "execution_count": 19
  },
  {
   "metadata": {},
   "cell_type": "markdown",
   "source": [
    "## 数值型索引和切片\n",
    "- 主要是使用iloc属性,<font color=red>注意是属性，而不是方法<font>"
   ],
   "id": "7245b35bf950266c"
  },
  {
   "metadata": {
    "ExecuteTime": {
     "end_time": "2024-04-18T14:26:36.787607Z",
     "start_time": "2024-04-18T14:26:36.776281Z"
    }
   },
   "cell_type": "code",
   "source": [
    "data = {'Name':['关羽', '刘备', '张飞', '曹操'],'Age':[28,34,29,42]}\n",
    "# 定义行标签\n",
    "index = [\"rank1\", \"rank2\", \"rank3\", \"rank4\"]\n",
    "# 通过字典创建DataFrame\n",
    "df = pd.DataFrame(data, index=index)\n",
    "df"
   ],
   "id": "6c51c8ad80d719df",
   "outputs": [
    {
     "data": {
      "text/plain": [
       "      Name  Age\n",
       "rank1   关羽   28\n",
       "rank2   刘备   34\n",
       "rank3   张飞   29\n",
       "rank4   曹操   42"
      ],
      "text/html": [
       "<div>\n",
       "<style scoped>\n",
       "    .dataframe tbody tr th:only-of-type {\n",
       "        vertical-align: middle;\n",
       "    }\n",
       "\n",
       "    .dataframe tbody tr th {\n",
       "        vertical-align: top;\n",
       "    }\n",
       "\n",
       "    .dataframe thead th {\n",
       "        text-align: right;\n",
       "    }\n",
       "</style>\n",
       "<table border=\"1\" class=\"dataframe\">\n",
       "  <thead>\n",
       "    <tr style=\"text-align: right;\">\n",
       "      <th></th>\n",
       "      <th>Name</th>\n",
       "      <th>Age</th>\n",
       "    </tr>\n",
       "  </thead>\n",
       "  <tbody>\n",
       "    <tr>\n",
       "      <th>rank1</th>\n",
       "      <td>关羽</td>\n",
       "      <td>28</td>\n",
       "    </tr>\n",
       "    <tr>\n",
       "      <th>rank2</th>\n",
       "      <td>刘备</td>\n",
       "      <td>34</td>\n",
       "    </tr>\n",
       "    <tr>\n",
       "      <th>rank3</th>\n",
       "      <td>张飞</td>\n",
       "      <td>29</td>\n",
       "    </tr>\n",
       "    <tr>\n",
       "      <th>rank4</th>\n",
       "      <td>曹操</td>\n",
       "      <td>42</td>\n",
       "    </tr>\n",
       "  </tbody>\n",
       "</table>\n",
       "</div>"
      ]
     },
     "execution_count": 20,
     "metadata": {},
     "output_type": "execute_result"
    }
   ],
   "execution_count": 20
  },
  {
   "metadata": {
    "ExecuteTime": {
     "end_time": "2024-04-18T14:28:10.482741Z",
     "start_time": "2024-04-18T14:28:10.471637Z"
    }
   },
   "cell_type": "code",
   "source": [
    "print(df.iloc[2])\n",
    "print(df.iloc[2,0])# 第2行第0列"
   ],
   "id": "629c46022affcff",
   "outputs": [
    {
     "name": "stdout",
     "output_type": "stream",
     "text": [
      "Name    张飞\n",
      "Age     29\n",
      "Name: rank3, dtype: object\n",
      "张飞\n"
     ]
    }
   ],
   "execution_count": 25
  },
  {
   "metadata": {
    "ExecuteTime": {
     "end_time": "2024-04-18T14:29:13.302070Z",
     "start_time": "2024-04-18T14:29:13.294228Z"
    }
   },
   "cell_type": "code",
   "source": "print(df.iloc[[0,2,3]]) # 使用列表选取不连续的多行",
   "id": "b86c6316c3467cba",
   "outputs": [
    {
     "name": "stdout",
     "output_type": "stream",
     "text": [
      "      Name  Age\n",
      "rank1   关羽   28\n",
      "rank3   张飞   29\n",
      "rank4   曹操   42\n"
     ]
    }
   ],
   "execution_count": 26
  },
  {
   "metadata": {
    "ExecuteTime": {
     "end_time": "2024-04-18T14:32:39.183932Z",
     "start_time": "2024-04-18T14:32:39.173782Z"
    }
   },
   "cell_type": "code",
   "source": "print(df.iloc[0:2,0:2]) #连续的多行和多列",
   "id": "9bb10c69f6bf41c5",
   "outputs": [
    {
     "name": "stdout",
     "output_type": "stream",
     "text": [
      "      Name  Age\n",
      "rank1   关羽   28\n",
      "rank2   刘备   34\n"
     ]
    }
   ],
   "execution_count": 29
  },
  {
   "metadata": {
    "ExecuteTime": {
     "end_time": "2024-04-18T14:33:06.515429Z",
     "start_time": "2024-04-18T14:33:06.496197Z"
    }
   },
   "cell_type": "code",
   "source": [
    "data = {\n",
    "            'Name':['关羽', '刘备', '张飞', '曹操'], \n",
    "            'Age':[28, 34, 29, 42],\n",
    "            \"Salary\":[5000, 8000, 4500, 10000],\n",
    "            \"hobby\":[\"python\", \"java\", \"go\", \"JavaScript\"]\n",
    "       }\n",
    "# 定义行标签\n",
    "index = [\"rank1\", \"rank2\", \"rank3\", \"rank4\"]\n",
    "# 通过字典创建DataFrame\n",
    "df = pd.DataFrame(data, index=index)\n",
    "df"
   ],
   "id": "bd144e0eb9ad6325",
   "outputs": [
    {
     "data": {
      "text/plain": [
       "      Name  Age  Salary       hobby\n",
       "rank1   关羽   28    5000      python\n",
       "rank2   刘备   34    8000        java\n",
       "rank3   张飞   29    4500          go\n",
       "rank4   曹操   42   10000  JavaScript"
      ],
      "text/html": [
       "<div>\n",
       "<style scoped>\n",
       "    .dataframe tbody tr th:only-of-type {\n",
       "        vertical-align: middle;\n",
       "    }\n",
       "\n",
       "    .dataframe tbody tr th {\n",
       "        vertical-align: top;\n",
       "    }\n",
       "\n",
       "    .dataframe thead th {\n",
       "        text-align: right;\n",
       "    }\n",
       "</style>\n",
       "<table border=\"1\" class=\"dataframe\">\n",
       "  <thead>\n",
       "    <tr style=\"text-align: right;\">\n",
       "      <th></th>\n",
       "      <th>Name</th>\n",
       "      <th>Age</th>\n",
       "      <th>Salary</th>\n",
       "      <th>hobby</th>\n",
       "    </tr>\n",
       "  </thead>\n",
       "  <tbody>\n",
       "    <tr>\n",
       "      <th>rank1</th>\n",
       "      <td>关羽</td>\n",
       "      <td>28</td>\n",
       "      <td>5000</td>\n",
       "      <td>python</td>\n",
       "    </tr>\n",
       "    <tr>\n",
       "      <th>rank2</th>\n",
       "      <td>刘备</td>\n",
       "      <td>34</td>\n",
       "      <td>8000</td>\n",
       "      <td>java</td>\n",
       "    </tr>\n",
       "    <tr>\n",
       "      <th>rank3</th>\n",
       "      <td>张飞</td>\n",
       "      <td>29</td>\n",
       "      <td>4500</td>\n",
       "      <td>go</td>\n",
       "    </tr>\n",
       "    <tr>\n",
       "      <th>rank4</th>\n",
       "      <td>曹操</td>\n",
       "      <td>42</td>\n",
       "      <td>10000</td>\n",
       "      <td>JavaScript</td>\n",
       "    </tr>\n",
       "  </tbody>\n",
       "</table>\n",
       "</div>"
      ]
     },
     "execution_count": 30,
     "metadata": {},
     "output_type": "execute_result"
    }
   ],
   "execution_count": 30
  },
  {
   "metadata": {},
   "cell_type": "markdown",
   "source": [
    "#### 练习\n",
    "1. 取得第3行数据\n",
    "2. 取得Age列数据\n",
    "3. 取得Age和Salary列数据\n",
    "4. 取得前3行数据\n",
    "5. 取得前3行Name|Age|Salary数据\n",
    "6. 取得行1和3,列Age和Salary数据"
   ],
   "id": "c2cc32cde5c6cdba"
  },
  {
   "metadata": {
    "ExecuteTime": {
     "end_time": "2024-04-18T14:33:41.131463Z",
     "start_time": "2024-04-18T14:33:41.120774Z"
    }
   },
   "cell_type": "code",
   "source": [
    "print(df.iloc[2])\n",
    "print(df.loc['rank3'])"
   ],
   "id": "58961c50bb9cbfad",
   "outputs": [
    {
     "name": "stdout",
     "output_type": "stream",
     "text": [
      "Name        张飞\n",
      "Age         29\n",
      "Salary    4500\n",
      "hobby       go\n",
      "Name: rank3, dtype: object\n",
      "Name        张飞\n",
      "Age         29\n",
      "Salary    4500\n",
      "hobby       go\n",
      "Name: rank3, dtype: object\n"
     ]
    }
   ],
   "execution_count": 31
  },
  {
   "metadata": {
    "ExecuteTime": {
     "end_time": "2024-04-18T14:35:25.467182Z",
     "start_time": "2024-04-18T14:35:25.460039Z"
    }
   },
   "cell_type": "code",
   "source": [
    "print(df['Age']) # 直接索引列\n",
    "print(df.loc[:,'Age']) #使用loc\n",
    "print(df.iloc[:,1]) #使用位置索引"
   ],
   "id": "6c1a7382e53095d3",
   "outputs": [
    {
     "name": "stdout",
     "output_type": "stream",
     "text": [
      "rank1    28\n",
      "rank2    34\n",
      "rank3    29\n",
      "rank4    42\n",
      "Name: Age, dtype: int64\n",
      "rank1    28\n",
      "rank2    34\n",
      "rank3    29\n",
      "rank4    42\n",
      "Name: Age, dtype: int64\n",
      "rank1    28\n",
      "rank2    34\n",
      "rank3    29\n",
      "rank4    42\n",
      "Name: Age, dtype: int64\n"
     ]
    }
   ],
   "execution_count": 33
  },
  {
   "metadata": {
    "ExecuteTime": {
     "end_time": "2024-04-18T14:37:56.803857Z",
     "start_time": "2024-04-18T14:37:56.794624Z"
    }
   },
   "cell_type": "code",
   "source": [
    "print(df[['Age','Salary']])\n",
    "print(df.loc[:,['Age','Salary']]) #\n",
    "print(df.iloc[:,1:3])"
   ],
   "id": "a2cd55df344bb9ca",
   "outputs": [
    {
     "name": "stdout",
     "output_type": "stream",
     "text": [
      "       Age  Salary\n",
      "rank1   28    5000\n",
      "rank2   34    8000\n",
      "rank3   29    4500\n",
      "rank4   42   10000\n",
      "       Age  Salary\n",
      "rank1   28    5000\n",
      "rank2   34    8000\n",
      "rank3   29    4500\n",
      "rank4   42   10000\n",
      "       Age  Salary\n",
      "rank1   28    5000\n",
      "rank2   34    8000\n",
      "rank3   29    4500\n",
      "rank4   42   10000\n"
     ]
    }
   ],
   "execution_count": 37
  },
  {
   "metadata": {
    "ExecuteTime": {
     "end_time": "2024-04-18T14:38:30.892352Z",
     "start_time": "2024-04-18T14:38:30.875424Z"
    }
   },
   "cell_type": "code",
   "source": [
    "print(df.iloc[0:3])\n",
    "print(df.loc[\"rank1\":\"rank3\"])"
   ],
   "id": "51947fa181402260",
   "outputs": [
    {
     "name": "stdout",
     "output_type": "stream",
     "text": [
      "      Name  Age  Salary   hobby\n",
      "rank1   关羽   28    5000  python\n",
      "rank2   刘备   34    8000    java\n",
      "rank3   张飞   29    4500      go\n",
      "      Name  Age  Salary   hobby\n",
      "rank1   关羽   28    5000  python\n",
      "rank2   刘备   34    8000    java\n",
      "rank3   张飞   29    4500      go\n"
     ]
    }
   ],
   "execution_count": 38
  },
  {
   "metadata": {
    "ExecuteTime": {
     "end_time": "2024-04-18T14:40:01.664085Z",
     "start_time": "2024-04-18T14:40:01.655315Z"
    }
   },
   "cell_type": "code",
   "source": [
    "print(df.loc[\"rank1\":\"rank3\",['Name','Age','Salary']])\n",
    "print(df.loc['rank1':'rank3','Name':'Salary'])\n",
    "print(df.iloc[0:3,0:3])"
   ],
   "id": "91262e1c7599b5f0",
   "outputs": [
    {
     "name": "stdout",
     "output_type": "stream",
     "text": [
      "      Name  Age  Salary\n",
      "rank1   关羽   28    5000\n",
      "rank2   刘备   34    8000\n",
      "rank3   张飞   29    4500\n",
      "      Name  Age  Salary\n",
      "rank1   关羽   28    5000\n",
      "rank2   刘备   34    8000\n",
      "rank3   张飞   29    4500\n",
      "      Name  Age  Salary\n",
      "rank1   关羽   28    5000\n",
      "rank2   刘备   34    8000\n",
      "rank3   张飞   29    4500\n"
     ]
    }
   ],
   "execution_count": 41
  },
  {
   "metadata": {
    "ExecuteTime": {
     "end_time": "2024-04-18T14:40:29.305997Z",
     "start_time": "2024-04-18T14:40:29.296211Z"
    }
   },
   "cell_type": "code",
   "source": "print(df.loc[['rank1','rank3'],['Age','Salary']])",
   "id": "8a655c3bae7863e0",
   "outputs": [
    {
     "name": "stdout",
     "output_type": "stream",
     "text": [
      "       Age  Salary\n",
      "rank1   28    5000\n",
      "rank3   29    4500\n"
     ]
    }
   ],
   "execution_count": 42
  },
  {
   "metadata": {},
   "cell_type": "markdown",
   "source": [
    "## 添加数据\n",
    "使用 `append()` 函数，可以将新的数据行添加到 DataFrame 中，该函数会在行末追加数据行\n",
    "\n",
    "`df.append(other, ignore_index=False, verify_integrity=False, sort=False)`\n",
    "\n",
    "将\"other\"追加到调用者的末尾，<font color=\"red\">返回一个新对象</font>。\"other\"行中不在调用者中的列将作为新列添加。\n",
    "\n",
    "- other : DataFrame或Series/dict类对象，或这些对象的列表\n",
    "- ignore_index : 默认为False,如果为True将不适用index 标签.\n",
    "- verify_integrity : 默认为False如果为True，则在创建具有重复项的索引时引发ValueError.\n",
    "- sort : 排序"
   ],
   "id": "a96a19b431459836"
  },
  {
   "metadata": {
    "ExecuteTime": {
     "end_time": "2024-04-18T14:53:52.689701Z",
     "start_time": "2024-04-18T14:53:52.677605Z"
    }
   },
   "cell_type": "code",
   "source": [
    "data = {\n",
    "            'Name':['关羽', '刘备', '张飞', '曹操'], \n",
    "            'Age':[28, 34, 29, 42],\n",
    "            \"Salary\":[5000, 8000, 4500, 10000]\n",
    "       }\n",
    "df = pd.DataFrame(data)\n",
    "df"
   ],
   "id": "a35ea65361950532",
   "outputs": [
    {
     "data": {
      "text/plain": [
       "  Name  Age  Salary\n",
       "0   关羽   28    5000\n",
       "1   刘备   34    8000\n",
       "2   张飞   29    4500\n",
       "3   曹操   42   10000"
      ],
      "text/html": [
       "<div>\n",
       "<style scoped>\n",
       "    .dataframe tbody tr th:only-of-type {\n",
       "        vertical-align: middle;\n",
       "    }\n",
       "\n",
       "    .dataframe tbody tr th {\n",
       "        vertical-align: top;\n",
       "    }\n",
       "\n",
       "    .dataframe thead th {\n",
       "        text-align: right;\n",
       "    }\n",
       "</style>\n",
       "<table border=\"1\" class=\"dataframe\">\n",
       "  <thead>\n",
       "    <tr style=\"text-align: right;\">\n",
       "      <th></th>\n",
       "      <th>Name</th>\n",
       "      <th>Age</th>\n",
       "      <th>Salary</th>\n",
       "    </tr>\n",
       "  </thead>\n",
       "  <tbody>\n",
       "    <tr>\n",
       "      <th>0</th>\n",
       "      <td>关羽</td>\n",
       "      <td>28</td>\n",
       "      <td>5000</td>\n",
       "    </tr>\n",
       "    <tr>\n",
       "      <th>1</th>\n",
       "      <td>刘备</td>\n",
       "      <td>34</td>\n",
       "      <td>8000</td>\n",
       "    </tr>\n",
       "    <tr>\n",
       "      <th>2</th>\n",
       "      <td>张飞</td>\n",
       "      <td>29</td>\n",
       "      <td>4500</td>\n",
       "    </tr>\n",
       "    <tr>\n",
       "      <th>3</th>\n",
       "      <td>曹操</td>\n",
       "      <td>42</td>\n",
       "      <td>10000</td>\n",
       "    </tr>\n",
       "  </tbody>\n",
       "</table>\n",
       "</div>"
      ]
     },
     "execution_count": 11,
     "metadata": {},
     "output_type": "execute_result"
    }
   ],
   "execution_count": 11
  },
  {
   "metadata": {
    "ExecuteTime": {
     "end_time": "2024-04-18T14:53:55.409098Z",
     "start_time": "2024-04-18T14:53:55.397491Z"
    }
   },
   "cell_type": "code",
   "source": [
    "d2={'Name':'赵云','Age':25}\n",
    "# 仅当ignore_index=True或序列有名称时，才能追加序列或者Series数据有name\n",
    "df3=df.append(d2) #  Can only append a dict if ignore_index=True\n",
    "df3\n"
   ],
   "id": "bf43efcdc4ffeb68",
   "outputs": [
    {
     "name": "stderr",
     "output_type": "stream",
     "text": [
      "<ipython-input-12-98a1377fc704>:3: FutureWarning: The frame.append method is deprecated and will be removed from pandas in a future version. Use pandas.concat instead.\n",
      "  df3=df.append(d2) #  Can only append a dict if ignore_index=True\n"
     ]
    },
    {
     "ename": "TypeError",
     "evalue": "Can only append a dict if ignore_index=True",
     "output_type": "error",
     "traceback": [
      "\u001B[0;31m---------------------------------------------------------------------------\u001B[0m",
      "\u001B[0;31mTypeError\u001B[0m                                 Traceback (most recent call last)",
      "\u001B[0;32m<ipython-input-12-98a1377fc704>\u001B[0m in \u001B[0;36m<module>\u001B[0;34m\u001B[0m\n\u001B[1;32m      1\u001B[0m \u001B[0md2\u001B[0m\u001B[0;34m=\u001B[0m\u001B[0;34m{\u001B[0m\u001B[0;34m'Name'\u001B[0m\u001B[0;34m:\u001B[0m\u001B[0;34m'赵云'\u001B[0m\u001B[0;34m,\u001B[0m\u001B[0;34m'Age'\u001B[0m\u001B[0;34m:\u001B[0m\u001B[0;36m25\u001B[0m\u001B[0;34m}\u001B[0m\u001B[0;34m\u001B[0m\u001B[0;34m\u001B[0m\u001B[0m\n\u001B[1;32m      2\u001B[0m \u001B[0;31m# 仅当ignore_index=True或序列有名称时，才能追加序列或者Series数据有name\u001B[0m\u001B[0;34m\u001B[0m\u001B[0;34m\u001B[0m\u001B[0m\n\u001B[0;32m----> 3\u001B[0;31m \u001B[0mdf3\u001B[0m\u001B[0;34m=\u001B[0m\u001B[0mdf\u001B[0m\u001B[0;34m.\u001B[0m\u001B[0mappend\u001B[0m\u001B[0;34m(\u001B[0m\u001B[0md2\u001B[0m\u001B[0;34m)\u001B[0m \u001B[0;31m#  Can only append a dict if ignore_index=True\u001B[0m\u001B[0;34m\u001B[0m\u001B[0;34m\u001B[0m\u001B[0m\n\u001B[0m\u001B[1;32m      4\u001B[0m \u001B[0mdf3\u001B[0m\u001B[0;34m\u001B[0m\u001B[0;34m\u001B[0m\u001B[0m\n\u001B[1;32m      5\u001B[0m \u001B[0;34m\u001B[0m\u001B[0m\n",
      "\u001B[0;32m/opt/homebrew/anaconda3/envs/ml_learn/lib/python3.9/site-packages/pandas/core/frame.py\u001B[0m in \u001B[0;36mappend\u001B[0;34m(self, other, ignore_index, verify_integrity, sort)\u001B[0m\n\u001B[1;32m   9766\u001B[0m         )\n\u001B[1;32m   9767\u001B[0m \u001B[0;34m\u001B[0m\u001B[0m\n\u001B[0;32m-> 9768\u001B[0;31m         \u001B[0;32mreturn\u001B[0m \u001B[0mself\u001B[0m\u001B[0;34m.\u001B[0m\u001B[0m_append\u001B[0m\u001B[0;34m(\u001B[0m\u001B[0mother\u001B[0m\u001B[0;34m,\u001B[0m \u001B[0mignore_index\u001B[0m\u001B[0;34m,\u001B[0m \u001B[0mverify_integrity\u001B[0m\u001B[0;34m,\u001B[0m \u001B[0msort\u001B[0m\u001B[0;34m)\u001B[0m\u001B[0;34m\u001B[0m\u001B[0;34m\u001B[0m\u001B[0m\n\u001B[0m\u001B[1;32m   9769\u001B[0m \u001B[0;34m\u001B[0m\u001B[0m\n\u001B[1;32m   9770\u001B[0m     def _append(\n",
      "\u001B[0;32m/opt/homebrew/anaconda3/envs/ml_learn/lib/python3.9/site-packages/pandas/core/frame.py\u001B[0m in \u001B[0;36m_append\u001B[0;34m(self, other, ignore_index, verify_integrity, sort)\u001B[0m\n\u001B[1;32m   9778\u001B[0m             \u001B[0;32mif\u001B[0m \u001B[0misinstance\u001B[0m\u001B[0;34m(\u001B[0m\u001B[0mother\u001B[0m\u001B[0;34m,\u001B[0m \u001B[0mdict\u001B[0m\u001B[0;34m)\u001B[0m\u001B[0;34m:\u001B[0m\u001B[0;34m\u001B[0m\u001B[0;34m\u001B[0m\u001B[0m\n\u001B[1;32m   9779\u001B[0m                 \u001B[0;32mif\u001B[0m \u001B[0;32mnot\u001B[0m \u001B[0mignore_index\u001B[0m\u001B[0;34m:\u001B[0m\u001B[0;34m\u001B[0m\u001B[0;34m\u001B[0m\u001B[0m\n\u001B[0;32m-> 9780\u001B[0;31m                     \u001B[0;32mraise\u001B[0m \u001B[0mTypeError\u001B[0m\u001B[0;34m(\u001B[0m\u001B[0;34m\"Can only append a dict if ignore_index=True\"\u001B[0m\u001B[0;34m)\u001B[0m\u001B[0;34m\u001B[0m\u001B[0;34m\u001B[0m\u001B[0m\n\u001B[0m\u001B[1;32m   9781\u001B[0m                 \u001B[0mother\u001B[0m \u001B[0;34m=\u001B[0m \u001B[0mSeries\u001B[0m\u001B[0;34m(\u001B[0m\u001B[0mother\u001B[0m\u001B[0;34m)\u001B[0m\u001B[0;34m\u001B[0m\u001B[0;34m\u001B[0m\u001B[0m\n\u001B[1;32m   9782\u001B[0m             \u001B[0;32mif\u001B[0m \u001B[0mother\u001B[0m\u001B[0;34m.\u001B[0m\u001B[0mname\u001B[0m \u001B[0;32mis\u001B[0m \u001B[0;32mNone\u001B[0m \u001B[0;32mand\u001B[0m \u001B[0;32mnot\u001B[0m \u001B[0mignore_index\u001B[0m\u001B[0;34m:\u001B[0m\u001B[0;34m\u001B[0m\u001B[0;34m\u001B[0m\u001B[0m\n",
      "\u001B[0;31mTypeError\u001B[0m: Can only append a dict if ignore_index=True"
     ]
    }
   ],
   "execution_count": 12
  },
  {
   "metadata": {
    "ExecuteTime": {
     "end_time": "2024-04-18T14:53:57.677031Z",
     "start_time": "2024-04-18T14:53:57.672278Z"
    }
   },
   "cell_type": "code",
   "source": [
    "d2 = {\"Name\":\"诸葛亮\", \"Age\":30}\n",
    "#在行末追加新数据行\n",
    "df3 = df.append(d2, ignore_index=True) # 需要添加 \n",
    "print(df3)"
   ],
   "id": "6a132e36e6e478e8",
   "outputs": [
    {
     "name": "stdout",
     "output_type": "stream",
     "text": [
      "  Name  Age   Salary\n",
      "0   关羽   28   5000.0\n",
      "1   刘备   34   8000.0\n",
      "2   张飞   29   4500.0\n",
      "3   曹操   42  10000.0\n",
      "4  诸葛亮   30      NaN\n"
     ]
    },
    {
     "name": "stderr",
     "output_type": "stream",
     "text": [
      "<ipython-input-13-cc98462fed17>:3: FutureWarning: The frame.append method is deprecated and will be removed from pandas in a future version. Use pandas.concat instead.\n",
      "  df3 = df.append(d2, ignore_index=True) # 需要添加\n"
     ]
    }
   ],
   "execution_count": 13
  },
  {
   "metadata": {
    "ExecuteTime": {
     "end_time": "2024-04-18T14:53:59.314026Z",
     "start_time": "2024-04-18T14:53:59.308169Z"
    }
   },
   "cell_type": "code",
   "source": [
    "d2 = {\"Name\":\"赵云\", \"Age\":30}\n",
    "\n",
    "s = pd.Series(d2, name=\"a\")\n",
    "print(s)\n",
    "#在行末追加新数据行\n",
    "df4 = df3.append(s) # 需要添加 \n",
    "print(df4)"
   ],
   "id": "abc0da1bd09a5c98",
   "outputs": [
    {
     "name": "stdout",
     "output_type": "stream",
     "text": [
      "Name    赵云\n",
      "Age     30\n",
      "Name: a, dtype: object\n",
      "  Name  Age   Salary\n",
      "0   关羽   28   5000.0\n",
      "1   刘备   34   8000.0\n",
      "2   张飞   29   4500.0\n",
      "3   曹操   42  10000.0\n",
      "4  诸葛亮   30      NaN\n",
      "a   赵云   30      NaN\n"
     ]
    },
    {
     "name": "stderr",
     "output_type": "stream",
     "text": [
      "<ipython-input-14-4b484a5824e1>:6: FutureWarning: The frame.append method is deprecated and will be removed from pandas in a future version. Use pandas.concat instead.\n",
      "  df4 = df3.append(s) # 需要添加\n"
     ]
    }
   ],
   "execution_count": 14
  },
  {
   "metadata": {},
   "cell_type": "markdown",
   "source": [
    "### 追加列表\n",
    "- 如果list是一维的,则以列的形式追加\n",
    "- 如果list是二维的,则以行的形式追加\n",
    "- 如果list是三维的,只添加一个值\n",
    "\n",
    "<font color=\"red\">注意:</font>使用append可能会出现相同的index,想避免的话,可以使用ignore_index=True"
   ],
   "id": "ee026f089974120"
  },
  {
   "metadata": {
    "ExecuteTime": {
     "end_time": "2024-04-18T14:54:58.984727Z",
     "start_time": "2024-04-18T14:54:58.976900Z"
    }
   },
   "cell_type": "code",
   "source": [
    "data = [\n",
    "            [1, 2, 3, 4],\n",
    "            [5, 6, 7, 8]\n",
    "       ]\n",
    "            \n",
    "df = pd.DataFrame(data)\n",
    "print(df)"
   ],
   "id": "917abebe75db90fa",
   "outputs": [
    {
     "name": "stdout",
     "output_type": "stream",
     "text": [
      "   0  1  2  3\n",
      "0  1  2  3  4\n",
      "1  5  6  7  8\n"
     ]
    }
   ],
   "execution_count": 16
  },
  {
   "metadata": {
    "ExecuteTime": {
     "end_time": "2024-04-18T14:56:17.779089Z",
     "start_time": "2024-04-18T14:56:17.770016Z"
    }
   },
   "cell_type": "code",
   "source": [
    "# 实际上，会把列表中每个元素当做一行添加到DataFrame中\n",
    "l1=[10,20] # 一维添加\n",
    "df1=df.append(l1,ignore_index=True)\n",
    "print(df1)"
   ],
   "id": "8f270c31cb4595f6",
   "outputs": [
    {
     "name": "stdout",
     "output_type": "stream",
     "text": [
      "    0    1    2    3\n",
      "0   1  2.0  3.0  4.0\n",
      "1   5  6.0  7.0  8.0\n",
      "2  10  NaN  NaN  NaN\n",
      "3  20  NaN  NaN  NaN\n"
     ]
    },
    {
     "name": "stderr",
     "output_type": "stream",
     "text": [
      "<ipython-input-18-4bc70f0891bf>:2: FutureWarning: The frame.append method is deprecated and will be removed from pandas in a future version. Use pandas.concat instead.\n",
      "  df1=df.append(l1,ignore_index=True)\n"
     ]
    }
   ],
   "execution_count": 18
  },
  {
   "metadata": {
    "ExecuteTime": {
     "end_time": "2024-04-18T14:57:47.265677Z",
     "start_time": "2024-04-18T14:57:47.257136Z"
    }
   },
   "cell_type": "code",
   "source": [
    "l1=[10,20,30] # 一维添加\n",
    "df1=df.append(l1,ignore_index=True)\n",
    "print(df1)"
   ],
   "id": "703eaa1745794ebd",
   "outputs": [
    {
     "name": "stdout",
     "output_type": "stream",
     "text": [
      "    0    1    2    3\n",
      "0   1  2.0  3.0  4.0\n",
      "1   5  6.0  7.0  8.0\n",
      "2  10  NaN  NaN  NaN\n",
      "3  20  NaN  NaN  NaN\n",
      "4  30  NaN  NaN  NaN\n"
     ]
    },
    {
     "name": "stderr",
     "output_type": "stream",
     "text": [
      "<ipython-input-19-b968d5f03c8f>:2: FutureWarning: The frame.append method is deprecated and will be removed from pandas in a future version. Use pandas.concat instead.\n",
      "  df1=df.append(l1,ignore_index=True)\n"
     ]
    }
   ],
   "execution_count": 19
  },
  {
   "metadata": {
    "ExecuteTime": {
     "end_time": "2024-04-18T14:58:18.517844Z",
     "start_time": "2024-04-18T14:58:18.509691Z"
    }
   },
   "cell_type": "code",
   "source": [
    "# 二维添加\n",
    "l2=[[1,1,1],[2,2,3]]\n",
    "df2=df.append(l2,ignore_index=True)\n",
    "print(df2)"
   ],
   "id": "ed7fe0d132cbc808",
   "outputs": [
    {
     "name": "stdout",
     "output_type": "stream",
     "text": [
      "   0  1  2    3\n",
      "0  1  2  3  4.0\n",
      "1  5  6  7  8.0\n",
      "2  1  1  1  NaN\n",
      "3  2  2  3  NaN\n"
     ]
    },
    {
     "name": "stderr",
     "output_type": "stream",
     "text": [
      "<ipython-input-20-fe95e88810ce>:3: FutureWarning: The frame.append method is deprecated and will be removed from pandas in a future version. Use pandas.concat instead.\n",
      "  df2=df.append(l2,ignore_index=True)\n"
     ]
    }
   ],
   "execution_count": 20
  },
  {
   "metadata": {
    "ExecuteTime": {
     "end_time": "2024-04-18T15:02:50.965413Z",
     "start_time": "2024-04-18T15:02:50.953070Z"
    }
   },
   "cell_type": "code",
   "source": [
    "df3=pd.DataFrame([[1,2,3,4]],index=['aaa'])\n",
    "print(df3)\n",
    "# df4=df.append(df,ignore_index=True)\n",
    "df4=df.append(df3)\n",
    "df4"
   ],
   "id": "7e7b78a3fed3817c",
   "outputs": [
    {
     "name": "stdout",
     "output_type": "stream",
     "text": [
      "     0  1  2  3\n",
      "aaa  1  2  3  4\n"
     ]
    },
    {
     "name": "stderr",
     "output_type": "stream",
     "text": [
      "<ipython-input-31-91f2a023f36e>:4: FutureWarning: The frame.append method is deprecated and will be removed from pandas in a future version. Use pandas.concat instead.\n",
      "  df4=df.append(df3)\n"
     ]
    },
    {
     "data": {
      "text/plain": [
       "     0  1  2  3\n",
       "0    1  2  3  4\n",
       "1    5  6  7  8\n",
       "aaa  1  2  3  4"
      ],
      "text/html": [
       "<div>\n",
       "<style scoped>\n",
       "    .dataframe tbody tr th:only-of-type {\n",
       "        vertical-align: middle;\n",
       "    }\n",
       "\n",
       "    .dataframe tbody tr th {\n",
       "        vertical-align: top;\n",
       "    }\n",
       "\n",
       "    .dataframe thead th {\n",
       "        text-align: right;\n",
       "    }\n",
       "</style>\n",
       "<table border=\"1\" class=\"dataframe\">\n",
       "  <thead>\n",
       "    <tr style=\"text-align: right;\">\n",
       "      <th></th>\n",
       "      <th>0</th>\n",
       "      <th>1</th>\n",
       "      <th>2</th>\n",
       "      <th>3</th>\n",
       "    </tr>\n",
       "  </thead>\n",
       "  <tbody>\n",
       "    <tr>\n",
       "      <th>0</th>\n",
       "      <td>1</td>\n",
       "      <td>2</td>\n",
       "      <td>3</td>\n",
       "      <td>4</td>\n",
       "    </tr>\n",
       "    <tr>\n",
       "      <th>1</th>\n",
       "      <td>5</td>\n",
       "      <td>6</td>\n",
       "      <td>7</td>\n",
       "      <td>8</td>\n",
       "    </tr>\n",
       "    <tr>\n",
       "      <th>aaa</th>\n",
       "      <td>1</td>\n",
       "      <td>2</td>\n",
       "      <td>3</td>\n",
       "      <td>4</td>\n",
       "    </tr>\n",
       "  </tbody>\n",
       "</table>\n",
       "</div>"
      ]
     },
     "execution_count": 31,
     "metadata": {},
     "output_type": "execute_result"
    }
   ],
   "execution_count": 31
  },
  {
   "metadata": {},
   "cell_type": "markdown",
   "source": "",
   "id": "593a562800d91e71"
  },
  {
   "metadata": {},
   "cell_type": "markdown",
   "source": [
    "## 5. 删除数据行\n",
    "\n",
    "您可以使用行索引标签，从 DataFrame 中删除某一行数据。如果索引标签存在重复，那么它们将被一起删除。示例如下："
   ],
   "id": "5b33df5cf606fde7"
  },
  {
   "metadata": {
    "ExecuteTime": {
     "end_time": "2024-04-18T15:04:52.338735Z",
     "start_time": "2024-04-18T15:04:52.303849Z"
    }
   },
   "cell_type": "code",
   "source": [
    "df = pd.DataFrame([[1, 2], [3, 4]], columns = ['a','b'])\n",
    "\n",
    "df2 = pd.DataFrame([[5, 6], [7, 8]],index=['aaa','bbb'], columns = ['a','b'])\n",
    "\n",
    "df = df.append(df2)\n",
    "print(\"=======源数据df=======\")\n",
    "print(df)\n",
    "#注意此处调用了drop()方法,注意drop默认不会更改源数据\n",
    "df1 = df.drop(0)\n",
    "print(\"=======修改后数据df1=======\")\n",
    "print(df1)\n",
    "\n",
    "print(\"=======源数据df=======\")\n",
    "print(df)"
   ],
   "id": "faccaad71fb61139",
   "outputs": [
    {
     "name": "stdout",
     "output_type": "stream",
     "text": [
      "=======源数据df=======\n",
      "     a  b\n",
      "0    1  2\n",
      "1    3  4\n",
      "aaa  5  6\n",
      "bbb  7  8\n",
      "=======修改后数据df1=======\n",
      "     a  b\n",
      "1    3  4\n",
      "aaa  5  6\n",
      "bbb  7  8\n",
      "=======源数据df=======\n",
      "     a  b\n",
      "0    1  2\n",
      "1    3  4\n",
      "aaa  5  6\n",
      "bbb  7  8\n"
     ]
    },
    {
     "name": "stderr",
     "output_type": "stream",
     "text": [
      "<ipython-input-36-81960c43821f>:5: FutureWarning: The frame.append method is deprecated and will be removed from pandas in a future version. Use pandas.concat instead.\n",
      "  df = df.append(df2)\n"
     ]
    }
   ],
   "execution_count": 36
  },
  {
   "metadata": {
    "ExecuteTime": {
     "end_time": "2024-04-18T15:04:54.510281Z",
     "start_time": "2024-04-18T15:04:54.508572Z"
    }
   },
   "cell_type": "code",
   "source": "",
   "id": "59daea09fdc5d4dc",
   "outputs": [],
   "execution_count": 36
  },
  {
   "metadata": {},
   "cell_type": "code",
   "outputs": [],
   "execution_count": null,
   "source": "",
   "id": "954f700f4842bb10"
  }
 ],
 "metadata": {
  "kernelspec": {
   "display_name": "Python [conda env:ml_learn] *",
   "language": "python",
   "name": "conda-env-ml_learn-py"
  },
  "language_info": {
   "codemirror_mode": {
    "name": "ipython",
    "version": 2
   },
   "file_extension": ".py",
   "mimetype": "text/x-python",
   "name": "python",
   "nbconvert_exporter": "python",
   "pygments_lexer": "ipython2",
   "version": "2.7.6"
  }
 },
 "nbformat": 4,
 "nbformat_minor": 5
}
