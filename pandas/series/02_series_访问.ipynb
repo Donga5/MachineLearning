{
 "cells": [
  {
   "cell_type": "code",
   "id": "initial_id",
   "metadata": {
    "collapsed": true,
    "ExecuteTime": {
     "end_time": "2024-04-18T07:12:53.708925Z",
     "start_time": "2024-04-18T07:12:53.309913Z"
    }
   },
   "source": [
    "import pandas as pd\n",
    "import numpy as np"
   ],
   "outputs": [],
   "execution_count": 1
  },
  {
   "metadata": {},
   "cell_type": "markdown",
   "source": [
    "# Series的索引/切片\n",
    "\n",
    "### 1.下标索引\n",
    "\n",
    "类似于 列表索引"
   ],
   "id": "1a49b6e056761d67"
  },
  {
   "metadata": {
    "ExecuteTime": {
     "end_time": "2024-04-18T07:13:24.905098Z",
     "start_time": "2024-04-18T07:13:24.894765Z"
    }
   },
   "cell_type": "code",
   "source": [
    "s = pd.Series(np.random.rand(5))\n",
    "print(s)\n",
    "# s[3]是numpy float64类型的\n",
    "print(s[3], type(s[3]), s[3].dtype)"
   ],
   "id": "a7ab77ad2dd9106e",
   "outputs": [
    {
     "name": "stdout",
     "output_type": "stream",
     "text": [
      "0    0.171948\n",
      "1    0.935156\n",
      "2    0.679874\n",
      "3    0.056817\n",
      "4    0.020946\n",
      "dtype: float64\n",
      "0.05681659568713393 <class 'numpy.float64'> float64\n"
     ]
    }
   ],
   "execution_count": 2
  },
  {
   "metadata": {},
   "cell_type": "markdown",
   "source": "使用索引标签访问同时访问多个值",
   "id": "4db7a2272d5ec350"
  },
  {
   "metadata": {
    "ExecuteTime": {
     "end_time": "2024-04-18T07:13:52.886885Z",
     "start_time": "2024-04-18T07:13:52.838917Z"
    }
   },
   "cell_type": "code",
   "source": [
    "s= pd.Series(data= np.arange(6,11),index=list('abcde'))\n",
    "# 注意里边还嵌套一层列表，最后得到还是Series类型 .取出来会进行复制\n",
    "s1= s[['a','c','e']]\n",
    "print(type(s1))\n",
    "print(s1)\n",
    "# 不会修改原来的值\n",
    "s1['a']=999\n",
    "print(s1)\n",
    "print(s)"
   ],
   "id": "be4dd01780fc4766",
   "outputs": [
    {
     "name": "stdout",
     "output_type": "stream",
     "text": [
      "<class 'pandas.core.series.Series'>\n",
      "a     6\n",
      "c     8\n",
      "e    10\n",
      "dtype: int64\n",
      "a    999\n",
      "c      8\n",
      "e     10\n",
      "dtype: int64\n",
      "a     6\n",
      "b     7\n",
      "c     8\n",
      "d     9\n",
      "e    10\n",
      "dtype: int64\n"
     ]
    }
   ],
   "execution_count": 3
  },
  {
   "metadata": {},
   "cell_type": "markdown",
   "source": [
    "### 3. 切片\n",
    "- Series使用标签切片运算与普通的Python切片运算不同：Series使用标签切片时，其末端是包含的。\n",
    "- Series使用python切片运算即使用位置数值切片（下表切片，位置索引），其末端是不包含。"
   ],
   "id": "d939db770804da0f"
  },
  {
   "metadata": {},
   "cell_type": "markdown",
   "source": "#### 通过下标切片的方式访问 Series 序列中的数据，示例如下：",
   "id": "4cdd3eed96c3ff8a"
  },
  {
   "metadata": {},
   "cell_type": "code",
   "outputs": [
    {
     "data": {
      "text/plain": [
       "0    0.615646\n",
       "1    0.384411\n",
       "2    0.817059\n",
       "3    0.375394\n",
       "4    0.191842\n",
       "5    0.710905\n",
       "6    0.560208\n",
       "7    0.531109\n",
       "8    0.734969\n",
       "9    0.109635\n",
       "dtype: float64"
      ]
     },
     "execution_count": 8,
     "metadata": {},
     "output_type": "execute_result"
    }
   ],
   "execution_count": 8,
   "source": [
    "s = pd.Series(np.random.rand(10))\n",
    "s"
   ],
   "id": "f72153ddef1b4e4c"
  },
  {
   "metadata": {},
   "cell_type": "code",
   "outputs": [
    {
     "data": {
      "text/plain": [
       "1    0.384411\n",
       "2    0.817059\n",
       "3    0.375394\n",
       "4    0.191842\n",
       "dtype: float64"
      ]
     },
     "execution_count": 9,
     "metadata": {},
     "output_type": "execute_result"
    }
   ],
   "execution_count": 9,
   "source": [
    "# 位置索引和标签索引刚好一致,使用切片时,如果是数值会认为是python切片运算,不包含末端\n",
    "s[1:5]"
   ],
   "id": "6e9aa8347c956880"
  },
  {
   "metadata": {},
   "cell_type": "code",
   "outputs": [
    {
     "name": "stdout",
     "output_type": "stream",
     "text": [
      "a    1\n",
      "b    2\n",
      "c    3\n",
      "d    4\n",
      "e    5\n",
      "dtype: int64\n",
      "b    2\n",
      "c    3\n",
      "d    4\n",
      "dtype: int64\n"
     ]
    }
   ],
   "execution_count": 10,
   "source": [
    "s = pd.Series([1,2,3,4,5],index = ['a','b','c','d','e'])\n",
    "print(s)# 位置索引\n",
    "print(s[1:4])\n",
    "# print(s[0])  #位置下标\n",
    "# print(s['a']) #标签"
   ],
   "id": "4da040bcafd4b9f4"
  },
  {
   "metadata": {},
   "cell_type": "code",
   "outputs": [
    {
     "name": "stdout",
     "output_type": "stream",
     "text": [
      "a    1\n",
      "b    2\n",
      "c    3\n",
      "dtype: int64\n"
     ]
    }
   ],
   "execution_count": 11,
   "source": [
    "s = pd.Series([1,2,3,4,5],index = ['a','b','c','d','e'])\n",
    "print(s[:3])"
   ],
   "id": "a71205d8d6a2e793"
  },
  {
   "metadata": {},
   "cell_type": "code",
   "outputs": [
    {
     "name": "stdout",
     "output_type": "stream",
     "text": [
      "c    3\n",
      "d    4\n",
      "e    5\n",
      "dtype: int64\n"
     ]
    }
   ],
   "execution_count": 13,
   "source": [
    "# 如果想要获取最后三个元素，也可以使用下面的方式： \n",
    "s = pd.Series([1,2,3,4,5],index = ['a','b','c','d','e'])\n",
    "print(s[-3:])"
   ],
   "id": "1ed95f7483c5bceb"
  },
  {
   "metadata": {},
   "cell_type": "markdown",
   "source": "### 通过标签切片的方式访问 Series 序列中的数据，示例如下。（注意:使用标签切片的时候包含末端）",
   "id": "96a398b5b217b6c4"
  },
  {
   "metadata": {},
   "cell_type": "code",
   "outputs": [
    {
     "data": {
      "text/plain": [
       "b    7\n",
       "c    8\n",
       "d    9\n",
       "dtype: int64"
      ]
     },
     "execution_count": 14,
     "metadata": {},
     "output_type": "execute_result"
    }
   ],
   "execution_count": 14,
   "source": [
    "s1= pd.Series([6,7,8,9,10],index = ['a','b','c','d','e'])\n",
    "s1[\"b\":\"d\"]"
   ],
   "id": "9d8fcf132f6735af"
  },
  {
   "metadata": {},
   "cell_type": "code",
   "outputs": [
    {
     "data": {
      "text/plain": [
       "c     8\n",
       "b     9\n",
       "a    10\n",
       "dtype: int64"
      ]
     },
     "execution_count": 15,
     "metadata": {},
     "output_type": "execute_result"
    }
   ],
   "execution_count": 15,
   "source": [
    "s1= pd.Series([6,7,8,9,10],index = ['e','d','c','b','a'])\n",
    "s1[\"c\":\"a\"]"
   ],
   "id": "ff9f5df26898b1f5"
  },
  {
   "metadata": {},
   "cell_type": "code",
   "outputs": [
    {
     "data": {
      "text/plain": [
       "c    8\n",
       "dtype: int64"
      ]
     },
     "execution_count": 16,
     "metadata": {},
     "output_type": "execute_result"
    }
   ],
   "execution_count": 16,
   "source": "s1[\"c\":\"c\"] # 只有一个",
   "id": "1426e72820bd2390"
  },
  {
   "metadata": {},
   "cell_type": "code",
   "outputs": [
    {
     "data": {
      "text/plain": [
       "e     6\n",
       "d     7\n",
       "a     8\n",
       "b     9\n",
       "a    10\n",
       "dtype: int64"
      ]
     },
     "execution_count": 17,
     "metadata": {},
     "output_type": "execute_result"
    }
   ],
   "execution_count": 17,
   "source": [
    "s1= pd.Series([6,7,8,9,10],index = ['e','d','a','b','a'])\n",
    "s1"
   ],
   "id": "652932b326263c3c"
  },
  {
   "metadata": {},
   "cell_type": "markdown",
   "source": [
    "<font color=\"red\">注意：</font>\n",
    "\n",
    "在上面的索引方式，我们知道了位置索引和标签索引在index为数值类型时候的不同，\n",
    "- 当index为数值类型的时候，使用位置索引会抛出keyerror的异常，也就是说当index为数值类型的时候，索引使用的是标签索引。\n",
    "- 但是在切片的时候，有很大的不同，如果index为数值类型的时候，切片使用的是位置切片。总的来说，当index为数值类型的时候：\n",
    "\n",
    " - 进行索引的时候，相当于使用的是标签索引；\n",
    " - 进行切片的时候，相当于使用的是位置切片；"
   ],
   "id": "d0e827482c9c97b8"
  }
 ],
 "metadata": {
  "kernelspec": {
   "display_name": "Python 3",
   "language": "python",
   "name": "python3"
  },
  "language_info": {
   "codemirror_mode": {
    "name": "ipython",
    "version": 2
   },
   "file_extension": ".py",
   "mimetype": "text/x-python",
   "name": "python",
   "nbconvert_exporter": "python",
   "pygments_lexer": "ipython2",
   "version": "2.7.6"
  }
 },
 "nbformat": 4,
 "nbformat_minor": 5
}
