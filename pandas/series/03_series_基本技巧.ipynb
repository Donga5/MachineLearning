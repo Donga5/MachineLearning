{
 "cells": [
  {
   "cell_type": "code",
   "id": "initial_id",
   "metadata": {
    "collapsed": true,
    "ExecuteTime": {
     "end_time": "2024-04-18T07:24:15.834470Z",
     "start_time": "2024-04-18T07:24:15.370378Z"
    }
   },
   "source": [
    "import numpy as np\n",
    "import pandas as pd"
   ],
   "outputs": [],
   "execution_count": 1
  },
  {
   "metadata": {},
   "cell_type": "markdown",
   "source": [
    "# Series数据结构 基本技巧\n",
    "\n",
    "<b>1. 查看前几条和后几条数据</b>"
   ],
   "id": "de07a930b1d2f1be"
  },
  {
   "metadata": {
    "ExecuteTime": {
     "end_time": "2024-04-18T07:24:19.280038Z",
     "start_time": "2024-04-18T07:24:19.269599Z"
    }
   },
   "cell_type": "code",
   "source": [
    "s = pd.Series(np.random.rand(15))\n",
    "s"
   ],
   "id": "f2c8abac11990f05",
   "outputs": [
    {
     "data": {
      "text/plain": [
       "0     0.381143\n",
       "1     0.105745\n",
       "2     0.419053\n",
       "3     0.030500\n",
       "4     0.467828\n",
       "5     0.872320\n",
       "6     0.174935\n",
       "7     0.060968\n",
       "8     0.023302\n",
       "9     0.821264\n",
       "10    0.637570\n",
       "11    0.599177\n",
       "12    0.420210\n",
       "13    0.162018\n",
       "14    0.128116\n",
       "dtype: float64"
      ]
     },
     "execution_count": 2,
     "metadata": {},
     "output_type": "execute_result"
    }
   ],
   "execution_count": 2
  },
  {
   "metadata": {},
   "cell_type": "code",
   "outputs": [
    {
     "name": "stdout",
     "output_type": "stream",
     "text": [
      "0    0.288460\n",
      "1    0.428130\n",
      "2    0.160086\n",
      "3    0.570440\n",
      "4    0.920866\n",
      "dtype: float64\n",
      "0    0.288460\n",
      "1    0.428130\n",
      "2    0.160086\n",
      "dtype: float64\n"
     ]
    }
   ],
   "execution_count": 21,
   "source": [
    "print(s.head())# 默认显示前5条数据\n",
    "print(s.head(3))"
   ],
   "id": "9c162d697463e2b0"
  },
  {
   "metadata": {},
   "cell_type": "code",
   "outputs": [
    {
     "name": "stdout",
     "output_type": "stream",
     "text": [
      "10    0.669765\n",
      "11    0.939041\n",
      "12    0.271055\n",
      "13    0.085259\n",
      "14    0.536311\n",
      "dtype: float64\n"
     ]
    }
   ],
   "execution_count": 23,
   "source": "print(s.tail())",
   "id": "bd92ebc45df95ab"
  },
  {
   "metadata": {},
   "cell_type": "markdown",
   "source": [
    "### <b>2. 重新索引: reindex</b>\n",
    "\n",
    "根据索引从原来的series抽取一部分出来作为新的series\n",
    "\n",
    "将NaN放在上一个索引中没有值的位置"
   ],
   "id": "480920713f0620e4"
  },
  {
   "metadata": {
    "ExecuteTime": {
     "end_time": "2024-04-18T07:27:31.775073Z",
     "start_time": "2024-04-18T07:27:31.763037Z"
    }
   },
   "cell_type": "code",
   "source": [
    "s = pd.Series(np.random.rand(5),index=list(\"abcde\"))\n",
    "print(\"============s=========\")\n",
    "print(s)\n",
    "# 重新给定索引，如果不存在相应的值，默认设置为NaN\n",
    "s1 = s.reindex(list('cef'))\n",
    "print(s1)"
   ],
   "id": "9a17bdc7f244af68",
   "outputs": [
    {
     "name": "stdout",
     "output_type": "stream",
     "text": [
      "============s=========\n",
      "a    0.283764\n",
      "b    0.066418\n",
      "c    0.015371\n",
      "d    0.455733\n",
      "e    0.358424\n",
      "dtype: float64\n",
      "c    0.015371\n",
      "e    0.358424\n",
      "f         NaN\n",
      "dtype: float64\n"
     ]
    }
   ],
   "execution_count": 3
  },
  {
   "metadata": {},
   "cell_type": "code",
   "outputs": [
    {
     "name": "stdout",
     "output_type": "stream",
     "text": [
      "c    0.632346\n",
      "d    0.533034\n",
      "e    0.972225\n",
      "f    0.000000\n",
      "dtype: float64\n"
     ]
    }
   ],
   "execution_count": 30,
   "source": [
    "s1 = s.reindex(list('cdef'),fill_value=0) #设置不存在时候的填充值\n",
    "print(s1)"
   ],
   "id": "720e739d5238683e"
  },
  {
   "metadata": {},
   "cell_type": "markdown",
   "source": [
    "### <b>3.对齐运算</b>\n",
    "\n",
    "是数据清洗的重要过程，可以按索引对齐进行运算，如果没对齐的位置则补NaN，最后也可以填充NaN"
   ],
   "id": "2bbd0a9ffd11a347"
  },
  {
   "metadata": {},
   "cell_type": "code",
   "outputs": [
    {
     "name": "stdout",
     "output_type": "stream",
     "text": [
      "==========s1=========\n",
      "Kelly    0.508221\n",
      "Anne     0.445890\n",
      "T-C      0.202936\n",
      "dtype: float64\n",
      "==========s2=========\n",
      "Anne     0.489077\n",
      "Kelly    0.228615\n",
      "LiLy     0.679142\n",
      "dtype: float64\n",
      "==========s1+s2=========\n",
      "Anne     0.934967\n",
      "Kelly    0.736836\n",
      "LiLy          NaN\n",
      "T-C           NaN\n",
      "dtype: float64\n"
     ]
    }
   ],
   "execution_count": 32,
   "source": [
    "\n",
    "s1 = pd.Series(np.random.rand(3), index=[\"Kelly\",\"Anne\",\"T-C\"])\n",
    "\n",
    "s2 = pd.Series(np.random.rand(3), index=[\"Anne\",\"Kelly\",\"LiLy\"])\n",
    "\n",
    "print(\"==========s1=========\")\n",
    "print(s1)\n",
    "print(\"==========s2=========\")\n",
    "print(s2)\n",
    "print(\"==========s1+s2=========\")\n",
    "# 如果两组数据中存在相同的标签，将相同标签对应的值相加合并，不存在则无法进行合并，设置为NaN\n",
    "print(s1+s2)"
   ],
   "id": "2b454e316c231f6b"
  },
  {
   "metadata": {},
   "cell_type": "markdown",
   "source": [
    "### <b>4.删除和添加</b>\n",
    "- 删除"
   ],
   "id": "5c5846ca0fe193f7"
  },
  {
   "metadata": {
    "ExecuteTime": {
     "end_time": "2024-04-18T07:31:00.749713Z",
     "start_time": "2024-04-18T07:31:00.736106Z"
    }
   },
   "cell_type": "code",
   "source": [
    "s = pd.Series(np.random.rand(5),index=list(\"abcde\"))\n",
    "print(s)\n",
    "# 不修改原来的series，返回修改后的series\n",
    "s1 = s.drop(\"a\")\n",
    "print(s1) \n",
    "print(s)"
   ],
   "id": "a399f2eacbba1f0c",
   "outputs": [
    {
     "name": "stdout",
     "output_type": "stream",
     "text": [
      "a    0.182790\n",
      "b    0.412652\n",
      "c    0.706689\n",
      "d    0.812401\n",
      "e    0.235222\n",
      "dtype: float64\n",
      "b    0.412652\n",
      "c    0.706689\n",
      "d    0.812401\n",
      "e    0.235222\n",
      "dtype: float64\n",
      "a    0.182790\n",
      "b    0.412652\n",
      "c    0.706689\n",
      "d    0.812401\n",
      "e    0.235222\n",
      "dtype: float64\n"
     ]
    }
   ],
   "execution_count": 4
  },
  {
   "metadata": {
    "ExecuteTime": {
     "end_time": "2024-04-18T07:31:15.280085Z",
     "start_time": "2024-04-18T07:31:15.255410Z"
    }
   },
   "cell_type": "code",
   "source": [
    "s = pd.Series(np.random.rand(5),index=list(\"abcde\"))\n",
    "s1 = s.drop(\"a\",inplace=True) # 原值发生变化,返回None\n",
    "#s = s.drop(\"a\")\n",
    "print(s1) \n",
    "print(s)\n"
   ],
   "id": "3adc996882917bf3",
   "outputs": [
    {
     "name": "stdout",
     "output_type": "stream",
     "text": [
      "None\n",
      "b    0.717167\n",
      "c    0.225822\n",
      "d    0.176041\n",
      "e    0.594237\n",
      "dtype: float64\n"
     ]
    }
   ],
   "execution_count": 5
  },
  {
   "metadata": {},
   "cell_type": "markdown",
   "source": "- 添加",
   "id": "727a517a81e9950e"
  },
  {
   "metadata": {
    "ExecuteTime": {
     "end_time": "2024-04-18T07:37:33.882373Z",
     "start_time": "2024-04-18T07:37:33.859615Z"
    }
   },
   "cell_type": "code",
   "source": [
    "import pandas as pd\n",
    "# 添加\n",
    "s1 = pd.Series(np.random.rand(5),index=list(\"abcde\"))\n",
    "\n",
    "s1[\"s\"] = 100  # 对应的标签没有就是添加,,有就是修改\n",
    "print(s1)"
   ],
   "id": "6efe4b4120466112",
   "outputs": [
    {
     "name": "stdout",
     "output_type": "stream",
     "text": [
      "a      0.819634\n",
      "b      0.798878\n",
      "c      0.502069\n",
      "d      0.515656\n",
      "e      0.083110\n",
      "s    100.000000\n",
      "dtype: float64\n"
     ]
    }
   ],
   "execution_count": 10
  },
  {
   "metadata": {},
   "cell_type": "code",
   "outputs": [],
   "execution_count": null,
   "source": "",
   "id": "46aeccb27d65e655"
  }
 ],
 "metadata": {
  "kernelspec": {
   "display_name": "Python 3",
   "language": "python",
   "name": "python3"
  },
  "language_info": {
   "codemirror_mode": {
    "name": "ipython",
    "version": 2
   },
   "file_extension": ".py",
   "mimetype": "text/x-python",
   "name": "python",
   "nbconvert_exporter": "python",
   "pygments_lexer": "ipython2",
   "version": "2.7.6"
  }
 },
 "nbformat": 4,
 "nbformat_minor": 5
}
