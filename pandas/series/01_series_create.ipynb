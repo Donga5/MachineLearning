{
 "cells": [
  {
   "cell_type": "markdown",
   "metadata": {},
   "source": [
    "## Series\n",
    "具体的使用细节这里就不写了。\n",
    "使用方法参考课程的材料。路径：E:\\Resourse\\网课资源\\Python\\内蒙古农业大学数据分析资源\\第11天\n",
    "<br>\n",
    "<br>\n",
    "[官方文档](https://pandas.pydata.org/docs/getting_started/overview.html#) 官网的教程非常详细，而且配合图片很好理解"
   ]
  },
  {
   "metadata": {},
   "cell_type": "markdown",
   "source": [
    "## 相关介绍\n",
    "Series是一维数据,相当于是二维表格中的某一列，而DataFrame是二维数组，可看做是一张二维表格。可以参考官网文档的介绍。（有图像更加直观)."
   ]
  },
  {
   "cell_type": "code",
   "metadata": {
    "ExecuteTime": {
     "end_time": "2024-04-18T06:50:43.210809Z",
     "start_time": "2024-04-18T06:50:42.645380Z"
    }
   },
   "source": [
    "import numpy as np\n",
    "import pandas as pd # 通常使用这个简写"
   ],
   "outputs": [],
   "execution_count": 2
  },
  {
   "metadata": {
    "ExecuteTime": {
     "end_time": "2024-04-16T07:12:03.013317Z",
     "start_time": "2024-04-16T07:12:03.003382Z"
    }
   },
   "cell_type": "code",
   "source": [
    "df=pd.DataFrame(\n",
    "    {\n",
    "        'Name':[\n",
    "             \"Braund, Mr. Owen Harris\",\n",
    "            \"Allen, Mr. William Henry\",\n",
    "            \"Bonnell, Miss. Elizabeth\",\n",
    "        ],\n",
    "        'Age':[22,35,58],\n",
    "        'Sex':['male','male','female']\n",
    "    }\n",
    ")\n",
    "s1=df['Age']\n",
    "print(type(s1))\n",
    "print(s1.max())\n",
    "s2=s1.describe()\n",
    "print(type(s2)) # Series类型\n",
    "print(s2)\n"
   ],
   "outputs": [
    {
     "name": "stdout",
     "output_type": "stream",
     "text": [
      "<class 'pandas.core.series.Series'>\n",
      "58\n",
      "<class 'pandas.core.series.Series'>\n",
      "count     3.000000\n",
      "mean     38.333333\n",
      "std      18.230012\n",
      "min      22.000000\n",
      "25%      28.500000\n",
      "50%      35.000000\n",
      "75%      46.500000\n",
      "max      58.000000\n",
      "Name: Age, dtype: float64\n"
     ]
    }
   ],
   "execution_count": 14
  },
  {
   "metadata": {},
   "cell_type": "code",
   "outputs": [],
   "execution_count": null,
   "source": ""
  },
  {
   "metadata": {},
   "cell_type": "markdown",
   "source": "----"
  },
  {
   "cell_type": "markdown",
   "metadata": {},
   "source": [
    "### 1.创建"
   ]
  },
  {
   "cell_type": "code",
   "execution_count": 3,
   "metadata": {},
   "outputs": [
    {
     "name": "stdout",
     "output_type": "stream",
     "text": [
      "0    66\n",
      "1    88\n",
      "2    22\n",
      "3    35\n",
      "4     2\n",
      "dtype: int64\n",
      "<class 'pandas.core.series.Series'>\n"
     ]
    }
   ],
   "source": [
    "# 使用列表进行创建\n",
    "# 不显示提供标签，默认为RangeIndex\n",
    "list1= [66,88,22,35,2]\n",
    "s1= pd.Series(list1)\n",
    "print(s1)\n",
    "print(type(s1))"
   ]
  },
  {
   "cell_type": "code",
   "metadata": {
    "ExecuteTime": {
     "end_time": "2024-04-18T06:55:03.398066Z",
     "start_time": "2024-04-18T06:55:03.387432Z"
    }
   },
   "source": [
    "# 使用numpy数组作为数据源\n",
    "arr1=np.arange(1,6)\n",
    "s1= pd.Series(arr1)\n",
    "s1 # 输出的时候，左边那一列是标签值，右边是对应的数据值"
   ],
   "outputs": [
    {
     "data": {
      "text/plain": [
       "0    1\n",
       "1    2\n",
       "2    3\n",
       "3    4\n",
       "4    5\n",
       "dtype: int64"
      ]
     },
     "execution_count": 16,
     "metadata": {},
     "output_type": "execute_result"
    }
   ],
   "execution_count": 16
  },
  {
   "cell_type": "markdown",
   "metadata": {},
   "source": [
    "\n",
    "通过index 和values属性取得对应的标签和值"
   ]
  },
  {
   "cell_type": "code",
   "metadata": {
    "ExecuteTime": {
     "end_time": "2024-04-18T06:54:50.226967Z",
     "start_time": "2024-04-18T06:54:50.223179Z"
    }
   },
   "source": [
    "# RangeIndex（0，1，2，…，n）\n",
    "print(s1.index) \n",
    "print(type(s1.index))"
   ],
   "outputs": [
    {
     "name": "stdout",
     "output_type": "stream",
     "text": [
      "Index([0, 1, 2, 3, 4, -1], dtype='int64')\n",
      "<class 'pandas.core.indexes.base.Index'>\n"
     ]
    }
   ],
   "execution_count": 15
  },
  {
   "cell_type": "code",
   "metadata": {
    "ExecuteTime": {
     "end_time": "2024-04-18T06:54:47.052471Z",
     "start_time": "2024-04-18T06:54:47.047565Z"
    }
   },
   "source": [
    "# 将标签和值转化为列表进行输出\n",
    "print(list(s1.index))"
   ],
   "outputs": [
    {
     "name": "stdout",
     "output_type": "stream",
     "text": [
      "[0, 1, 2, 3, 4, -1]\n"
     ]
    }
   ],
   "execution_count": 14
  },
  {
   "cell_type": "code",
   "metadata": {
    "ExecuteTime": {
     "end_time": "2024-04-18T06:51:18.159083Z",
     "start_time": "2024-04-18T06:51:18.156275Z"
    }
   },
   "source": [
    "# 输出所有值 ,类型为ndarray\n",
    "print(s1.values,type(s1.values))"
   ],
   "outputs": [
    {
     "name": "stdout",
     "output_type": "stream",
     "text": [
      "[1 2 3 4 5] <class 'numpy.ndarray'>\n"
     ]
    }
   ],
   "execution_count": 7
  },
  {
   "cell_type": "markdown",
   "metadata": {},
   "source": [
    "通过标签获取对应的值或者是修改对应的值"
   ]
  },
  {
   "cell_type": "code",
   "execution_count": 20,
   "metadata": {},
   "outputs": [
    {
     "data": {
      "text/plain": [
       "3"
      ]
     },
     "execution_count": 20,
     "metadata": {},
     "output_type": "execute_result"
    }
   ],
   "source": [
    "s1[2]"
   ]
  },
  {
   "cell_type": "code",
   "execution_count": 24,
   "metadata": {},
   "outputs": [
    {
     "data": {
      "text/plain": [
       "300"
      ]
     },
     "execution_count": 24,
     "metadata": {},
     "output_type": "execute_result"
    }
   ],
   "source": [
    "s1[2]=300 # 通过标签修改对应的值\n",
    "\n",
    "s1[2]"
   ]
  },
  {
   "cell_type": "code",
   "metadata": {
    "scrolled": true,
    "ExecuteTime": {
     "end_time": "2024-04-18T06:51:57.153970Z",
     "start_time": "2024-04-18T06:51:57.131701Z"
    }
   },
   "source": [
    "s1[-1] # 报错，数据里边并没有-1这个标签"
   ],
   "outputs": [
    {
     "ename": "KeyError",
     "evalue": "-1",
     "output_type": "error",
     "traceback": [
      "\u001B[0;31m---------------------------------------------------------------------------\u001B[0m",
      "\u001B[0;31mValueError\u001B[0m                                Traceback (most recent call last)",
      "\u001B[0;32m/opt/homebrew/anaconda3/envs/ml_learn/lib/python3.9/site-packages/pandas/core/indexes/range.py\u001B[0m in \u001B[0;36mget_loc\u001B[0;34m(self, key)\u001B[0m\n\u001B[1;32m    413\u001B[0m             \u001B[0;32mtry\u001B[0m\u001B[0;34m:\u001B[0m\u001B[0;34m\u001B[0m\u001B[0;34m\u001B[0m\u001B[0m\n\u001B[0;32m--> 414\u001B[0;31m                 \u001B[0;32mreturn\u001B[0m \u001B[0mself\u001B[0m\u001B[0;34m.\u001B[0m\u001B[0m_range\u001B[0m\u001B[0;34m.\u001B[0m\u001B[0mindex\u001B[0m\u001B[0;34m(\u001B[0m\u001B[0mnew_key\u001B[0m\u001B[0;34m)\u001B[0m\u001B[0;34m\u001B[0m\u001B[0;34m\u001B[0m\u001B[0m\n\u001B[0m\u001B[1;32m    415\u001B[0m             \u001B[0;32mexcept\u001B[0m \u001B[0mValueError\u001B[0m \u001B[0;32mas\u001B[0m \u001B[0merr\u001B[0m\u001B[0;34m:\u001B[0m\u001B[0;34m\u001B[0m\u001B[0;34m\u001B[0m\u001B[0m\n",
      "\u001B[0;31mValueError\u001B[0m: -1 is not in range",
      "\nThe above exception was the direct cause of the following exception:\n",
      "\u001B[0;31mKeyError\u001B[0m                                  Traceback (most recent call last)",
      "\u001B[0;32m<ipython-input-8-844fb030c4fd>\u001B[0m in \u001B[0;36m<module>\u001B[0;34m\u001B[0m\n\u001B[0;32m----> 1\u001B[0;31m \u001B[0ms1\u001B[0m\u001B[0;34m[\u001B[0m\u001B[0;34m-\u001B[0m\u001B[0;36m1\u001B[0m\u001B[0;34m]\u001B[0m \u001B[0;31m# 报错，数据里边并没有-1这个标签\u001B[0m\u001B[0;34m\u001B[0m\u001B[0;34m\u001B[0m\u001B[0m\n\u001B[0m",
      "\u001B[0;32m/opt/homebrew/anaconda3/envs/ml_learn/lib/python3.9/site-packages/pandas/core/series.py\u001B[0m in \u001B[0;36m__getitem__\u001B[0;34m(self, key)\u001B[0m\n\u001B[1;32m   1038\u001B[0m \u001B[0;34m\u001B[0m\u001B[0m\n\u001B[1;32m   1039\u001B[0m         \u001B[0;32melif\u001B[0m \u001B[0mkey_is_scalar\u001B[0m\u001B[0;34m:\u001B[0m\u001B[0;34m\u001B[0m\u001B[0;34m\u001B[0m\u001B[0m\n\u001B[0;32m-> 1040\u001B[0;31m             \u001B[0;32mreturn\u001B[0m \u001B[0mself\u001B[0m\u001B[0;34m.\u001B[0m\u001B[0m_get_value\u001B[0m\u001B[0;34m(\u001B[0m\u001B[0mkey\u001B[0m\u001B[0;34m)\u001B[0m\u001B[0;34m\u001B[0m\u001B[0;34m\u001B[0m\u001B[0m\n\u001B[0m\u001B[1;32m   1041\u001B[0m \u001B[0;34m\u001B[0m\u001B[0m\n\u001B[1;32m   1042\u001B[0m         \u001B[0;31m# Convert generator to list before going through hashable part\u001B[0m\u001B[0;34m\u001B[0m\u001B[0;34m\u001B[0m\u001B[0m\n",
      "\u001B[0;32m/opt/homebrew/anaconda3/envs/ml_learn/lib/python3.9/site-packages/pandas/core/series.py\u001B[0m in \u001B[0;36m_get_value\u001B[0;34m(self, label, takeable)\u001B[0m\n\u001B[1;32m   1154\u001B[0m \u001B[0;34m\u001B[0m\u001B[0m\n\u001B[1;32m   1155\u001B[0m         \u001B[0;31m# Similar to Index.get_value, but we do not fall back to positional\u001B[0m\u001B[0;34m\u001B[0m\u001B[0;34m\u001B[0m\u001B[0m\n\u001B[0;32m-> 1156\u001B[0;31m         \u001B[0mloc\u001B[0m \u001B[0;34m=\u001B[0m \u001B[0mself\u001B[0m\u001B[0;34m.\u001B[0m\u001B[0mindex\u001B[0m\u001B[0;34m.\u001B[0m\u001B[0mget_loc\u001B[0m\u001B[0;34m(\u001B[0m\u001B[0mlabel\u001B[0m\u001B[0;34m)\u001B[0m\u001B[0;34m\u001B[0m\u001B[0;34m\u001B[0m\u001B[0m\n\u001B[0m\u001B[1;32m   1157\u001B[0m \u001B[0;34m\u001B[0m\u001B[0m\n\u001B[1;32m   1158\u001B[0m         \u001B[0;32mif\u001B[0m \u001B[0mis_integer\u001B[0m\u001B[0;34m(\u001B[0m\u001B[0mloc\u001B[0m\u001B[0;34m)\u001B[0m\u001B[0;34m:\u001B[0m\u001B[0;34m\u001B[0m\u001B[0;34m\u001B[0m\u001B[0m\n",
      "\u001B[0;32m/opt/homebrew/anaconda3/envs/ml_learn/lib/python3.9/site-packages/pandas/core/indexes/range.py\u001B[0m in \u001B[0;36mget_loc\u001B[0;34m(self, key)\u001B[0m\n\u001B[1;32m    414\u001B[0m                 \u001B[0;32mreturn\u001B[0m \u001B[0mself\u001B[0m\u001B[0;34m.\u001B[0m\u001B[0m_range\u001B[0m\u001B[0;34m.\u001B[0m\u001B[0mindex\u001B[0m\u001B[0;34m(\u001B[0m\u001B[0mnew_key\u001B[0m\u001B[0;34m)\u001B[0m\u001B[0;34m\u001B[0m\u001B[0;34m\u001B[0m\u001B[0m\n\u001B[1;32m    415\u001B[0m             \u001B[0;32mexcept\u001B[0m \u001B[0mValueError\u001B[0m \u001B[0;32mas\u001B[0m \u001B[0merr\u001B[0m\u001B[0;34m:\u001B[0m\u001B[0;34m\u001B[0m\u001B[0;34m\u001B[0m\u001B[0m\n\u001B[0;32m--> 416\u001B[0;31m                 \u001B[0;32mraise\u001B[0m \u001B[0mKeyError\u001B[0m\u001B[0;34m(\u001B[0m\u001B[0mkey\u001B[0m\u001B[0;34m)\u001B[0m \u001B[0;32mfrom\u001B[0m \u001B[0merr\u001B[0m\u001B[0;34m\u001B[0m\u001B[0;34m\u001B[0m\u001B[0m\n\u001B[0m\u001B[1;32m    417\u001B[0m         \u001B[0;32mif\u001B[0m \u001B[0misinstance\u001B[0m\u001B[0;34m(\u001B[0m\u001B[0mkey\u001B[0m\u001B[0;34m,\u001B[0m \u001B[0mHashable\u001B[0m\u001B[0;34m)\u001B[0m\u001B[0;34m:\u001B[0m\u001B[0;34m\u001B[0m\u001B[0;34m\u001B[0m\u001B[0m\n\u001B[1;32m    418\u001B[0m             \u001B[0;32mraise\u001B[0m \u001B[0mKeyError\u001B[0m\u001B[0;34m(\u001B[0m\u001B[0mkey\u001B[0m\u001B[0;34m)\u001B[0m\u001B[0;34m\u001B[0m\u001B[0;34m\u001B[0m\u001B[0m\n",
      "\u001B[0;31mKeyError\u001B[0m: -1"
     ]
    }
   ],
   "execution_count": 8
  },
  {
   "cell_type": "code",
   "metadata": {
    "ExecuteTime": {
     "end_time": "2024-04-18T06:55:11.127727Z",
     "start_time": "2024-04-18T06:55:11.123728Z"
    }
   },
   "source": [
    "print(type(s1.index)) # 类型为RangeIndex\n",
    "s1[-1]=555 # 在Serices 如果不存在这个标签，则创建新的数据\n",
    "print(s1[-1])# 数据已经添加到Series\n",
    "print(type(s1.index)) # 类型已经变化为Index\n",
    "print(list(s1.index)) # 重新输出标签，新的标签已经添加到了最后"
   ],
   "outputs": [
    {
     "name": "stdout",
     "output_type": "stream",
     "text": [
      "<class 'pandas.core.indexes.range.RangeIndex'>\n",
      "555\n",
      "<class 'pandas.core.indexes.base.Index'>\n",
      "[0, 1, 2, 3, 4, -1]\n"
     ]
    }
   ],
   "execution_count": 17
  },
  {
   "cell_type": "markdown",
   "metadata": {},
   "source": [
    "- <b>和列表索引区别:</b>\n",
    " - 默认的索引RangeIndex,不能使用负值,来表示从后往前找元素,\n",
    " - 获取不存在的索引值对应数据,会报错,但是可以赋值,相当于新增数据\n",
    " - 可以新增不同类型索引的数据,新增不同类型索引的数据,索引的类型会发生自动变化\n",
    " "
   ]
  },
  {
   "cell_type": "markdown",
   "metadata": {},
   "source": [
    "#### 使用字典进行创建\n",
    "- 将字典中的key作为标签，value作为值。当key中存在整型的时候，不能够使用index来进行索引（否则这样和标签无法进行区分）\n",
    "- 当key中不存在整型数据的时候，可以标签和index来进行索引"
   ]
  },
  {
   "cell_type": "code",
   "metadata": {
    "ExecuteTime": {
     "end_time": "2024-04-18T06:56:08.232873Z",
     "start_time": "2024-04-18T06:56:08.222302Z"
    }
   },
   "source": [
    "dic1={'country':'china',\"age\":23,\"name\":'mike'}\n",
    "dic2={'class':2,1:566,'name':'zhansan'}\n",
    "s1=pd.Series(dic1)\n",
    "s2=pd.Series(dic2)\n",
    "print(s1)\n",
    "print(s2)"
   ],
   "outputs": [
    {
     "name": "stdout",
     "output_type": "stream",
     "text": [
      "country    china\n",
      "age           23\n",
      "name        mike\n",
      "dtype: object\n",
      "class          2\n",
      "1            566\n",
      "name     zhansan\n",
      "dtype: object\n"
     ]
    }
   ],
   "execution_count": 18
  },
  {
   "cell_type": "code",
   "metadata": {
    "ExecuteTime": {
     "end_time": "2024-04-18T06:56:23.716701Z",
     "start_time": "2024-04-18T06:56:23.709872Z"
    }
   },
   "source": [
    "# 不存在整型，既可以使用index也可以使用标签\n",
    "print(s1[0])\n",
    "print(s1['country'])\n",
    "print(s1[-1])"
   ],
   "outputs": [
    {
     "name": "stdout",
     "output_type": "stream",
     "text": [
      "china\n",
      "china\n",
      "mike\n"
     ]
    },
    {
     "name": "stderr",
     "output_type": "stream",
     "text": [
      "<ipython-input-19-b6b17fa19f93>:2: FutureWarning: Series.__getitem__ treating keys as positions is deprecated. In a future version, integer keys will always be treated as labels (consistent with DataFrame behavior). To access a value by position, use `ser.iloc[pos]`\n",
      "  print(s1[0])\n",
      "<ipython-input-19-b6b17fa19f93>:4: FutureWarning: Series.__getitem__ treating keys as positions is deprecated. In a future version, integer keys will always be treated as labels (consistent with DataFrame behavior). To access a value by position, use `ser.iloc[pos]`\n",
      "  print(s1[-1])\n"
     ]
    }
   ],
   "execution_count": 19
  },
  {
   "cell_type": "code",
   "execution_count": null,
   "metadata": {},
   "outputs": [],
   "source": [
    "# 存在整型，只能使用标签\n",
    "print(s2[2]) # 会报错"
   ]
  },
  {
   "cell_type": "markdown",
   "metadata": {},
   "source": [
    "### 参数说明"
   ]
  },
  {
   "cell_type": "markdown",
   "metadata": {},
   "source": [
    "## <b>a. index 参数</b>\n",
    "\n",
    "索引值,必须是可散列的(不可变数据类型（str，bytes和数值类型）)，并且与数据具有相同的长度,允许使用非唯一索引值。如果未提供，将默认为RangeIndex（0，1，2，…，n）"
   ]
  },
  {
   "cell_type": "markdown",
   "metadata": {},
   "source": [
    "  -   使用“显式索引”的方法定义索引标签"
   ]
  },
  {
   "cell_type": "code",
   "metadata": {
    "ExecuteTime": {
     "end_time": "2024-04-18T07:02:51.400983Z",
     "start_time": "2024-04-18T07:02:51.379868Z"
    }
   },
   "source": [
    "data = np.array(['a','b','c','d'])\n",
    "# 自定义标签，需要和数据的长度一致 .不一致会报错\n",
    "s=pd.Series(data=data,index= [100,101,102,103])\n",
    "s"
   ],
   "outputs": [
    {
     "data": {
      "text/plain": [
       "100    a\n",
       "101    b\n",
       "102    c\n",
       "103    d\n",
       "dtype: object"
      ]
     },
     "execution_count": 20,
     "metadata": {},
     "output_type": "execute_result"
    }
   ],
   "execution_count": 20
  },
  {
   "cell_type": "code",
   "execution_count": 57,
   "metadata": {},
   "outputs": [
    {
     "data": {
      "text/plain": [
       "a      1.0\n",
       "b      2.0\n",
       "eee    NaN\n",
       "dtype: float64"
      ]
     },
     "execution_count": 57,
     "metadata": {},
     "output_type": "execute_result"
    }
   ],
   "source": [
    "# 使用字典作为数据来源，并且同时指定了自定义标签\n",
    "dic1={'a':1,'b':2,'c':3}\n",
    "# 以指定的index中的内容作为标签，对应值从提供的字典中寻找\n",
    "# 上（根据标签和key相对应），如果没有找到，设置为Nan\n",
    "s1=pd.Series(data=dic1,index=['a','b','eee'])\n",
    "s1"
   ]
  },
  {
   "cell_type": "markdown",
   "metadata": {},
   "source": [
    "## <b>b. name参数</b>\n",
    "\n",
    "我们可以给一个Series对象命名，也可以给一个Series数组中的索引列起一个名字，pandas为我们设计好了对象的属性，并在设置了name属性值用来进行名字的设定。以下程序可以用来完成该操作。"
   ]
  },
  {
   "cell_type": "code",
   "execution_count": 59,
   "metadata": {},
   "outputs": [
    {
     "data": {
      "text/plain": [
       "Beijing     2200\n",
       "Shanghai    2500\n",
       "Shenzhen    1700\n",
       "dtype: int64"
      ]
     },
     "execution_count": 59,
     "metadata": {},
     "output_type": "execute_result"
    }
   ],
   "source": [
    "dict_data1 = {\n",
    "    \"Beijing\":2200,\n",
    "    \"Shanghai\":2500,\n",
    "    \"Shenzhen\":1700\n",
    "}\n",
    "data1 = pd.Series(dict_data1)\n",
    "data1"
   ]
  },
  {
   "cell_type": "code",
   "execution_count": 63,
   "metadata": {},
   "outputs": [
    {
     "name": "stdout",
     "output_type": "stream",
     "text": [
      "City_data\n",
      "City_name\n"
     ]
    }
   ],
   "source": [
    "data1.name='City_data' # 其实是一个列名\n",
    "data1.index.name='City_name'\n",
    "print(data1.name)\n",
    "print(data1.index.name)"
   ]
  },
  {
   "cell_type": "markdown",
   "metadata": {},
   "source": [
    "## <b>c. copy参数</b>\n",
    "    \n",
    "copy 表示对 data 进行拷贝，默认为 False,仅影响Series和ndarray数组。以其他类型的数据作为数据源默认都会重新拷贝一份"
   ]
  },
  {
   "cell_type": "code",
   "metadata": {
    "ExecuteTime": {
     "end_time": "2024-04-18T07:07:29.184218Z",
     "start_time": "2024-04-18T07:07:29.160583Z"
    }
   },
   "source": [
    "# 数组作为数据源\n",
    "np_rand = np.arange(1,6)\n",
    "# 使用数组创建Series\n",
    "s1 = pd.Series(np_rand)\n",
    "s1"
   ],
   "outputs": [
    {
     "data": {
      "text/plain": [
       "0    1\n",
       "1    2\n",
       "2    3\n",
       "3    4\n",
       "4    5\n",
       "dtype: int64"
      ]
     },
     "execution_count": 21,
     "metadata": {},
     "output_type": "execute_result"
    }
   ],
   "execution_count": 21
  },
  {
   "cell_type": "code",
   "metadata": {
    "ExecuteTime": {
     "end_time": "2024-04-18T07:07:39.035002Z",
     "start_time": "2024-04-18T07:07:39.024997Z"
    }
   },
   "source": [
    "# 改变Series标签为1的值\n",
    "s1[1] = 50\n",
    "\n",
    "# 输出Series对象s1\n",
    "print(\"s1:\",s1)\n",
    "\n",
    "# 输出数组对象np_rand. 会影响数据源\n",
    "print(\"np_rand:\",np_rand)"
   ],
   "outputs": [
    {
     "name": "stdout",
     "output_type": "stream",
     "text": [
      "s1: 0     1\n",
      "1    50\n",
      "2     3\n",
      "3     4\n",
      "4     5\n",
      "dtype: int64\n",
      "np_rand: [ 1 50  3  4  5]\n"
     ]
    }
   ],
   "execution_count": 22
  },
  {
   "cell_type": "code",
   "metadata": {
    "ExecuteTime": {
     "end_time": "2024-04-18T07:07:55.846770Z",
     "start_time": "2024-04-18T07:07:55.840218Z"
    }
   },
   "source": [
    "# 当源数据非Series和ndarray类型时,\n",
    "# 数组作为数据源\n",
    "my_list = [1,2,3,4,5,6]\n",
    "# 使用数组创建Series\n",
    "s2 = pd.Series(my_list)\n",
    "s2"
   ],
   "outputs": [
    {
     "data": {
      "text/plain": [
       "0    1\n",
       "1    2\n",
       "2    3\n",
       "3    4\n",
       "4    5\n",
       "5    6\n",
       "dtype: int64"
      ]
     },
     "execution_count": 23,
     "metadata": {},
     "output_type": "execute_result"
    }
   ],
   "execution_count": 23
  },
  {
   "cell_type": "code",
   "metadata": {
    "ExecuteTime": {
     "end_time": "2024-04-18T07:08:00.645953Z",
     "start_time": "2024-04-18T07:08:00.643252Z"
    }
   },
   "source": [
    "# 改变Series标签为1的值\n",
    "s2[1] = 50\n",
    "\n",
    "# 输出Series对象s2\n",
    "print(\"s2:\",s2)\n",
    "\n",
    "# 输出列表对象my_list\n",
    "print(\"my_list:\",my_list)"
   ],
   "outputs": [
    {
     "name": "stdout",
     "output_type": "stream",
     "text": [
      "s2: 0     1\n",
      "1    50\n",
      "2     3\n",
      "3     4\n",
      "4     5\n",
      "5     6\n",
      "dtype: int64\n",
      "my_list: [1, 2, 3, 4, 5, 6]\n"
     ]
    }
   ],
   "execution_count": 24
  },
  {
   "cell_type": "code",
   "execution_count": 74,
   "metadata": {},
   "outputs": [
    {
     "name": "stdout",
     "output_type": "stream",
     "text": [
      "{'Beijing': 2200, 'Shanghai': 2500, 'Shenzhen': 1700}\n"
     ]
    }
   ],
   "source": [
    "# 使用字典作为数据源的时会复制一份\n",
    "dict_data1 = {\n",
    "    \"Beijing\":2200,\n",
    "    \"Shanghai\":2500,\n",
    "    \"Shenzhen\":1700\n",
    "}\n",
    "data1 = pd.Series(dict_data1)\n",
    "data1[0]=999\n",
    "print(dict_data1)"
   ]
  }
 ],
 "metadata": {
  "kernelspec": {
   "display_name": "Python 3",
   "language": "python",
   "name": "python3"
  },
  "language_info": {
   "codemirror_mode": {
    "name": "ipython",
    "version": 3
   },
   "file_extension": ".py",
   "mimetype": "text/x-python",
   "name": "python",
   "nbconvert_exporter": "python",
   "pygments_lexer": "ipython3",
   "version": "3.7.6"
  }
 },
 "nbformat": 4,
 "nbformat_minor": 4
}
