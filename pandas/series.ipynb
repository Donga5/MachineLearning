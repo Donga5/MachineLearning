{
 "cells": [
  {
   "cell_type": "markdown",
   "metadata": {},
   "source": [
    "## Series\n",
    "具体的使用细节这里就不写了。\n",
    "使用方法参考课程的材料。路径：E:\\Resourse\\网课资源\\Python\\内蒙古农业大学数据分析资源\\第11天\n"
   ]
  },
  {
   "cell_type": "code",
   "execution_count": 1,
   "metadata": {},
   "outputs": [],
   "source": [
    "import numpy as np\n",
    "import pandas as pd # 通常使用这个简写"
   ]
  },
  {
   "cell_type": "markdown",
   "metadata": {},
   "source": [
    "### 1.创建"
   ]
  },
  {
   "cell_type": "code",
   "execution_count": 3,
   "metadata": {},
   "outputs": [
    {
     "name": "stdout",
     "output_type": "stream",
     "text": [
      "0    66\n",
      "1    88\n",
      "2    22\n",
      "3    35\n",
      "4     2\n",
      "dtype: int64\n",
      "<class 'pandas.core.series.Series'>\n"
     ]
    }
   ],
   "source": [
    "# 使用列表进行创建\n",
    "# 不显示提供标签，默认为RangeIndex\n",
    "list1= [66,88,22,35,2]\n",
    "s1= pd.Series(list1)\n",
    "print(s1)\n",
    "print(type(s1))"
   ]
  },
  {
   "cell_type": "code",
   "execution_count": 6,
   "metadata": {},
   "outputs": [
    {
     "data": {
      "text/plain": [
       "0    1\n",
       "1    2\n",
       "2    3\n",
       "3    4\n",
       "4    5\n",
       "dtype: int32"
      ]
     },
     "execution_count": 6,
     "metadata": {},
     "output_type": "execute_result"
    }
   ],
   "source": [
    "# 使用numpy数组作为数据源\n",
    "arr1=np.arange(1,6)\n",
    "s1= pd.Series(arr1)\n",
    "s1 # 输出的时候，左边那一列是标签值，右边是对应的数据值"
   ]
  },
  {
   "cell_type": "markdown",
   "metadata": {},
   "source": [
    "\n",
    "通过index 和values属性取得对应的标签和值"
   ]
  },
  {
   "cell_type": "code",
   "execution_count": 10,
   "metadata": {},
   "outputs": [
    {
     "name": "stdout",
     "output_type": "stream",
     "text": [
      "RangeIndex(start=0, stop=5, step=1)\n",
      "<class 'pandas.core.indexes.range.RangeIndex'>\n"
     ]
    }
   ],
   "source": [
    "# RangeIndex（0，1，2，…，n）\n",
    "print(s1.index) \n",
    "print(type(s1.index))"
   ]
  },
  {
   "cell_type": "code",
   "execution_count": 13,
   "metadata": {},
   "outputs": [
    {
     "name": "stdout",
     "output_type": "stream",
     "text": [
      "[0, 1, 2, 3, 4]\n"
     ]
    }
   ],
   "source": [
    "# 将标签和值转化为列表进行输出\n",
    "print(list(s1.index))\n"
   ]
  },
  {
   "cell_type": "code",
   "execution_count": 16,
   "metadata": {},
   "outputs": [
    {
     "name": "stdout",
     "output_type": "stream",
     "text": [
      "[1 2 3 4 5] <class 'numpy.ndarray'>\n"
     ]
    }
   ],
   "source": [
    "# 输出所有值 ,类型为ndarray\n",
    "print(s1.values,type(s1.values))"
   ]
  },
  {
   "cell_type": "markdown",
   "metadata": {},
   "source": [
    "通过标签获取对应的值或者是修改对应的值"
   ]
  },
  {
   "cell_type": "code",
   "execution_count": 20,
   "metadata": {},
   "outputs": [
    {
     "data": {
      "text/plain": [
       "3"
      ]
     },
     "execution_count": 20,
     "metadata": {},
     "output_type": "execute_result"
    }
   ],
   "source": [
    "s1[2]"
   ]
  },
  {
   "cell_type": "code",
   "execution_count": 24,
   "metadata": {},
   "outputs": [
    {
     "data": {
      "text/plain": [
       "300"
      ]
     },
     "execution_count": 24,
     "metadata": {},
     "output_type": "execute_result"
    }
   ],
   "source": [
    "s1[2]=300 # 通过标签修改对应的值\n",
    "s1[2]"
   ]
  },
  {
   "cell_type": "code",
   "execution_count": null,
   "metadata": {
    "scrolled": true
   },
   "outputs": [],
   "source": [
    "s1[-1] # 报错，数据里边并没有-1这个标签"
   ]
  },
  {
   "cell_type": "code",
   "execution_count": 27,
   "metadata": {},
   "outputs": [
    {
     "data": {
      "text/plain": [
       "555"
      ]
     },
     "execution_count": 27,
     "metadata": {},
     "output_type": "execute_result"
    }
   ],
   "source": [
    "s1[-1]=555 # 在Serices 如果不存在这个标签，则创建新的数据\n",
    "s1[-1]# 数据已经添加到Series"
   ]
  },
  {
   "cell_type": "markdown",
   "metadata": {},
   "source": [
    "- <b>和列表索引区别:</b>\n",
    " - 默认的索引RangeIndex,不能使用负值,来表示从后往前找元素,\n",
    " - 获取不存在的索引值对应数据,会报错,但是可以赋值,相当于新增数据\n",
    " - 可以新增不同类型索引的数据,新增不同类型索引的数据,索引的类型会发生自动变化\n",
    " "
   ]
  },
  {
   "cell_type": "markdown",
   "metadata": {},
   "source": [
    "#### 使用字典进行创建\n",
    "- 将字典中的key作为标签，value作为值。当key中存在整型的时候，不能够使用index来进行索引（否则这样和标签无法进行区分）\n",
    "- 当key中不存在整型数据的时候，可以标签和index来进行索引"
   ]
  },
  {
   "cell_type": "code",
   "execution_count": 43,
   "metadata": {},
   "outputs": [
    {
     "name": "stdout",
     "output_type": "stream",
     "text": [
      "country    china\n",
      "age           23\n",
      "name        mike\n",
      "dtype: object\n",
      "class          2\n",
      "1            566\n",
      "name     zhansan\n",
      "dtype: object\n"
     ]
    }
   ],
   "source": [
    "dic1={'country':'china',\"age\":23,\"name\":'mike'}\n",
    "dic2={'class':2,1:566,'name':'zhansan'}\n",
    "s1=pd.Series(dic1)\n",
    "s2=pd.Series(dic2)\n",
    "print(s1)\n",
    "print(s2)"
   ]
  },
  {
   "cell_type": "code",
   "execution_count": 44,
   "metadata": {},
   "outputs": [
    {
     "name": "stdout",
     "output_type": "stream",
     "text": [
      "china\n",
      "china\n",
      "mike\n"
     ]
    }
   ],
   "source": [
    "# 不存在整型，既可以使用index也可以使用标签\n",
    "print(s1[0])\n",
    "print(s1['country'])\n",
    "print(s1[-1])"
   ]
  },
  {
   "cell_type": "code",
   "execution_count": null,
   "metadata": {},
   "outputs": [],
   "source": [
    "# 存在整型，只能使用标签\n",
    "print(s2[2]) # 会报错"
   ]
  },
  {
   "cell_type": "markdown",
   "metadata": {},
   "source": [
    "### 参数说明"
   ]
  },
  {
   "cell_type": "markdown",
   "metadata": {},
   "source": [
    " - <b>a. index 参数</b>\n",
    "\n",
    "索引值,必须是可散列的(不可变数据类型（str，bytes和数值类型）)，并且与数据具有相同的长度,允许使用非唯一索引值。如果未提供，将默认为RangeIndex（0，1，2，…，n）"
   ]
  },
  {
   "cell_type": "markdown",
   "metadata": {},
   "source": [
    "  -   使用“显式索引”的方法定义索引标签"
   ]
  },
  {
   "cell_type": "code",
   "execution_count": 54,
   "metadata": {},
   "outputs": [
    {
     "data": {
      "text/plain": [
       "100    a\n",
       "101    b\n",
       "102    c\n",
       "103    d\n",
       "dtype: object"
      ]
     },
     "execution_count": 54,
     "metadata": {},
     "output_type": "execute_result"
    }
   ],
   "source": [
    "data = np.array(['a','b','c','d'])\n",
    "# 自定义标签，需要和数据的长度一致 .不一致会报错\n",
    "s=pd.Series(data=data,index= [100,101,102,103])\n",
    "s"
   ]
  },
  {
   "cell_type": "code",
   "execution_count": 57,
   "metadata": {},
   "outputs": [
    {
     "data": {
      "text/plain": [
       "a      1.0\n",
       "b      2.0\n",
       "eee    NaN\n",
       "dtype: float64"
      ]
     },
     "execution_count": 57,
     "metadata": {},
     "output_type": "execute_result"
    }
   ],
   "source": [
    "# 使用字典作为数据来源，并且同时指定了自定义标签\n",
    "dic1={'a':1,'b':2,'c':3}\n",
    "# 以指定的index中的内容作为标签，对应值从提供的字典中寻找上（根据标签和key相对应），如果没有找到，设置为Nan\n",
    "s1=pd.Series(data=dic1,index=['a','b','eee'])\n",
    "s1"
   ]
  },
  {
   "cell_type": "markdown",
   "metadata": {},
   "source": [
    " - <b>b. name参数</b>\n",
    "\n",
    "我们可以给一个Series对象命名，也可以给一个Series数组中的索引列起一个名字，pandas为我们设计好了对象的属性，并在设置了name属性值用来进行名字的设定。以下程序可以用来完成该操作。"
   ]
  },
  {
   "cell_type": "code",
   "execution_count": 59,
   "metadata": {},
   "outputs": [
    {
     "data": {
      "text/plain": [
       "Beijing     2200\n",
       "Shanghai    2500\n",
       "Shenzhen    1700\n",
       "dtype: int64"
      ]
     },
     "execution_count": 59,
     "metadata": {},
     "output_type": "execute_result"
    }
   ],
   "source": [
    "dict_data1 = {\n",
    "    \"Beijing\":2200,\n",
    "    \"Shanghai\":2500,\n",
    "    \"Shenzhen\":1700\n",
    "}\n",
    "data1 = pd.Series(dict_data1)\n",
    "data1"
   ]
  },
  {
   "cell_type": "code",
   "execution_count": 63,
   "metadata": {},
   "outputs": [
    {
     "name": "stdout",
     "output_type": "stream",
     "text": [
      "City_data\n",
      "City_name\n"
     ]
    }
   ],
   "source": [
    "data1.name='City_data'\n",
    "data1.index.name='City_name'\n",
    "print(data1.name)\n",
    "print(data1.index.name)"
   ]
  },
  {
   "cell_type": "markdown",
   "metadata": {},
   "source": [
    " - <b>c. copy参数</b>\n",
    "    \n",
    "copy 表示对 data 进行拷贝，默认为 False,仅影响Series和ndarray数组"
   ]
  },
  {
   "cell_type": "code",
   "execution_count": 65,
   "metadata": {},
   "outputs": [
    {
     "data": {
      "text/plain": [
       "0    1\n",
       "1    2\n",
       "2    3\n",
       "3    4\n",
       "4    5\n",
       "dtype: int32"
      ]
     },
     "execution_count": 65,
     "metadata": {},
     "output_type": "execute_result"
    }
   ],
   "source": [
    "# 数组作为数据源\n",
    "np_rand = np.arange(1,6)\n",
    "# 使用数组创建Series\n",
    "s1 = pd.Series(np_rand)\n",
    "s1"
   ]
  },
  {
   "cell_type": "code",
   "execution_count": 68,
   "metadata": {},
   "outputs": [
    {
     "name": "stdout",
     "output_type": "stream",
     "text": [
      "s1: 0     1\n",
      "1    50\n",
      "2     3\n",
      "3     4\n",
      "4     5\n",
      "dtype: int32\n",
      "np_rand: [ 1 50  3  4  5]\n"
     ]
    }
   ],
   "source": [
    "# 改变Series标签为1的值\n",
    "s1[1] = 50\n",
    "\n",
    "# 输出Series对象s1\n",
    "print(\"s1:\",s1)\n",
    "\n",
    "# 输出数组对象np_rand. 会影响数据源\n",
    "print(\"np_rand:\",np_rand)"
   ]
  },
  {
   "cell_type": "code",
   "execution_count": 70,
   "metadata": {},
   "outputs": [
    {
     "data": {
      "text/plain": [
       "0    1\n",
       "1    2\n",
       "2    3\n",
       "3    4\n",
       "4    5\n",
       "5    6\n",
       "dtype: int64"
      ]
     },
     "execution_count": 70,
     "metadata": {},
     "output_type": "execute_result"
    }
   ],
   "source": [
    "# 当源数据非Series和ndarray类型时,\n",
    "# 数组作为数据源\n",
    "my_list = [1,2,3,4,5,6]\n",
    "# 使用数组创建Series\n",
    "s2 = pd.Series(my_list)\n",
    "s2"
   ]
  },
  {
   "cell_type": "code",
   "execution_count": 72,
   "metadata": {},
   "outputs": [
    {
     "name": "stdout",
     "output_type": "stream",
     "text": [
      "s2: 0     1\n",
      "1    50\n",
      "2     3\n",
      "3     4\n",
      "4     5\n",
      "5     6\n",
      "dtype: int64\n",
      "my_list: [1, 2, 3, 4, 5, 6]\n"
     ]
    }
   ],
   "source": [
    "# 改变Series标签为1的值\n",
    "s2[1] = 50\n",
    "\n",
    "# 输出Series对象s2\n",
    "print(\"s2:\",s2)\n",
    "\n",
    "# 输出列表对象my_list\n",
    "print(\"my_list:\",my_list)"
   ]
  },
  {
   "cell_type": "code",
   "execution_count": 74,
   "metadata": {},
   "outputs": [
    {
     "name": "stdout",
     "output_type": "stream",
     "text": [
      "{'Beijing': 2200, 'Shanghai': 2500, 'Shenzhen': 1700}\n"
     ]
    }
   ],
   "source": [
    "# 使用字典作为数据源的时会复制一份\n",
    "dict_data1 = {\n",
    "    \"Beijing\":2200,\n",
    "    \"Shanghai\":2500,\n",
    "    \"Shenzhen\":1700\n",
    "}\n",
    "data1 = pd.Series(dict_data1)\n",
    "data1[0]=999\n",
    "print(dict_data1)"
   ]
  },
  {
   "cell_type": "markdown",
   "metadata": {},
   "source": [
    "# Series的索引/切片\n",
    "\n",
    "### 1.下标索引\n",
    "\n",
    "类似于 列表索引"
   ]
  },
  {
   "cell_type": "code",
   "execution_count": 76,
   "metadata": {},
   "outputs": [
    {
     "name": "stdout",
     "output_type": "stream",
     "text": [
      "0    0.189130\n",
      "1    0.171232\n",
      "2    0.831801\n",
      "3    0.964998\n",
      "4    0.051330\n",
      "dtype: float64\n",
      "0.9649980525520514 <class 'numpy.float64'> float64\n"
     ]
    }
   ],
   "source": [
    "s = pd.Series(np.random.rand(5))\n",
    "print(s)\n",
    "# s[3]是numpy float64类型的\n",
    "print(s[3], type(s[3]), s[3].dtype)"
   ]
  },
  {
   "cell_type": "markdown",
   "metadata": {},
   "source": [
    "使用索引标签访问同时访问多个值"
   ]
  },
  {
   "cell_type": "code",
   "execution_count": 7,
   "metadata": {},
   "outputs": [
    {
     "name": "stdout",
     "output_type": "stream",
     "text": [
      "<class 'pandas.core.series.Series'>\n",
      "a     6\n",
      "c     8\n",
      "e    10\n",
      "dtype: int32\n",
      "a    999\n",
      "c      8\n",
      "e     10\n",
      "dtype: int32\n",
      "a     6\n",
      "b     7\n",
      "c     8\n",
      "d     9\n",
      "e    10\n",
      "dtype: int32\n"
     ]
    }
   ],
   "source": [
    "s= pd.Series(data= np.arange(6,11),index=list('abcde'))\n",
    "# 注意里边还嵌套一层列表，最后得到还是Series类型 .取出来会进行复制\n",
    "s1= s[['a','c','e']]\n",
    "print(type(s1))\n",
    "print(s1)\n",
    "# 不会修改原来的值\n",
    "s1['a']=999\n",
    "print(s1)\n",
    "print(s)"
   ]
  },
  {
   "cell_type": "markdown",
   "metadata": {},
   "source": [
    "### 3. 切片\n",
    "- Series使用标签切片运算与普通的Python切片运算不同：Series使用标签切片时，其末端是包含的。\n",
    "- Series使用python切片运算即使用位置数值切片（下表切片，位置索引），其末端是不包含。"
   ]
  },
  {
   "cell_type": "markdown",
   "metadata": {},
   "source": [
    "#### 通过下标切片的方式访问 Series 序列中的数据，示例如下："
   ]
  },
  {
   "cell_type": "code",
   "execution_count": 8,
   "metadata": {},
   "outputs": [
    {
     "data": {
      "text/plain": [
       "0    0.615646\n",
       "1    0.384411\n",
       "2    0.817059\n",
       "3    0.375394\n",
       "4    0.191842\n",
       "5    0.710905\n",
       "6    0.560208\n",
       "7    0.531109\n",
       "8    0.734969\n",
       "9    0.109635\n",
       "dtype: float64"
      ]
     },
     "execution_count": 8,
     "metadata": {},
     "output_type": "execute_result"
    }
   ],
   "source": [
    "s = pd.Series(np.random.rand(10))\n",
    "s"
   ]
  },
  {
   "cell_type": "code",
   "execution_count": 9,
   "metadata": {},
   "outputs": [
    {
     "data": {
      "text/plain": [
       "1    0.384411\n",
       "2    0.817059\n",
       "3    0.375394\n",
       "4    0.191842\n",
       "dtype: float64"
      ]
     },
     "execution_count": 9,
     "metadata": {},
     "output_type": "execute_result"
    }
   ],
   "source": [
    "# 位置索引和标签索引刚好一致,使用切片时,如果是数值会认为是python切片运算,不包含末端\n",
    "s[1:5]"
   ]
  },
  {
   "cell_type": "code",
   "execution_count": 10,
   "metadata": {},
   "outputs": [
    {
     "name": "stdout",
     "output_type": "stream",
     "text": [
      "a    1\n",
      "b    2\n",
      "c    3\n",
      "d    4\n",
      "e    5\n",
      "dtype: int64\n",
      "b    2\n",
      "c    3\n",
      "d    4\n",
      "dtype: int64\n"
     ]
    }
   ],
   "source": [
    "s = pd.Series([1,2,3,4,5],index = ['a','b','c','d','e'])\n",
    "print(s)\n",
    "print(s[1:4])\n",
    "# print(s[0])  #位置下标\n",
    "# print(s['a']) #标签"
   ]
  },
  {
   "cell_type": "code",
   "execution_count": 11,
   "metadata": {},
   "outputs": [
    {
     "name": "stdout",
     "output_type": "stream",
     "text": [
      "a    1\n",
      "b    2\n",
      "c    3\n",
      "dtype: int64\n"
     ]
    }
   ],
   "source": [
    "s = pd.Series([1,2,3,4,5],index = ['a','b','c','d','e'])\n",
    "print(s[:3])"
   ]
  },
  {
   "cell_type": "code",
   "execution_count": 13,
   "metadata": {},
   "outputs": [
    {
     "name": "stdout",
     "output_type": "stream",
     "text": [
      "c    3\n",
      "d    4\n",
      "e    5\n",
      "dtype: int64\n"
     ]
    }
   ],
   "source": [
    "# 如果想要获取最后三个元素，也可以使用下面的方式： \n",
    "s = pd.Series([1,2,3,4,5],index = ['a','b','c','d','e'])\n",
    "print(s[-3:])"
   ]
  },
  {
   "cell_type": "markdown",
   "metadata": {},
   "source": [
    "通过标签切片的方式访问 Series 序列中的数据，示例如下。（注意:使用标签切片的时候包含末端）"
   ]
  },
  {
   "cell_type": "code",
   "execution_count": 14,
   "metadata": {},
   "outputs": [
    {
     "data": {
      "text/plain": [
       "b    7\n",
       "c    8\n",
       "d    9\n",
       "dtype: int64"
      ]
     },
     "execution_count": 14,
     "metadata": {},
     "output_type": "execute_result"
    }
   ],
   "source": [
    "s1= pd.Series([6,7,8,9,10],index = ['a','b','c','d','e'])\n",
    "s1[\"b\":\"d\"]"
   ]
  },
  {
   "cell_type": "code",
   "execution_count": 15,
   "metadata": {},
   "outputs": [
    {
     "data": {
      "text/plain": [
       "c     8\n",
       "b     9\n",
       "a    10\n",
       "dtype: int64"
      ]
     },
     "execution_count": 15,
     "metadata": {},
     "output_type": "execute_result"
    }
   ],
   "source": [
    "s1= pd.Series([6,7,8,9,10],index = ['e','d','c','b','a'])\n",
    "s1[\"c\":\"a\"]"
   ]
  },
  {
   "cell_type": "code",
   "execution_count": 16,
   "metadata": {
    "scrolled": true
   },
   "outputs": [
    {
     "data": {
      "text/plain": [
       "c    8\n",
       "dtype: int64"
      ]
     },
     "execution_count": 16,
     "metadata": {},
     "output_type": "execute_result"
    }
   ],
   "source": [
    "s1[\"c\":\"c\"] # 只有一个"
   ]
  },
  {
   "cell_type": "code",
   "execution_count": 17,
   "metadata": {},
   "outputs": [
    {
     "data": {
      "text/plain": [
       "e     6\n",
       "d     7\n",
       "a     8\n",
       "b     9\n",
       "a    10\n",
       "dtype: int64"
      ]
     },
     "execution_count": 17,
     "metadata": {},
     "output_type": "execute_result"
    }
   ],
   "source": [
    "s1= pd.Series([6,7,8,9,10],index = ['e','d','a','b','a'])\n",
    "s1"
   ]
  },
  {
   "cell_type": "markdown",
   "metadata": {},
   "source": [
    "<font color=\"red\">注意：</font>\n",
    "\n",
    "在上面的索引方式，我们知道了位置索引和标签索引在index为数值类型时候的不同，\n",
    "- 当index为数值类型的时候，使用位置索引会抛出keyerror的异常，也就是说当index为数值类型的时候，索引使用的是标签索引。\n",
    "- 但是在切片的时候，有很大的不同，如果index为数值类型的时候，切片使用的是位置切片。总的来说，当index为数值类型的时候：\n",
    "\n",
    " - 进行索引的时候，相当于使用的是标签索引；\n",
    " - 进行切片的时候，相当于使用的是位置切片；"
   ]
  },
  {
   "cell_type": "markdown",
   "metadata": {},
   "source": [
    "# Series数据结构 基本技巧\n",
    "\n",
    "<b>1. 查看前几条和后几条数据</b>"
   ]
  },
  {
   "cell_type": "code",
   "execution_count": 19,
   "metadata": {},
   "outputs": [
    {
     "data": {
      "text/plain": [
       "0     0.288460\n",
       "1     0.428130\n",
       "2     0.160086\n",
       "3     0.570440\n",
       "4     0.920866\n",
       "5     0.653114\n",
       "6     0.803871\n",
       "7     0.030431\n",
       "8     0.677167\n",
       "9     0.378770\n",
       "10    0.669765\n",
       "11    0.939041\n",
       "12    0.271055\n",
       "13    0.085259\n",
       "14    0.536311\n",
       "dtype: float64"
      ]
     },
     "execution_count": 19,
     "metadata": {},
     "output_type": "execute_result"
    }
   ],
   "source": [
    "s = pd.Series(np.random.rand(15))\n",
    "s"
   ]
  },
  {
   "cell_type": "code",
   "execution_count": 21,
   "metadata": {},
   "outputs": [
    {
     "name": "stdout",
     "output_type": "stream",
     "text": [
      "0    0.288460\n",
      "1    0.428130\n",
      "2    0.160086\n",
      "3    0.570440\n",
      "4    0.920866\n",
      "dtype: float64\n",
      "0    0.288460\n",
      "1    0.428130\n",
      "2    0.160086\n",
      "dtype: float64\n"
     ]
    }
   ],
   "source": [
    "print(s.head())# 默认显示前5条数据\n",
    "print(s.head(3))"
   ]
  },
  {
   "cell_type": "code",
   "execution_count": 23,
   "metadata": {},
   "outputs": [
    {
     "name": "stdout",
     "output_type": "stream",
     "text": [
      "10    0.669765\n",
      "11    0.939041\n",
      "12    0.271055\n",
      "13    0.085259\n",
      "14    0.536311\n",
      "dtype: float64\n"
     ]
    }
   ],
   "source": [
    "print(s.tail())"
   ]
  },
  {
   "cell_type": "markdown",
   "metadata": {},
   "source": [
    "<b>2. 重新索引: reindex</b>\n",
    "\n",
    "使用可选填充逻辑, 使Series符合新索引\n",
    "\n",
    "将NaN放在上一个索引中没有值的位置。除非新索引等同于当前索引,并且生成新对象。"
   ]
  },
  {
   "cell_type": "code",
   "execution_count": 29,
   "metadata": {},
   "outputs": [
    {
     "name": "stdout",
     "output_type": "stream",
     "text": [
      "============s=========\n",
      "a    0.929305\n",
      "b    0.321515\n",
      "c    0.632346\n",
      "d    0.533034\n",
      "e    0.972225\n",
      "dtype: float64\n",
      "c    0.632346\n",
      "d    0.533034\n",
      "e    0.972225\n",
      "f         NaN\n",
      "dtype: float64\n"
     ]
    }
   ],
   "source": [
    "s = pd.Series(np.random.rand(5),index=list(\"abcde\"))\n",
    "print(\"============s=========\")\n",
    "print(s)\n",
    "# 重新给定索引，如果不存在相应的值，默认设置为0\n",
    "s1 = s.reindex(list('cdef'))\n",
    "print(s1)"
   ]
  },
  {
   "cell_type": "code",
   "execution_count": 30,
   "metadata": {},
   "outputs": [
    {
     "name": "stdout",
     "output_type": "stream",
     "text": [
      "c    0.632346\n",
      "d    0.533034\n",
      "e    0.972225\n",
      "f    0.000000\n",
      "dtype: float64\n"
     ]
    }
   ],
   "source": [
    "s1 = s.reindex(list('cdef'),fill_value=0) #设置不存在时候的填充值\n",
    "print(s1)"
   ]
  },
  {
   "cell_type": "markdown",
   "metadata": {},
   "source": [
    "<b>3.对齐运算</b>\n",
    "\n",
    "是数据清洗的重要过程，可以按索引对齐进行运算，如果没对齐的位置则补NaN，最后也可以填充NaN"
   ]
  },
  {
   "cell_type": "code",
   "execution_count": 32,
   "metadata": {},
   "outputs": [
    {
     "name": "stdout",
     "output_type": "stream",
     "text": [
      "==========s1=========\n",
      "Kelly    0.508221\n",
      "Anne     0.445890\n",
      "T-C      0.202936\n",
      "dtype: float64\n",
      "==========s2=========\n",
      "Anne     0.489077\n",
      "Kelly    0.228615\n",
      "LiLy     0.679142\n",
      "dtype: float64\n",
      "==========s1+s2=========\n",
      "Anne     0.934967\n",
      "Kelly    0.736836\n",
      "LiLy          NaN\n",
      "T-C           NaN\n",
      "dtype: float64\n"
     ]
    }
   ],
   "source": [
    "\n",
    "s1 = pd.Series(np.random.rand(3), index=[\"Kelly\",\"Anne\",\"T-C\"])\n",
    "\n",
    "s2 = pd.Series(np.random.rand(3), index=[\"Anne\",\"Kelly\",\"LiLy\"])\n",
    "\n",
    "print(\"==========s1=========\")\n",
    "print(s1)\n",
    "print(\"==========s2=========\")\n",
    "print(s2)\n",
    "print(\"==========s1+s2=========\")\n",
    "# 如果两组数据中存在相同的标签，将相同标签对应的值相加合并，不存在则无法进行合并，设置为NaN\n",
    "print(s1+s2)"
   ]
  },
  {
   "cell_type": "markdown",
   "metadata": {},
   "source": [
    "<b>4.删除和添加</b>\n",
    "- 删除"
   ]
  },
  {
   "cell_type": "code",
   "execution_count": 33,
   "metadata": {},
   "outputs": [
    {
     "name": "stdout",
     "output_type": "stream",
     "text": [
      "a    0.993885\n",
      "b    0.906613\n",
      "c    0.592481\n",
      "d    0.625223\n",
      "e    0.309907\n",
      "dtype: float64\n",
      "b    0.906613\n",
      "c    0.592481\n",
      "d    0.625223\n",
      "e    0.309907\n",
      "dtype: float64\n",
      "a    0.993885\n",
      "b    0.906613\n",
      "c    0.592481\n",
      "d    0.625223\n",
      "e    0.309907\n",
      "dtype: float64\n"
     ]
    }
   ],
   "source": [
    "s = pd.Series(np.random.rand(5),index=list(\"abcde\"))\n",
    "print(s)\n",
    " # 不修改原来的值，返回修改的值\n",
    "s1 = s.drop(\"a\")\n",
    "print(s1) \n",
    "print(s)"
   ]
  },
  {
   "cell_type": "code",
   "execution_count": null,
   "metadata": {
    "scrolled": true
   },
   "outputs": [],
   "source": [
    "s = pd.Series(np.random.rand(5),index=list(\"abcde\"))\n",
    "s1 = s.drop(\"a\",inplace=True) # 原值发生变化,返回None\n",
    "#s = s.drop(\"a\")\n",
    "print(s1) \n",
    "print(s)\n",
    "\n",
    "# inplace默认默认为True,返回None"
   ]
  },
  {
   "cell_type": "markdown",
   "metadata": {},
   "source": [
    "- 添加"
   ]
  },
  {
   "cell_type": "code",
   "execution_count": 35,
   "metadata": {},
   "outputs": [
    {
     "name": "stdout",
     "output_type": "stream",
     "text": [
      "a    0.306814\n",
      "b    0.421059\n",
      "c    0.315490\n",
      "d    0.648909\n",
      "e    0.217387\n",
      "dtype: float64\n",
      "a      0.306814\n",
      "b      0.421059\n",
      "c      0.315490\n",
      "d      0.648909\n",
      "e      0.217387\n",
      "s    100.000000\n",
      "dtype: float64\n",
      "a      0.306814\n",
      "b      0.421059\n",
      "c      0.315490\n",
      "d      0.648909\n",
      "e      0.217387\n",
      "s    100.000000\n",
      "0      4.000000\n",
      "1      5.000000\n",
      "dtype: float64\n"
     ]
    }
   ],
   "source": [
    "import pandas as pd\n",
    "# 添加\n",
    "s1 = pd.Series(np.random.rand(5),index=list(\"abcde\"))\n",
    "print(s1)\n",
    "\n",
    "s1[\"s\"] = 100  # 对应的标签没有就是添加,,有就是修改\n",
    "print(s1)\n",
    "# 不改变原来的值，返回修改后的值\n",
    "s2=s1.append(pd.Series([4,5]))\n",
    "print(s2)\n"
   ]
  },
  {
   "cell_type": "code",
   "execution_count": null,
   "metadata": {},
   "outputs": [],
   "source": []
  }
 ],
 "metadata": {
  "kernelspec": {
   "display_name": "Python 3",
   "language": "python",
   "name": "python3"
  },
  "language_info": {
   "codemirror_mode": {
    "name": "ipython",
    "version": 3
   },
   "file_extension": ".py",
   "mimetype": "text/x-python",
   "name": "python",
   "nbconvert_exporter": "python",
   "pygments_lexer": "ipython3",
   "version": "3.7.6"
  }
 },
 "nbformat": 4,
 "nbformat_minor": 4
}
